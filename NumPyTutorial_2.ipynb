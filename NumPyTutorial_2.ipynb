{
  "nbformat": 4,
  "nbformat_minor": 0,
  "metadata": {
    "colab": {
      "name": "NumPyTutorial_2.ipynb",
      "provenance": [],
      "collapsed_sections": [],
      "authorship_tag": "ABX9TyNFRaySw67fHFvXwS8gDN4f",
      "include_colab_link": true
    },
    "kernelspec": {
      "name": "python3",
      "display_name": "Python 3"
    }
  },
  "cells": [
    {
      "cell_type": "markdown",
      "metadata": {
        "id": "view-in-github",
        "colab_type": "text"
      },
      "source": [
        "<a href=\"https://colab.research.google.com/github/StranGer-48/Data-Analysis/blob/main/NumPyTutorial_2.ipynb\" target=\"_parent\"><img src=\"https://colab.research.google.com/assets/colab-badge.svg\" alt=\"Open In Colab\"/></a>"
      ]
    },
    {
      "cell_type": "code",
      "metadata": {
        "id": "s59TRg7auD28"
      },
      "source": [
        "import numpy as np"
      ],
      "execution_count": 30,
      "outputs": []
    },
    {
      "cell_type": "markdown",
      "metadata": {
        "id": "o5GE5pSpueAG"
      },
      "source": [
        "**Indexing and Slicing of NumPy array**\n",
        "\n",
        "In the previous [turorial](https://github.com/StranGer-48/Data-Analysis/blob/main/NumPyTutorial_1.ipynb) we have seen how to create a NumPy array and how to play around with its shape. In this tutorial we will see how to extract specific values from the array using indexing and slicing."
      ]
    },
    {
      "cell_type": "markdown",
      "metadata": {
        "id": "6x2KFaG6vAcX"
      },
      "source": [
        "**Slicing 1-D NumPy arrays**\n",
        "\n",
        "Slicing means retrieving elements from one index to another index. All we have to do is to pass the starting and ending point in the index like this: [start:end].\n",
        "\n",
        "However, you can even take it up a notch by passing the step-size. Well, suppose you wanted to print every other element from the array, you would define your step-size as 2, meaning get the element 2 places away from the present index.\n",
        "\n",
        "Incorparating all this into a single index would look something like this: [start:end:step-size]."
      ]
    },
    {
      "cell_type": "code",
      "metadata": {
        "id": "3RswFXEXudUg",
        "outputId": "77ea372e-f058-4a61-fe36-8844bcc2a9d5",
        "colab": {
          "base_uri": "https://localhost:8080/"
        }
      },
      "source": [
        "a = np.array([1,2,3,4,5,6])\n",
        "print(a[1:5:2])"
      ],
      "execution_count": 31,
      "outputs": [
        {
          "output_type": "stream",
          "text": [
            "[2 4]\n"
          ],
          "name": "stdout"
        }
      ]
    },
    {
      "cell_type": "markdown",
      "metadata": {
        "id": "Ou6rpn_2wEn_"
      },
      "source": [
        "Notice that the last element did not get considered. This is because slicing includes the start index but excludes the end index.\n",
        "\n",
        "If you don't specify the start or end index, it is taken as 0 or array size, respectively, as default. And the step-size by default is 1."
      ]
    },
    {
      "cell_type": "code",
      "metadata": {
        "id": "yX-hwNt6v9TI",
        "outputId": "5a6a5113-9ad5-4810-b6c3-f18cac55a469",
        "colab": {
          "base_uri": "https://localhost:8080/"
        }
      },
      "source": [
        "a = np.array([1,2,3,4,5,6])\n",
        "print(a[:6:2])\n",
        "print(a[1::2])\n",
        "print(a[1:6:])"
      ],
      "execution_count": 32,
      "outputs": [
        {
          "output_type": "stream",
          "text": [
            "[1 3 5]\n",
            "[2 4 6]\n",
            "[2 3 4 5 6]\n"
          ],
          "name": "stdout"
        }
      ]
    },
    {
      "cell_type": "markdown",
      "metadata": {
        "id": "7SkybOl1x59n"
      },
      "source": [
        "**Slicing 2-D NumPy arrays**\n",
        "\n",
        "Mow, a 2-D array has rows and columns so it can get a little tricky to slice 2-D arrays. But once you understand it, you can slice any dimension array!\n",
        "\n",
        "Before learning how to slice a 2-D array, let's have a look at how to retrieve an element from a 2-D array:"
      ]
    },
    {
      "cell_type": "code",
      "metadata": {
        "id": "sUD9fIOVxv0-",
        "outputId": "6f223a6b-b86a-4c63-a5ac-63d273d7aa41",
        "colab": {
          "base_uri": "https://localhost:8080/"
        }
      },
      "source": [
        "a = np.array([[1,2,3],[4,5,6]])\n",
        "print(a[0,0])\n",
        "print(a[1,2])\n",
        "print(a[1,0])\n"
      ],
      "execution_count": 33,
      "outputs": [
        {
          "output_type": "stream",
          "text": [
            "1\n",
            "6\n",
            "4\n"
          ],
          "name": "stdout"
        }
      ]
    },
    {
      "cell_type": "markdown",
      "metadata": {
        "id": "6zEo6wn0ysOA"
      },
      "source": [
        "Here, we provided the row value and column value to identify the element we wanted to extract. While in a 1-D array, we were only providing the column value since there was only 1 row.\n",
        "\n",
        "So, to slice a 2-D array, you need to mention the slices for both,the row and the column:\n"
      ]
    },
    {
      "cell_type": "code",
      "metadata": {
        "id": "xwA2-4PAyqXw",
        "outputId": "ad309520-16c2-4d12-be8b-6de22b8e2c92",
        "colab": {
          "base_uri": "https://localhost:8080/"
        }
      },
      "source": [
        "a = np.array([[1,2,3],[4,5,6]])\n",
        "# print first row values\n",
        "print('First row values :','\\n',a[0:1,:])\n",
        "# with step-size for columns\n",
        "print('Alternate values from first row :','\\n',a[0:1,::2])\n",
        "print('Second column values :','\\n',a[:,1::2])\n",
        "print('Arbitrary values :','\\n',a[0:1,1:3])"
      ],
      "execution_count": 34,
      "outputs": [
        {
          "output_type": "stream",
          "text": [
            "First row values : \n",
            " [[1 2 3]]\n",
            "Alternate values from first row : \n",
            " [[1 3]]\n",
            "Second column values : \n",
            " [[2]\n",
            " [5]]\n",
            "Arbitrary values : \n",
            " [[2 3]]\n"
          ],
          "name": "stdout"
        }
      ]
    },
    {
      "cell_type": "markdown",
      "metadata": {
        "id": "uTK35JEv0mOi"
      },
      "source": [
        "So far we haven't seen a 3-D array. Let's first visualize how a 3-D array looks like:\n"
      ]
    },
    {
      "cell_type": "code",
      "metadata": {
        "id": "IUIE_3Hczweh",
        "outputId": "cbde5f4b-af21-40b5-97e7-ecf5e9c0abc2",
        "colab": {
          "base_uri": "https://localhost:8080/"
        }
      },
      "source": [
        "a = np.array([[[1,2],[3,4],[5,6]],\n",
        "              [[7,8],[9,10],[11,12]],\n",
        "              [[13,14],[15,16],[17,18]]])\n",
        "print(a)"
      ],
      "execution_count": 35,
      "outputs": [
        {
          "output_type": "stream",
          "text": [
            "[[[ 1  2]\n",
            "  [ 3  4]\n",
            "  [ 5  6]]\n",
            "\n",
            " [[ 7  8]\n",
            "  [ 9 10]\n",
            "  [11 12]]\n",
            "\n",
            " [[13 14]\n",
            "  [15 16]\n",
            "  [17 18]]]\n"
          ],
          "name": "stdout"
        }
      ]
    },
    {
      "cell_type": "markdown",
      "metadata": {
        "id": "cuMBeGpw1RCs"
      },
      "source": [
        "In additon to the row and\n",
        "\n",
        " columns, as in 2-D array, a 3-D array also has a depth axis where it stacks one 2-D array behind the other. So, when you are slicing a 3-D array, you also need to mention which 2-D array you are slicing. This usually comes as the first value in the index:"
      ]
    },
    {
      "cell_type": "code",
      "metadata": {
        "id": "uykUl93L1I0i",
        "outputId": "2df97878-2010-43d7-abdf-0f4df4bab884",
        "colab": {
          "base_uri": "https://localhost:8080/"
        }
      },
      "source": [
        "print('First array, first row, first column value :', '\\n',a[0,0,0])\n",
        "print('First array last column :','\\n',a[0,:,1])\n",
        "print('First two rows for second and third arrays :','\\n',a[1:,0:2,0:2])"
      ],
      "execution_count": 36,
      "outputs": [
        {
          "output_type": "stream",
          "text": [
            "First array, first row, first column value : \n",
            " 1\n",
            "First array last column : \n",
            " [2 4 6]\n",
            "First two rows for second and third arrays : \n",
            " [[[ 7  8]\n",
            "  [ 9 10]]\n",
            "\n",
            " [[13 14]\n",
            "  [15 16]]]\n"
          ],
          "name": "stdout"
        }
      ]
    },
    {
      "cell_type": "markdown",
      "metadata": {
        "id": "-TRfkhhO2uoK"
      },
      "source": [
        "If in case you wanted the values as a single dimention array, you can always use the flatten() method to do the job!\n"
      ]
    },
    {
      "cell_type": "code",
      "metadata": {
        "id": "hhqTcDHE2NTk",
        "outputId": "15b9ec8a-c5e3-4927-eaa9-57afccd1234d",
        "colab": {
          "base_uri": "https://localhost:8080/"
        }
      },
      "source": [
        "print('Printing as a single array :','\\n',a[1:,0:2,0:2].flatten())"
      ],
      "execution_count": 37,
      "outputs": [
        {
          "output_type": "stream",
          "text": [
            "Printing as a single array : \n",
            " [ 7  8  9 10 13 14 15 16]\n"
          ],
          "name": "stdout"
        }
      ]
    },
    {
      "cell_type": "markdown",
      "metadata": {
        "id": "-SPZtu-J34jH"
      },
      "source": [
        "**Negative slicing of NumPy arrays**\n",
        "\n",
        "An interesting way to slice your array is to use negative slicing. Negative slicing prints elements from the end rather than the beginning. Have a look below:\n"
      ]
    },
    {
      "cell_type": "code",
      "metadata": {
        "id": "H2ZYhJgi3KFF",
        "outputId": "a9c58375-5c3b-4679-f71f-e35534adad69",
        "colab": {
          "base_uri": "https://localhost:8080/"
        }
      },
      "source": [
        "a = np.array([[1,2,3,4,5],[6,7,8,9,10]])\n",
        "print(a[:,-1])"
      ],
      "execution_count": 38,
      "outputs": [
        {
          "output_type": "stream",
          "text": [
            "[ 5 10]\n"
          ],
          "name": "stdout"
        }
      ]
    },
    {
      "cell_type": "markdown",
      "metadata": {
        "id": "xTn3btGu4X44"
      },
      "source": [
        "Here, the last values for each row were printed. If, however, we wanted to extract from the end, we would have to explicitly provide a negative step-size otherwise the result would be an empty list."
      ]
    },
    {
      "cell_type": "code",
      "metadata": {
        "id": "i0c1PwQx4U0s",
        "outputId": "1bf52fad-5701-4fa3-d663-eaa40217584e",
        "colab": {
          "base_uri": "https://localhost:8080/"
        }
      },
      "source": [
        "print(a[:,-1:-3:-1])"
      ],
      "execution_count": 39,
      "outputs": [
        {
          "output_type": "stream",
          "text": [
            "[[ 5  4]\n",
            " [10  9]]\n"
          ],
          "name": "stdout"
        }
      ]
    },
    {
      "cell_type": "markdown",
      "metadata": {
        "id": "-kDoh7564-IR"
      },
      "source": [
        "An intersting use of negative slicing is to reverse the original array."
      ]
    },
    {
      "cell_type": "code",
      "metadata": {
        "id": "lQSh7Wzo43GI",
        "outputId": "4fa9217f-598d-4e41-9970-de1fa0231f25",
        "colab": {
          "base_uri": "https://localhost:8080/"
        }
      },
      "source": [
        "a = np.array([[1,2,3,4,5],\n",
        "[6,7,8,9,10]])\n",
        "print('Original array :','\\n',a)\n",
        "print('Reversed array :','\\n',a[::-1,::-1])"
      ],
      "execution_count": 40,
      "outputs": [
        {
          "output_type": "stream",
          "text": [
            "Original array : \n",
            " [[ 1  2  3  4  5]\n",
            " [ 6  7  8  9 10]]\n",
            "Reversed array : \n",
            " [[10  9  8  7  6]\n",
            " [ 5  4  3  2  1]]\n"
          ],
          "name": "stdout"
        }
      ]
    },
    {
      "cell_type": "markdown",
      "metadata": {
        "id": "aIoyBiGM5Umb"
      },
      "source": [
        "You can also use the [np.flip()](https://numpy.org/doc/stable/reference/generated/numpy.flip.html#numpy.flip) method to reverse an ndarray."
      ]
    },
    {
      "cell_type": "code",
      "metadata": {
        "id": "DPqp1DHw5jqy",
        "outputId": "539d2313-3e15-42f8-8d98-ada9cf18a402",
        "colab": {
          "base_uri": "https://localhost:8080/"
        }
      },
      "source": [
        "a = np.array([[1,2,3,4,5],\n",
        "[6,7,8,9,10]])\n",
        "print('Original array :','\\n',a)\n",
        "print('Reversed array vertically :','\\n',np.flip(a,axis=1))\n",
        "print('Reversed array horizontally :','\\n',np.flip(a,axis=0))"
      ],
      "execution_count": 41,
      "outputs": [
        {
          "output_type": "stream",
          "text": [
            "Original array : \n",
            " [[ 1  2  3  4  5]\n",
            " [ 6  7  8  9 10]]\n",
            "Reversed array vertically : \n",
            " [[ 5  4  3  2  1]\n",
            " [10  9  8  7  6]]\n",
            "Reversed array horizontally : \n",
            " [[ 6  7  8  9 10]\n",
            " [ 1  2  3  4  5]]\n"
          ],
          "name": "stdout"
        }
      ]
    },
    {
      "cell_type": "markdown",
      "metadata": {
        "id": "LrrGOFfW51y5"
      },
      "source": [
        "**Stacking and Concatenating NumPy arrays**\n",
        "\n",
        "**Stacking ndarrays**\n",
        "\n",
        "You can create a new array by combining existing arrays. This you can do in two ways:\n",
        "  * Either combine the arrays vetically (i.e. along the rows) using the [np.vstack()](https://numpy.org/doc/stable/reference/generated/numpy.vstack.html#numpy.vstack) method, thereby incresing the number of rows in the resulting array\n",
        "  * Or combine the arrays in a horizontal fashion (i.e. along the columns) using the [np.hstack()](https://numpy.org/doc/stable/reference/generated/numpy.hstack.html#numpy.hstack), thereby increasing the number of columns in the resulting array"
      ]
    },
    {
      "cell_type": "code",
      "metadata": {
        "id": "JuzRNIfd5jl6",
        "outputId": "3e3ee1b9-be95-40c8-c9aa-ed7879dc41ca",
        "colab": {
          "base_uri": "https://localhost:8080/"
        }
      },
      "source": [
        "a = np.arange(0,5)\n",
        "b = np.arange(5,10)\n",
        "print('Array 1 :','\\n',a)\n",
        "print('Array 2 :','\\n',b)\n",
        "print('Vertical stacking :','\\n',np.vstack((a,b)))\n",
        "print('Horizontal stacking :','\\n',np.hstack((a,b)))"
      ],
      "execution_count": 42,
      "outputs": [
        {
          "output_type": "stream",
          "text": [
            "Array 1 : \n",
            " [0 1 2 3 4]\n",
            "Array 2 : \n",
            " [5 6 7 8 9]\n",
            "Vertical stacking : \n",
            " [[0 1 2 3 4]\n",
            " [5 6 7 8 9]]\n",
            "Horizontal stacking : \n",
            " [0 1 2 3 4 5 6 7 8 9]\n"
          ],
          "name": "stdout"
        }
      ]
    },
    {
      "cell_type": "markdown",
      "metadata": {
        "id": "b8P9ok-Z7HK0"
      },
      "source": [
        "A point to note here is that the axis along which you are combining the array should have the same size otherwise you are bound to ger an error!"
      ]
    },
    {
      "cell_type": "markdown",
      "metadata": {
        "id": "kC0WltFH7T_R"
      },
      "source": [
        "Another intersting way to combine arrays is using the [np.dstack()](https://numpy.org/doc/stable/reference/generated/numpy.dstack.html#numpy.dstack) method. It combine array elements index by index and stacks them along the depth axis:"
      ]
    },
    {
      "cell_type": "code",
      "metadata": {
        "id": "rUT_sN8W6_A1",
        "outputId": "fd9119db-6ad7-4cae-8d45-5aa91de68fed",
        "colab": {
          "base_uri": "https://localhost:8080/"
        }
      },
      "source": [
        "a = [[1,2],[3,4]]\n",
        "b = [[5,6],[7,8]]\n",
        "c = np.dstack((a,b))\n",
        "print('Array 1 :','\\n',a)\n",
        "print('Array 2 :','\\n',b)\n",
        "print('Dstack :','\\n',c)\n",
        "print(c.shape)"
      ],
      "execution_count": 43,
      "outputs": [
        {
          "output_type": "stream",
          "text": [
            "Array 1 : \n",
            " [[1, 2], [3, 4]]\n",
            "Array 2 : \n",
            " [[5, 6], [7, 8]]\n",
            "Dstack : \n",
            " [[[1 5]\n",
            "  [2 6]]\n",
            "\n",
            " [[3 7]\n",
            "  [4 8]]]\n",
            "(2, 2, 2)\n"
          ],
          "name": "stdout"
        }
      ]
    },
    {
      "cell_type": "markdown",
      "metadata": {
        "id": "l-YgG6u477x2"
      },
      "source": [
        "**Concatenating ndarrays**\n",
        "\n",
        "While stacking arrays is one way of combining old arrays to ger a new one, you could also use the [np.concatenate()](https://numpy.org/doc/stable/reference/generated/numpy.concatenate.html#numpy.concatenate) method where the passed arrays are joined along an existing axis:"
      ]
    },
    {
      "cell_type": "code",
      "metadata": {
        "id": "qEfaKt7w8gua",
        "outputId": "952068ff-4a69-4905-f700-2b2db12f9e4f",
        "colab": {
          "base_uri": "https://localhost:8080/"
        }
      },
      "source": [
        "a = np.arange(0,5).reshape(1,5)\n",
        "b = np.arange(5,10).reshape(1,5)\n",
        "print('Array 1 :','\\n',a)\n",
        "print('Array 2 :','\\n',b)\n",
        "print('Concatenate along rows :','\\n',np.concatenate((a,b),axis=0))\n",
        "print('Concatenate along columns :','\\n',np.concatenate((a,b),axis=1))"
      ],
      "execution_count": 44,
      "outputs": [
        {
          "output_type": "stream",
          "text": [
            "Array 1 : \n",
            " [[0 1 2 3 4]]\n",
            "Array 2 : \n",
            " [[5 6 7 8 9]]\n",
            "Concatenate along rows : \n",
            " [[0 1 2 3 4]\n",
            " [5 6 7 8 9]]\n",
            "Concatenate along columns : \n",
            " [[0 1 2 3 4 5 6 7 8 9]]\n"
          ],
          "name": "stdout"
        }
      ]
    },
    {
      "cell_type": "markdown",
      "metadata": {
        "id": "efWXLGk98m8q"
      },
      "source": [
        "The drawback of this method is that the original array must have the axis along which you want to combine. Otherwise, get ready to greeted by an error.\n",
        "\n",
        "Another very useful function is to [np.append()](https://numpy.org/doc/stable/reference/generated/numpy.append.html#numpy.append) method that adds new elements to the end of a ndarray. This is obviously useful when you already have an existing ndarray but want to add new values to it.\n"
      ]
    },
    {
      "cell_type": "code",
      "metadata": {
        "id": "BsfCn6ag8krv",
        "outputId": "c953b92d-f5c9-4147-eb9d-d31be3c03f84",
        "colab": {
          "base_uri": "https://localhost:8080/"
        }
      },
      "source": [
        "a = np.array([[1,2],\n",
        "              [3,4]])\n",
        "np.append(a,[[5,6]],axis=0)"
      ],
      "execution_count": 45,
      "outputs": [
        {
          "output_type": "execute_result",
          "data": {
            "text/plain": [
              "array([[1, 2],\n",
              "       [3, 4],\n",
              "       [5, 6]])"
            ]
          },
          "metadata": {
            "tags": []
          },
          "execution_count": 45
        }
      ]
    },
    {
      "cell_type": "markdown",
      "metadata": {
        "id": "XiwBAt8T9leX"
      },
      "source": [
        " **Broadcasting in NumPy arrays - A class apart**\n",
        "\n",
        " Broadcasting is one of the best feature of ndarrays. It lets you perform arithmetics operations between ndarrays of different sized or between an ndarray and a simple number!\n",
        "\n",
        " Broadcasting essentially strtches the smaller ndarray so that it matches the shape of the larger ndarray:"
      ]
    },
    {
      "cell_type": "code",
      "metadata": {
        "id": "ri_6YpEg9ieR",
        "outputId": "e6598516-af03-45ae-c8c3-566ce7c809e8",
        "colab": {
          "base_uri": "https://localhost:8080/"
        }
      },
      "source": [
        "a = np.arange(10,20,2)\n",
        "b = np.array([[2],[2]])\n",
        "print('Adding two different sized arrays:','\\n',a+b)\n",
        "print('Multiplying an ndarray and a number:','\\n',a*2)"
      ],
      "execution_count": 46,
      "outputs": [
        {
          "output_type": "stream",
          "text": [
            "Adding two different sized arrays: \n",
            " [[12 14 16 18 20]\n",
            " [12 14 16 18 20]]\n",
            "Multiplying an ndarray and a number: \n",
            " [20 24 28 32 36]\n"
          ],
          "name": "stdout"
        }
      ]
    },
    {
      "cell_type": "markdown",
      "metadata": {
        "id": "vVNUvZY9-mcq"
      },
      "source": [
        "Its working can be thought of like stretching or making copies of the scalar, the number, [2,2,2] to match the shape of the ndarray and then perform the operation element-wise. But no such copies are being made. It is just a way of thinking avout how broadcasting is working.\n",
        "\n",
        "This is very useful because it is more efficient to multiply an array with a scalar value rather than another array! It is important to note that two ndarrays can broadcast together only when they are compatible.\n",
        "\n",
        "\n",
        "\n",
        "Ndarrays are compatible when:\n",
        "  1. Both have the same dimensions\n",
        "  2. Either of the ndarrays has a dimension of 1. The one having a dimension of 1 is broadcast to meet the size requirements of the larger ndarray.\n"
      ]
    },
    {
      "cell_type": "code",
      "metadata": {
        "id": "flCqq6SGESEP",
        "outputId": "36196fb6-40da-4d9b-893f-9b68d41ce09d",
        "colab": {
          "base_uri": "https://localhost:8080/"
        }
      },
      "source": [
        "a = np.ones((3,3))\n",
        "b = np.array([2])\n",
        "a+b"
      ],
      "execution_count": 47,
      "outputs": [
        {
          "output_type": "execute_result",
          "data": {
            "text/plain": [
              "array([[3., 3., 3.],\n",
              "       [3., 3., 3.],\n",
              "       [3., 3., 3.]])"
            ]
          },
          "metadata": {
            "tags": []
          },
          "execution_count": 47
        }
      ]
    },
    {
      "cell_type": "markdown",
      "metadata": {
        "id": "I1oq1hoKEjd_"
      },
      "source": [
        "**NumPy Ufuncs - The secret of its sucess!**\n",
        "\n",
        "Python is a dynamically typed language. This means the data type of a variable does not need to be known at the time of the assignment. Python will automatically determine it at run-time. While this means a cleaner and easier code to write, it also makes Pyhton sluggish.\n",
        "\n",
        "This problem manifests itself when Python has to do many operations repeatedly, like the addition of two arrays. This is so because each time an operation need to be performed, Python has to check the data type of the element. This problem is overcome by NymPy using the **ufuncs** function. **ufuncs** are Universal functions in NumPy that are simply mathematical functions. They perform fast element-wise functions. They are called automatically when you are performing simple arithmetic operations on NumPy arrays because they act as wrappers for NumPy unfucs."
      ]
    },
    {
      "cell_type": "markdown",
      "metadata": {
        "id": "2LfEuhRSGg9i"
      },
      "source": [
        "**Maths with NumPy arrays**\n",
        "\n",
        "Here are some of the most important and useful operations that you will need to perform on your NumPy array.\n",
        "\n"
      ]
    },
    {
      "cell_type": "markdown",
      "metadata": {
        "id": "hO1qmXCaGx9n"
      },
      "source": [
        "**Basic arithmetic operations on NumPy arrays**\n",
        "\n",
        "The basic arithmetic operations can easily be performed on NumPy arrays. The important thing to remember is that these simple arithmetics operation sybmols just to act as wrappers for NumPy ufucs."
      ]
    },
    {
      "cell_type": "code",
      "metadata": {
        "id": "Q3nq5ccAEWp6",
        "outputId": "97fab10c-f619-413f-99df-4212340fec91",
        "colab": {
          "base_uri": "https://localhost:8080/"
        }
      },
      "source": [
        "a = np.arange(1,6)\n",
        "b = np.arange(6,11)\n",
        "\n",
        "print('Addition :', a+5)\n",
        "print('Subtract :' ,a-5)\n",
        "print('Multiply :', a*5)\n",
        "print('Divide :', a/5)\n",
        "print('Power :', a**2)\n",
        "print('Remainder :', a%5)"
      ],
      "execution_count": 53,
      "outputs": [
        {
          "output_type": "stream",
          "text": [
            "Addition : [ 6  7  8  9 10]\n",
            "Subtract : [-4 -3 -2 -1  0]\n",
            "Multiply : [ 5 10 15 20 25]\n",
            "Divide : [0.2 0.4 0.6 0.8 1. ]\n",
            "Power : [ 1  4  9 16 25]\n",
            "Remainder : [1 2 3 4 0]\n"
          ],
          "name": "stdout"
        }
      ]
    },
    {
      "cell_type": "markdown",
      "metadata": {
        "id": "17LqBB0pIC1m"
      },
      "source": [
        "**Mean, Median and Standard deviation**\n",
        "\n",
        "To find the mean, median and standard deviation of a NumPY array, use the mean(),median() and std() methods:"
      ]
    },
    {
      "cell_type": "code",
      "metadata": {
        "id": "7Y5VNn-GHngR",
        "outputId": "781c2fe0-77ff-4e90-c110-9f3f0c75887f",
        "colab": {
          "base_uri": "https://localhost:8080/"
        }
      },
      "source": [
        "a = np.arange(5,15,2)\n",
        "print('Mean :', np.mean(a))\n",
        "print('Median :', np.median(a))\n",
        "print('Standard deviation', np.std(a))"
      ],
      "execution_count": 54,
      "outputs": [
        {
          "output_type": "stream",
          "text": [
            "Mean : 9.0\n",
            "Median : 9.0\n",
            "Standard deviation 2.8284271247461903\n"
          ],
          "name": "stdout"
        }
      ]
    },
    {
      "cell_type": "markdown",
      "metadata": {
        "id": "NC4Drm9vIs91"
      },
      "source": [
        "**Min-Max values and their indexes**\n",
        "\n",
        "Min and Max values in an array can be easily found using the min() and max() methods:\n"
      ]
    },
    {
      "cell_type": "code",
      "metadata": {
        "id": "XKoooHcAIpln",
        "outputId": "dc3d9b38-8568-4e3c-de31-04287e0195ca",
        "colab": {
          "base_uri": "https://localhost:8080/"
        }
      },
      "source": [
        "a = np.array([[1,6],[4,3]])\n",
        "print('Min :', np.min(a,axis=0))\n",
        "print('Max :', np.max(a,axis=1))"
      ],
      "execution_count": 56,
      "outputs": [
        {
          "output_type": "stream",
          "text": [
            "Min : [1 3]\n",
            "Max : [6 4]\n"
          ],
          "name": "stdout"
        }
      ]
    },
    {
      "cell_type": "markdown",
      "metadata": {
        "id": "wST3_rGWJscv"
      },
      "source": [
        "You can also easily determin the index of the minimum or maximum value in the ndarray along a particular axis using the argmin() and argmax() methods:\n"
      ]
    },
    {
      "cell_type": "code",
      "metadata": {
        "id": "bTjj2y19JRSl",
        "outputId": "b4e97dd1-7744-4764-8f58-0be0de34d113",
        "colab": {
          "base_uri": "https://localhost:8080/"
        }
      },
      "source": [
        "a = np.array([[1,6,5],\n",
        "[4,3,7]])\n",
        "# minimum along a column\n",
        "print('Min :',np.argmin(a,axis=0))\n",
        "# maximum along a row\n",
        "print('Max :',np.argmax(a,axis=1))"
      ],
      "execution_count": 57,
      "outputs": [
        {
          "output_type": "stream",
          "text": [
            "Min : [0 1 0]\n",
            "Max : [1 2]\n"
          ],
          "name": "stdout"
        }
      ]
    },
    {
      "cell_type": "code",
      "metadata": {
        "id": "cXLkFqgrKBD1"
      },
      "source": [
        ""
      ],
      "execution_count": null,
      "outputs": []
    }
  ]
}