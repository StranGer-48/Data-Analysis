{
  "nbformat": 4,
  "nbformat_minor": 0,
  "metadata": {
    "colab": {
      "name": "PandasTurorial.ipynb",
      "provenance": [],
      "authorship_tag": "ABX9TyN9mE8TiyduanO9Y9QCa8aE",
      "include_colab_link": true
    },
    "kernelspec": {
      "name": "python3",
      "display_name": "Python 3"
    }
  },
  "cells": [
    {
      "cell_type": "markdown",
      "metadata": {
        "id": "view-in-github",
        "colab_type": "text"
      },
      "source": [
        "<a href=\"https://colab.research.google.com/github/StranGer-48/Data-Analysis/blob/main/PandasTurorial.ipynb\" target=\"_parent\"><img src=\"https://colab.research.google.com/assets/colab-badge.svg\" alt=\"Open In Colab\"/></a>"
      ]
    },
    {
      "cell_type": "markdown",
      "metadata": {
        "id": "KKAuQpR1m9BY"
      },
      "source": [
        "Pandas is used for data manipulation, analysis and cleaning. Python pandas is well suited for different kinds of data, such as:\n",
        "  * Tabular data with heterogeneously-typed columns\n",
        "  * Ordered and unordered time series data\n",
        "  * Arbitrary matric data with row and colums labels\n",
        "  * Unlabelled data\n",
        "  * Any other form of observational or statistical data sets\n",
        "\n",
        "> Using Python pandas, you can perform a lot of operations with series, data frames, missing data, group by etc. Some of the common operation for data manipulation are listed below:\n",
        "  * Slicing\n",
        "  * Merginbg and Joining\n",
        "  * Concatenation\n",
        "  * Changing the index\n",
        "  * Change column headers\n",
        "  * Data Munging\n",
        "\n",
        "In this we gonna discuss all the operation using Pyton panda libraries."
      ]
    },
    {
      "cell_type": "code",
      "metadata": {
        "id": "2TtkVijvp3Xy"
      },
      "source": [
        "import pandas as pd"
      ],
      "execution_count": 1,
      "outputs": []
    },
    {
      "cell_type": "markdown",
      "metadata": {
        "id": "40A7aN9DphgL"
      },
      "source": [
        "**Slicing the Data Frame**\n",
        "\n",
        "In order to perform slicing on data, you need a data frame. Data frame is a 2-dimensional data structure and a most common pandas object.\n",
        "\n",
        "pd.DataFrame() will convert a dictionary into a pandas Data Frame along with index to the left."
      ]
    },
    {
      "cell_type": "code",
      "metadata": {
        "id": "14SSUGtGpgSd",
        "outputId": "8bebdfb6-ea1a-4a38-f6c6-5491fa6ba905",
        "colab": {
          "base_uri": "https://localhost:8080/"
        }
      },
      "source": [
        "data = {'Day':[1,2,3,4,5,6],'Visitors':[1000,700,6000,1000,400,350],'Bounce_Rate':[20,20,23,15,10,34]}\n",
        "df = pd.DataFrame(data)\n",
        "print(df)"
      ],
      "execution_count": 2,
      "outputs": [
        {
          "output_type": "stream",
          "text": [
            "   Day  Visitors  Bounce_Rate\n",
            "0    1      1000           20\n",
            "1    2       700           20\n",
            "2    3      6000           23\n",
            "3    4      1000           15\n",
            "4    5       400           10\n",
            "5    6       350           34\n"
          ],
          "name": "stdout"
        }
      ]
    },
    {
      "cell_type": "markdown",
      "metadata": {
        "id": "gj1tS256qxXK"
      },
      "source": [
        "[pandas.DataFrame.head()](https://pandas.pydata.org/docs/reference/api/pandas.DataFrame.head.html?highlight=head#pandas.DataFrame.head) and [pandas.DataFrame.tail()](https://pandas.pydata.org/docs/reference/api/pandas.DataFrame.tail.html#pandas.DataFrame.tail) are two methods to slice the dataframe from the biginning and ending respectively. Default these method will return first five rows in a dataframe."
      ]
    },
    {
      "cell_type": "code",
      "metadata": {
        "id": "Je8Bcu4iqchy",
        "outputId": "d3b216fa-e8ad-421c-a021-edee61baa69a",
        "colab": {
          "base_uri": "https://localhost:8080/"
        }
      },
      "source": [
        "print(df.head())"
      ],
      "execution_count": 3,
      "outputs": [
        {
          "output_type": "stream",
          "text": [
            "   Day  Visitors  Bounce_Rate\n",
            "0    1      1000           20\n",
            "1    2       700           20\n",
            "2    3      6000           23\n",
            "3    4      1000           15\n",
            "4    5       400           10\n"
          ],
          "name": "stdout"
        }
      ]
    },
    {
      "cell_type": "code",
      "metadata": {
        "id": "ox1u7zQhraK3",
        "outputId": "567b4398-a256-4da6-b86e-05bc28d41140",
        "colab": {
          "base_uri": "https://localhost:8080/"
        }
      },
      "source": [
        "print(df.head(2))"
      ],
      "execution_count": 4,
      "outputs": [
        {
          "output_type": "stream",
          "text": [
            "   Day  Visitors  Bounce_Rate\n",
            "0    1      1000           20\n",
            "1    2       700           20\n"
          ],
          "name": "stdout"
        }
      ]
    },
    {
      "cell_type": "code",
      "metadata": {
        "id": "Bi_eaq2grdTS",
        "outputId": "8aeb3648-abf2-49c7-f6d4-bbbcfe19bc31",
        "colab": {
          "base_uri": "https://localhost:8080/"
        }
      },
      "source": [
        "print(df.tail(2))"
      ],
      "execution_count": 6,
      "outputs": [
        {
          "output_type": "stream",
          "text": [
            "   Day  Visitors  Bounce_Rate\n",
            "4    5       400           10\n",
            "5    6       350           34\n"
          ],
          "name": "stdout"
        }
      ]
    },
    {
      "cell_type": "markdown",
      "metadata": {
        "id": "TsHmKW9droDQ"
      },
      "source": [
        "**Merging and Joining**\n",
        "You can merge two data frames to form a single data frame. You can also decide which columns you want to make common.\n",
        "\n",
        "[pandas.DataFrame.merge()](https://pandas.pydata.org/docs/reference/api/pandas.DataFrame.merge.html#pandas.DataFrame.merge) method is used to merge two dataframes together."
      ]
    },
    {
      "cell_type": "code",
      "metadata": {
        "id": "Tz_mJJucrfo3",
        "outputId": "def55488-af4f-47e1-e1ba-33c8408924fe",
        "colab": {
          "base_uri": "https://localhost:8080/"
        }
      },
      "source": [
        "df1= pd.DataFrame({ \"HPI\":[80,90,70,60],\"Int_Rate\":[2,1,2,3],\"IND_GDP\":[50,45,45,67]}, index=[2001, 2002,2003,2004])\n",
        "df2=pd.DataFrame({ \"HPI\":[80,90,70,60],\"Int_Rate\":[2,1,2,3],\"IND_GDP\":[50,45,45,67]}, index=[2005, 2006,2007,2008])\n",
        "merged= pd.merge(df1,df2) \n",
        "print(merged)"
      ],
      "execution_count": 12,
      "outputs": [
        {
          "output_type": "stream",
          "text": [
            "   HPI  Int_Rate  IND_GDP\n",
            "0   80         2       50\n",
            "1   90         1       45\n",
            "2   70         2       45\n",
            "3   60         3       67\n"
          ],
          "name": "stdout"
        }
      ]
    },
    {
      "cell_type": "markdown",
      "metadata": {
        "id": "mfIozZSauAaK"
      },
      "source": [
        "You can also specify the column which you want to make common."
      ]
    },
    {
      "cell_type": "code",
      "metadata": {
        "id": "Qfyt41B8t22o",
        "outputId": "df1636b3-fcdf-430f-f761-88ce650c78d5",
        "colab": {
          "base_uri": "https://localhost:8080/"
        }
      },
      "source": [
        "merged= pd.merge(df1,df2,on =\"HPI\")\n",
        " \n",
        "print(merged)"
      ],
      "execution_count": 13,
      "outputs": [
        {
          "output_type": "stream",
          "text": [
            "   HPI  Int_Rate_x  IND_GDP_x  Int_Rate_y  IND_GDP_y\n",
            "0   80           2         50           2         50\n",
            "1   90           1         45           1         45\n",
            "2   70           2         45           2         45\n",
            "3   60           3         67           3         67\n"
          ],
          "name": "stdout"
        }
      ]
    },
    {
      "cell_type": "markdown",
      "metadata": {
        "id": "yWLm81CBukKY"
      },
      "source": [
        "Joining in pythom pandas is to combine two differently indexed dataframes into a single result dataframe. This is quite similar to the \"merge\" operation, except the joining operation will be on the \"index\" instead of the \"columns\".\n",
        "\n",
        "[pandas.DataFrame.join()](https://pandas.pydata.org/docs/reference/api/pandas.DataFrame.join.html?highlight=join#pandas.DataFrame.join) method is used to join two different dataframes by index."
      ]
    },
    {
      "cell_type": "code",
      "metadata": {
        "id": "ZArMmT5euOlJ",
        "outputId": "d2d070f5-c189-4ebc-9a46-f2488012ee0c",
        "colab": {
          "base_uri": "https://localhost:8080/"
        }
      },
      "source": [
        "df1 = pd.DataFrame({\"Int_Rate\":[2,1,2,3], \"IND_GDP\":[50,45,45,67]}, index=[2001, 2002,2003,2004])\n",
        " \n",
        "df2 = pd.DataFrame({\"Low_Tier_HPI\":[50,45,67,34],\"Unemployment\":[1,3,5,6]}, index=[2001, 2003,2004,2004])\n",
        " \n",
        "joined= df1.join(df2)\n",
        "print(joined)\n"
      ],
      "execution_count": 10,
      "outputs": [
        {
          "output_type": "stream",
          "text": [
            "      Int_Rate  IND_GDP  Low_Tier_HPI  Unemployment\n",
            "2001         2       50          50.0           1.0\n",
            "2002         1       45           NaN           NaN\n",
            "2003         2       45          45.0           3.0\n",
            "2004         3       67          67.0           5.0\n",
            "2004         3       67          34.0           6.0\n"
          ],
          "name": "stdout"
        }
      ]
    },
    {
      "cell_type": "markdown",
      "metadata": {
        "id": "bHP4WeSOvfZq"
      },
      "source": [
        "You can observe that joining is done at indx not by columns. If the value are empty then those are filled with \"NaN\"."
      ]
    },
    {
      "cell_type": "markdown",
      "metadata": {
        "id": "ynGPufsLwFYe"
      },
      "source": [
        "**Concatenation**\n",
        "\n",
        "Concatenation basically glues the dataframes together. You can select the dimension on which you want to concatenate.\n",
        "\n",
        "[pandas.concat()](https://pandas.pydata.org/docs/reference/api/pandas.concat.html?highlight=concat#pandas.concat) method is used to concatenate two dataframes."
      ]
    },
    {
      "cell_type": "code",
      "metadata": {
        "id": "aBjPYpvsvend",
        "outputId": "ac4bda5a-c0b2-4aab-fa1f-63b353b480d3",
        "colab": {
          "base_uri": "https://localhost:8080/"
        }
      },
      "source": [
        "df1= pd.DataFrame({ \"HPI\":[80,90,70,60],\"Int_Rate\":[2,1,2,3],\"IND_GDP\":[50,45,45,67]}, index=[2001, 2002,2003,2004])\n",
        "df2=pd.DataFrame({ \"HPI\":[80,90,70,60],\"Int_Rate\":[2,1,2,3],\"IND_GDP\":[50,45,45,67]}, index=[2005, 2006,2007,2008])\n",
        "concat = pd.concat([df1,df2])\n",
        "print(concat)"
      ],
      "execution_count": 14,
      "outputs": [
        {
          "output_type": "stream",
          "text": [
            "      HPI  Int_Rate  IND_GDP\n",
            "2001   80         2       50\n",
            "2002   90         1       45\n",
            "2003   70         2       45\n",
            "2004   60         3       67\n",
            "2005   80         2       50\n",
            "2006   90         1       45\n",
            "2007   70         2       45\n",
            "2008   60         3       67\n"
          ],
          "name": "stdout"
        }
      ]
    },
    {
      "cell_type": "markdown",
      "metadata": {
        "id": "SFXtEzE5xSAi"
      },
      "source": [
        "You can also specify axis=1 in order to join, merge or concatenate along the columns."
      ]
    },
    {
      "cell_type": "code",
      "metadata": {
        "id": "a6U5lu5xvE3i",
        "outputId": "77a55294-6eea-408c-a4e3-7a8ba5a52ab1",
        "colab": {
          "base_uri": "https://localhost:8080/"
        }
      },
      "source": [
        "concat = pd.concat([df1,df2],axis=1)\n",
        "print(concat)"
      ],
      "execution_count": 16,
      "outputs": [
        {
          "output_type": "stream",
          "text": [
            "       HPI  Int_Rate  IND_GDP   HPI  Int_Rate  IND_GDP\n",
            "2001  80.0       2.0     50.0   NaN       NaN      NaN\n",
            "2002  90.0       1.0     45.0   NaN       NaN      NaN\n",
            "2003  70.0       2.0     45.0   NaN       NaN      NaN\n",
            "2004  60.0       3.0     67.0   NaN       NaN      NaN\n",
            "2005   NaN       NaN      NaN  80.0       2.0     50.0\n",
            "2006   NaN       NaN      NaN  90.0       1.0     45.0\n",
            "2007   NaN       NaN      NaN  70.0       2.0     45.0\n",
            "2008   NaN       NaN      NaN  60.0       3.0     67.0\n"
          ],
          "name": "stdout"
        }
      ]
    },
    {
      "cell_type": "markdown",
      "metadata": {
        "id": "lrr78u8hxrOs"
      },
      "source": [
        " You can see there are bunch of missing values. This happens because the dataframes didn't have values for all the indexes you want to concatenate on."
      ]
    },
    {
      "cell_type": "markdown",
      "metadata": {
        "id": "fr_na-Xcx9Bt"
      },
      "source": [
        "**Change the Index**\n",
        "\n",
        "[pandas.DataFrame.set_index()](https://pandas.pydata.org/docs/reference/api/pandas.DataFrame.set_index.html?highlight=set_index#pandas.DataFrame.set_index) using one or more existing columns or arrays(of the correct length). The index can replace the existing index or expand on it.\n",
        "\n"
      ]
    },
    {
      "cell_type": "code",
      "metadata": {
        "id": "MoBW670uxjdp",
        "outputId": "5ab01215-e8e1-4247-ca5d-4ac73a5fda8d",
        "colab": {
          "base_uri": "https://localhost:8080/"
        }
      },
      "source": [
        "df= pd.DataFrame({\"Day\":[1,2,3,4], \"Visitors\":[200, 100,230,300], \"Bounce_Rate\":[20,45,60,10]})  \n",
        "df.set_index(\"Day\", inplace= True) \n",
        "print(df)"
      ],
      "execution_count": 17,
      "outputs": [
        {
          "output_type": "stream",
          "text": [
            "     Visitors  Bounce_Rate\n",
            "Day                       \n",
            "1         200           20\n",
            "2         100           45\n",
            "3         230           60\n",
            "4         300           10\n"
          ],
          "name": "stdout"
        }
      ]
    },
    {
      "cell_type": "markdown",
      "metadata": {
        "id": "ZkJmycjDywM6"
      },
      "source": [
        "**Change the Column Headers**\n",
        "\n",
        "[pandas.DataFrame.rename()](https://pandas.pydata.org/docs/reference/api/pandas.DataFrame.rename.html?highlight=rename#pandas.DataFrame.rename) methos is used to change the headers of columns."
      ]
    },
    {
      "cell_type": "code",
      "metadata": {
        "id": "LeuWVpk9ypGw",
        "outputId": "92e3c2bc-c384-450e-9f78-2e2e8a795236",
        "colab": {
          "base_uri": "https://localhost:8080/"
        }
      },
      "source": [
        "df = df.rename(columns={\"Visitors\":\"Users\"})\n",
        "print(df)"
      ],
      "execution_count": 20,
      "outputs": [
        {
          "output_type": "stream",
          "text": [
            "     Uers  Bounce_Rate\n",
            "Day                   \n",
            "1     200           20\n",
            "2     100           45\n",
            "3     230           60\n",
            "4     300           10\n"
          ],
          "name": "stdout"
        }
      ]
    },
    {
      "cell_type": "markdown",
      "metadata": {
        "id": "ay0yia8GzdJX"
      },
      "source": [
        "You can see column header \"Visitors\" is changed to \"Users\"."
      ]
    },
    {
      "cell_type": "markdown",
      "metadata": {
        "id": "r80KS5tbzmJH"
      },
      "source": [
        "**Data Munging**\n",
        "\n",
        "In Data munging, you can convert a particular data into different format. For example, if you habe a .csv file, you can convert it to .html or ant other data format as well."
      ]
    },
    {
      "cell_type": "code",
      "metadata": {
        "id": "OKB5K_W8zK9b"
      },
      "source": [
        "country=pd.read_csv(\"File_path/file_name.csv\")\n",
        "country.to_html('file_name.html')"
      ],
      "execution_count": null,
      "outputs": []
    },
    {
      "cell_type": "markdown",
      "metadata": {
        "id": "HBSKNa_30aqI"
      },
      "source": [
        "These are some basic python pandas operations and methods used in data analysis. You an check the pandas doxcumentation [here](https://pandas.pydata.org/docs/reference/index.html#api)"
      ]
    },
    {
      "cell_type": "code",
      "metadata": {
        "id": "Hhj1mXlh0Z5-"
      },
      "source": [
        ""
      ],
      "execution_count": null,
      "outputs": []
    }
  ]
}