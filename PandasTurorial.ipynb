{
  "nbformat": 4,
  "nbformat_minor": 0,
  "metadata": {
    "colab": {
      "name": "PandasTurorial.ipynb",
      "provenance": [],
      "authorship_tag": "ABX9TyNcqs4mspTUnuZbgvNjw1i+",
      "include_colab_link": true
    },
    "kernelspec": {
      "name": "python3",
      "display_name": "Python 3"
    }
  },
  "cells": [
    {
      "cell_type": "markdown",
      "metadata": {
        "id": "view-in-github",
        "colab_type": "text"
      },
      "source": [
        "<a href=\"https://colab.research.google.com/github/StranGer-48/Data-Analysis/blob/main/PandasTurorial.ipynb\" target=\"_parent\"><img src=\"https://colab.research.google.com/assets/colab-badge.svg\" alt=\"Open In Colab\"/></a>"
      ]
    },
    {
      "cell_type": "markdown",
      "metadata": {
        "id": "KKAuQpR1m9BY"
      },
      "source": [
        "Pandas is used for data manipulation, analysis and cleaning. Python pandas is well suited for different kinds of data, such as:\n",
        "  * Tabular data with heterogeneously-typed columns\n",
        "  * Ordered and unordered time series data\n",
        "  * Arbitrary matric data with row and colums labels\n",
        "  * Unlabelled data\n",
        "  * Any other form of observational or statistical data sets\n",
        "\n",
        "> Using Python pandas, you can perform a lot of operations with series, data frames, missing data, group by etc. Some of the common operation for data manipulation are listed below:\n",
        "  * Slicing\n",
        "  * Merginbg and Joining\n",
        "  * Concatenation\n",
        "  * Changing the index\n",
        "  * Change column headers\n",
        "  * Data Munging\n",
        "\n",
        "In this we gonna discuss all the operation using Pyton panda libraries."
      ]
    },
    {
      "cell_type": "code",
      "metadata": {
        "id": "2TtkVijvp3Xy"
      },
      "source": [
        "import pandas as pd"
      ],
      "execution_count": 1,
      "outputs": []
    },
    {
      "cell_type": "markdown",
      "metadata": {
        "id": "GSrOZfIXj4XW"
      },
      "source": [
        "**DataFrame and Series**\n",
        "\n",
        "In order to master pandas you have to start from scratch with two main data structures: DataFrame and Series. If you don't understand them well you won't understand pandas.\n"
      ]
    },
    {
      "cell_type": "markdown",
      "metadata": {
        "id": "UalyPzsKkbAs"
      },
      "source": [
        "**Series**\n",
        "\n",
        "Series is an object which is similar to Python build-in list data structure but differs from it because it has an associated label with each element or so-called index. This distinctive feature makes it look like an associated array or dictionary(hashmap representation).\n"
      ]
    },
    {
      "cell_type": "code",
      "metadata": {
        "id": "no_o1B_UkhWh",
        "outputId": "79563074-78f6-433b-e7b4-231d6d0e7e25",
        "colab": {
          "base_uri": "https://localhost:8080/"
        }
      },
      "source": [
        "my_series = pd.Series([5,6,7,8,9,10])\n",
        "my_series"
      ],
      "execution_count": 3,
      "outputs": [
        {
          "output_type": "execute_result",
          "data": {
            "text/plain": [
              "0     5\n",
              "1     6\n",
              "2     7\n",
              "3     8\n",
              "4     9\n",
              "5    10\n",
              "dtype: int64"
            ]
          },
          "metadata": {
            "tags": []
          },
          "execution_count": 3
        }
      ]
    },
    {
      "cell_type": "markdown",
      "metadata": {
        "id": "mNaE7UTekqfw"
      },
      "source": [
        "Take a look at the output above and you will see that the index is leftward and values are to the right. If the index is not provided explicitly, then pandas create RangeIndex starting from 0 to N-1, where N is a total number of elements. Moreover, each Series object has a data type (dtype), in our case data type is int64.\n",
        "\n",
        "\n",
        "Series has attributes to extract its values and index:"
      ]
    },
    {
      "cell_type": "code",
      "metadata": {
        "id": "axmnFtwNkuS0",
        "outputId": "6850ce2a-89cb-4cac-fc89-5294f495f14c",
        "colab": {
          "base_uri": "https://localhost:8080/"
        }
      },
      "source": [
        "my_series.index"
      ],
      "execution_count": 4,
      "outputs": [
        {
          "output_type": "execute_result",
          "data": {
            "text/plain": [
              "RangeIndex(start=0, stop=6, step=1)"
            ]
          },
          "metadata": {
            "tags": []
          },
          "execution_count": 4
        }
      ]
    },
    {
      "cell_type": "code",
      "metadata": {
        "id": "BUP3IY12ky0n",
        "outputId": "cddc755a-b492-49cb-d4ff-b4df38db7a91",
        "colab": {
          "base_uri": "https://localhost:8080/"
        }
      },
      "source": [
        "my_series.values"
      ],
      "execution_count": 5,
      "outputs": [
        {
          "output_type": "execute_result",
          "data": {
            "text/plain": [
              "array([ 5,  6,  7,  8,  9, 10])"
            ]
          },
          "metadata": {
            "tags": []
          },
          "execution_count": 5
        }
      ]
    },
    {
      "cell_type": "markdown",
      "metadata": {
        "id": "1ZXMKBa6k9O2"
      },
      "source": [
        "**DataFrame**\n",
        "\n",
        "DataFrame is a table. It has rows and columns. Each column in a DataFrame is a Series of objects, rows consist of elements inside the Series.\n",
        "\n",
        "pd.DataFrame() will convert a dictionary into a Pandas Data Frame along with an index to the left.\n",
        "\n",
        "\n",
        "DataFrame can be constructed using built-in Python dicts:"
      ]
    },
    {
      "cell_type": "code",
      "metadata": {
        "id": "0_4PGWoyk4Tg",
        "outputId": "c88d7948-599e-4c37-c3d9-de1681b3a409",
        "colab": {
          "base_uri": "https://localhost:8080/",
          "height": 305
        }
      },
      "source": [
        "df = pd.DataFrame({'Day':[1,2,3,4,5,6],'Visitors':[1000,700,6000,1000,400,350],'Bounce_Rate':[20,20,23,15,10,34],'Rating':[5,4,4,3,5,4]})\n",
        "df"
      ],
      "execution_count": 11,
      "outputs": [
        {
          "output_type": "execute_result",
          "data": {
            "text/html": [
              "<div>\n",
              "<style scoped>\n",
              "    .dataframe tbody tr th:only-of-type {\n",
              "        vertical-align: middle;\n",
              "    }\n",
              "\n",
              "    .dataframe tbody tr th {\n",
              "        vertical-align: top;\n",
              "    }\n",
              "\n",
              "    .dataframe thead th {\n",
              "        text-align: right;\n",
              "    }\n",
              "</style>\n",
              "<table border=\"1\" class=\"dataframe\">\n",
              "  <thead>\n",
              "    <tr style=\"text-align: right;\">\n",
              "      <th></th>\n",
              "      <th>Day</th>\n",
              "      <th>Visitors</th>\n",
              "      <th>Bounce_Rate</th>\n",
              "      <th>Rating</th>\n",
              "    </tr>\n",
              "  </thead>\n",
              "  <tbody>\n",
              "    <tr>\n",
              "      <th>0</th>\n",
              "      <td>1</td>\n",
              "      <td>1000</td>\n",
              "      <td>20</td>\n",
              "      <td>5</td>\n",
              "    </tr>\n",
              "    <tr>\n",
              "      <th>1</th>\n",
              "      <td>2</td>\n",
              "      <td>700</td>\n",
              "      <td>20</td>\n",
              "      <td>4</td>\n",
              "    </tr>\n",
              "    <tr>\n",
              "      <th>2</th>\n",
              "      <td>3</td>\n",
              "      <td>6000</td>\n",
              "      <td>23</td>\n",
              "      <td>4</td>\n",
              "    </tr>\n",
              "    <tr>\n",
              "      <th>3</th>\n",
              "      <td>4</td>\n",
              "      <td>1000</td>\n",
              "      <td>15</td>\n",
              "      <td>3</td>\n",
              "    </tr>\n",
              "    <tr>\n",
              "      <th>4</th>\n",
              "      <td>5</td>\n",
              "      <td>400</td>\n",
              "      <td>10</td>\n",
              "      <td>5</td>\n",
              "    </tr>\n",
              "    <tr>\n",
              "      <th>5</th>\n",
              "      <td>6</td>\n",
              "      <td>350</td>\n",
              "      <td>34</td>\n",
              "      <td>4</td>\n",
              "    </tr>\n",
              "  </tbody>\n",
              "</table>\n",
              "</div>"
            ],
            "text/plain": [
              "   Day  Visitors  Bounce_Rate  Rating\n",
              "0    1      1000           20       5\n",
              "1    2       700           20       4\n",
              "2    3      6000           23       4\n",
              "3    4      1000           15       3\n",
              "4    5       400           10       5\n",
              "5    6       350           34       4"
            ]
          },
          "metadata": {
            "tags": []
          },
          "execution_count": 11
        }
      ]
    },
    {
      "cell_type": "markdown",
      "metadata": {
        "id": "pdt40M-plRcm"
      },
      "source": [
        "DataFrame object has 2 indexes: column index and row index. If you do not provide row index explicitly, pandas will create RangeIndex from 0 to N-1, where N is a number of rows inside DataFrame."
      ]
    },
    {
      "cell_type": "markdown",
      "metadata": {
        "id": "40A7aN9DphgL"
      },
      "source": [
        "**Slicing the Data Frame**\n",
        "\n",
        "In order to perform slicing on data, you need a data frame. Data frame is a 2-dimensional data structure and a most common pandas object.\n",
        "\n",
        "pd.DataFrame() will convert a dictionary into a pandas Data Frame along with index to the left."
      ]
    },
    {
      "cell_type": "markdown",
      "metadata": {
        "id": "gj1tS256qxXK"
      },
      "source": [
        "[pandas.DataFrame.head()](https://pandas.pydata.org/docs/reference/api/pandas.DataFrame.head.html?highlight=head#pandas.DataFrame.head) and [pandas.DataFrame.tail()](https://pandas.pydata.org/docs/reference/api/pandas.DataFrame.tail.html#pandas.DataFrame.tail) are two methods to slice the dataframe from the biginning and ending respectively. Default these method will return first five rows in a dataframe."
      ]
    },
    {
      "cell_type": "code",
      "metadata": {
        "id": "Je8Bcu4iqchy",
        "colab": {
          "base_uri": "https://localhost:8080/"
        },
        "outputId": "0286aefc-2cc9-4bde-94e4-4e44db75ad65"
      },
      "source": [
        "print(df.head())"
      ],
      "execution_count": 12,
      "outputs": [
        {
          "output_type": "stream",
          "text": [
            "   Day  Visitors  Bounce_Rate  Rating\n",
            "0    1      1000           20       5\n",
            "1    2       700           20       4\n",
            "2    3      6000           23       4\n",
            "3    4      1000           15       3\n",
            "4    5       400           10       5\n"
          ],
          "name": "stdout"
        }
      ]
    },
    {
      "cell_type": "code",
      "metadata": {
        "id": "ox1u7zQhraK3",
        "colab": {
          "base_uri": "https://localhost:8080/"
        },
        "outputId": "c0d4d3a2-5670-41bf-f576-f5a198167a15"
      },
      "source": [
        "print(df.head(2))"
      ],
      "execution_count": 13,
      "outputs": [
        {
          "output_type": "stream",
          "text": [
            "   Day  Visitors  Bounce_Rate  Rating\n",
            "0    1      1000           20       5\n",
            "1    2       700           20       4\n"
          ],
          "name": "stdout"
        }
      ]
    },
    {
      "cell_type": "code",
      "metadata": {
        "id": "Bi_eaq2grdTS",
        "colab": {
          "base_uri": "https://localhost:8080/"
        },
        "outputId": "7546a05d-8211-4026-c246-a0664a323357"
      },
      "source": [
        "print(df.tail(2))"
      ],
      "execution_count": 14,
      "outputs": [
        {
          "output_type": "stream",
          "text": [
            "   Day  Visitors  Bounce_Rate  Rating\n",
            "4    5       400           10       5\n",
            "5    6       350           34       4\n"
          ],
          "name": "stdout"
        }
      ]
    },
    {
      "cell_type": "markdown",
      "metadata": {
        "id": "TsHmKW9droDQ"
      },
      "source": [
        "**Merging and Joining**\n",
        "You can merge two data frames to form a single data frame. You can also decide which columns you want to make common.\n",
        "\n",
        "[pandas.DataFrame.merge()](https://pandas.pydata.org/docs/reference/api/pandas.DataFrame.merge.html#pandas.DataFrame.merge) method is used to merge two dataframes together."
      ]
    },
    {
      "cell_type": "code",
      "metadata": {
        "id": "Tz_mJJucrfo3",
        "colab": {
          "base_uri": "https://localhost:8080/"
        },
        "outputId": "a15306f4-c18e-4c7d-ff7c-545e95b9c2c1"
      },
      "source": [
        "df1= pd.DataFrame({ \"HPI\":[80,90,70,60],\"Int_Rate\":[2,1,2,3],\"IND_GDP\":[50,45,45,67]}, index=[2001, 2002,2003,2004])\n",
        "df2=pd.DataFrame({ \"HPI\":[80,90,70,60],\"Int_Rate\":[2,1,2,3],\"IND_GDP\":[50,45,45,67]}, index=[2005, 2006,2007,2008])\n",
        "merged= pd.merge(df1,df2) \n",
        "print(merged)"
      ],
      "execution_count": 15,
      "outputs": [
        {
          "output_type": "stream",
          "text": [
            "   HPI  Int_Rate  IND_GDP\n",
            "0   80         2       50\n",
            "1   90         1       45\n",
            "2   70         2       45\n",
            "3   60         3       67\n"
          ],
          "name": "stdout"
        }
      ]
    },
    {
      "cell_type": "markdown",
      "metadata": {
        "id": "mfIozZSauAaK"
      },
      "source": [
        "You can also specify the column which you want to make common."
      ]
    },
    {
      "cell_type": "code",
      "metadata": {
        "id": "Qfyt41B8t22o",
        "colab": {
          "base_uri": "https://localhost:8080/"
        },
        "outputId": "7eb0a72f-e399-432f-bfd8-c4c53a57f73f"
      },
      "source": [
        "merged= pd.merge(df1,df2,on =\"HPI\")\n",
        " \n",
        "print(merged)"
      ],
      "execution_count": 16,
      "outputs": [
        {
          "output_type": "stream",
          "text": [
            "   HPI  Int_Rate_x  IND_GDP_x  Int_Rate_y  IND_GDP_y\n",
            "0   80           2         50           2         50\n",
            "1   90           1         45           1         45\n",
            "2   70           2         45           2         45\n",
            "3   60           3         67           3         67\n"
          ],
          "name": "stdout"
        }
      ]
    },
    {
      "cell_type": "markdown",
      "metadata": {
        "id": "yWLm81CBukKY"
      },
      "source": [
        "Joining in pythom pandas is to combine two differently indexed dataframes into a single result dataframe. This is quite similar to the \"merge\" operation, except the joining operation will be on the \"index\" instead of the \"columns\".\n",
        "\n",
        "[pandas.DataFrame.join()](https://pandas.pydata.org/docs/reference/api/pandas.DataFrame.join.html?highlight=join#pandas.DataFrame.join) method is used to join two different dataframes by index."
      ]
    },
    {
      "cell_type": "code",
      "metadata": {
        "id": "ZArMmT5euOlJ",
        "colab": {
          "base_uri": "https://localhost:8080/"
        },
        "outputId": "88e36d12-251e-4109-95d3-cd2a78428adb"
      },
      "source": [
        "df1 = pd.DataFrame({\"Int_Rate\":[2,1,2,3], \"IND_GDP\":[50,45,45,67]}, index=[2001, 2002,2003,2004])\n",
        " \n",
        "df2 = pd.DataFrame({\"Low_Tier_HPI\":[50,45,67,34],\"Unemployment\":[1,3,5,6]}, index=[2001, 2003,2004,2004])\n",
        " \n",
        "joined= df1.join(df2)\n",
        "print(joined)\n"
      ],
      "execution_count": 17,
      "outputs": [
        {
          "output_type": "stream",
          "text": [
            "      Int_Rate  IND_GDP  Low_Tier_HPI  Unemployment\n",
            "2001         2       50          50.0           1.0\n",
            "2002         1       45           NaN           NaN\n",
            "2003         2       45          45.0           3.0\n",
            "2004         3       67          67.0           5.0\n",
            "2004         3       67          34.0           6.0\n"
          ],
          "name": "stdout"
        }
      ]
    },
    {
      "cell_type": "markdown",
      "metadata": {
        "id": "bHP4WeSOvfZq"
      },
      "source": [
        "You can observe that joining is done at indx not by columns. If the value are empty then those are filled with \"NaN\"."
      ]
    },
    {
      "cell_type": "markdown",
      "metadata": {
        "id": "ynGPufsLwFYe"
      },
      "source": [
        "**Concatenation**\n",
        "\n",
        "Concatenation basically glues the dataframes together. You can select the dimension on which you want to concatenate.\n",
        "\n",
        "[pandas.concat()](https://pandas.pydata.org/docs/reference/api/pandas.concat.html?highlight=concat#pandas.concat) method is used to concatenate two dataframes."
      ]
    },
    {
      "cell_type": "code",
      "metadata": {
        "id": "aBjPYpvsvend",
        "colab": {
          "base_uri": "https://localhost:8080/"
        },
        "outputId": "76322d04-c878-4a2d-bae2-a81ff69ec9ed"
      },
      "source": [
        "df1= pd.DataFrame({ \"HPI\":[80,90,70,60],\"Int_Rate\":[2,1,2,3],\"IND_GDP\":[50,45,45,67]}, index=[2001, 2002,2003,2004])\n",
        "df2=pd.DataFrame({ \"HPI\":[80,90,70,60],\"Int_Rate\":[2,1,2,3],\"IND_GDP\":[50,45,45,67]}, index=[2005, 2006,2007,2008])\n",
        "concat = pd.concat([df1,df2])\n",
        "print(concat)"
      ],
      "execution_count": 18,
      "outputs": [
        {
          "output_type": "stream",
          "text": [
            "      HPI  Int_Rate  IND_GDP\n",
            "2001   80         2       50\n",
            "2002   90         1       45\n",
            "2003   70         2       45\n",
            "2004   60         3       67\n",
            "2005   80         2       50\n",
            "2006   90         1       45\n",
            "2007   70         2       45\n",
            "2008   60         3       67\n"
          ],
          "name": "stdout"
        }
      ]
    },
    {
      "cell_type": "markdown",
      "metadata": {
        "id": "SFXtEzE5xSAi"
      },
      "source": [
        "You can also specify axis=1 in order to join, merge or concatenate along the columns."
      ]
    },
    {
      "cell_type": "code",
      "metadata": {
        "id": "a6U5lu5xvE3i",
        "colab": {
          "base_uri": "https://localhost:8080/"
        },
        "outputId": "3f66ed79-2c1f-4724-e337-3915454e52d0"
      },
      "source": [
        "concat = pd.concat([df1,df2],axis=1)\n",
        "print(concat)"
      ],
      "execution_count": 19,
      "outputs": [
        {
          "output_type": "stream",
          "text": [
            "       HPI  Int_Rate  IND_GDP   HPI  Int_Rate  IND_GDP\n",
            "2001  80.0       2.0     50.0   NaN       NaN      NaN\n",
            "2002  90.0       1.0     45.0   NaN       NaN      NaN\n",
            "2003  70.0       2.0     45.0   NaN       NaN      NaN\n",
            "2004  60.0       3.0     67.0   NaN       NaN      NaN\n",
            "2005   NaN       NaN      NaN  80.0       2.0     50.0\n",
            "2006   NaN       NaN      NaN  90.0       1.0     45.0\n",
            "2007   NaN       NaN      NaN  70.0       2.0     45.0\n",
            "2008   NaN       NaN      NaN  60.0       3.0     67.0\n"
          ],
          "name": "stdout"
        }
      ]
    },
    {
      "cell_type": "markdown",
      "metadata": {
        "id": "lrr78u8hxrOs"
      },
      "source": [
        " You can see there are bunch of missing values. This happens because the dataframes didn't have values for all the indexes you want to concatenate on."
      ]
    },
    {
      "cell_type": "markdown",
      "metadata": {
        "id": "Y7N9ucl7mAGk"
      },
      "source": [
        "**Aggregating and Grouping**\n",
        "\n",
        "Grouping is probably one of the most popular methods in data analysis. If you want to group data in pandas you have to use .groupby method."
      ]
    },
    {
      "cell_type": "code",
      "metadata": {
        "id": "8f27vfR6mNBt",
        "outputId": "ddf2959b-838e-4ce0-d2fd-a46eefd4e56c",
        "colab": {
          "base_uri": "https://localhost:8080/",
          "height": 305
        }
      },
      "source": [
        "df"
      ],
      "execution_count": 20,
      "outputs": [
        {
          "output_type": "execute_result",
          "data": {
            "text/html": [
              "<div>\n",
              "<style scoped>\n",
              "    .dataframe tbody tr th:only-of-type {\n",
              "        vertical-align: middle;\n",
              "    }\n",
              "\n",
              "    .dataframe tbody tr th {\n",
              "        vertical-align: top;\n",
              "    }\n",
              "\n",
              "    .dataframe thead th {\n",
              "        text-align: right;\n",
              "    }\n",
              "</style>\n",
              "<table border=\"1\" class=\"dataframe\">\n",
              "  <thead>\n",
              "    <tr style=\"text-align: right;\">\n",
              "      <th></th>\n",
              "      <th>Day</th>\n",
              "      <th>Visitors</th>\n",
              "      <th>Bounce_Rate</th>\n",
              "      <th>Rating</th>\n",
              "    </tr>\n",
              "  </thead>\n",
              "  <tbody>\n",
              "    <tr>\n",
              "      <th>0</th>\n",
              "      <td>1</td>\n",
              "      <td>1000</td>\n",
              "      <td>20</td>\n",
              "      <td>5</td>\n",
              "    </tr>\n",
              "    <tr>\n",
              "      <th>1</th>\n",
              "      <td>2</td>\n",
              "      <td>700</td>\n",
              "      <td>20</td>\n",
              "      <td>4</td>\n",
              "    </tr>\n",
              "    <tr>\n",
              "      <th>2</th>\n",
              "      <td>3</td>\n",
              "      <td>6000</td>\n",
              "      <td>23</td>\n",
              "      <td>4</td>\n",
              "    </tr>\n",
              "    <tr>\n",
              "      <th>3</th>\n",
              "      <td>4</td>\n",
              "      <td>1000</td>\n",
              "      <td>15</td>\n",
              "      <td>3</td>\n",
              "    </tr>\n",
              "    <tr>\n",
              "      <th>4</th>\n",
              "      <td>5</td>\n",
              "      <td>400</td>\n",
              "      <td>10</td>\n",
              "      <td>5</td>\n",
              "    </tr>\n",
              "    <tr>\n",
              "      <th>5</th>\n",
              "      <td>6</td>\n",
              "      <td>350</td>\n",
              "      <td>34</td>\n",
              "      <td>4</td>\n",
              "    </tr>\n",
              "  </tbody>\n",
              "</table>\n",
              "</div>"
            ],
            "text/plain": [
              "   Day  Visitors  Bounce_Rate  Rating\n",
              "0    1      1000           20       5\n",
              "1    2       700           20       4\n",
              "2    3      6000           23       4\n",
              "3    4      1000           15       3\n",
              "4    5       400           10       5\n",
              "5    6       350           34       4"
            ]
          },
          "metadata": {
            "tags": []
          },
          "execution_count": 20
        }
      ]
    },
    {
      "cell_type": "markdown",
      "metadata": {
        "id": "z88wS1I7mRhR"
      },
      "source": [
        "Let's calculate how rating is given by the visitors, we will use *.groupby* as stated above."
      ]
    },
    {
      "cell_type": "code",
      "metadata": {
        "id": "7pixlBigmROA",
        "outputId": "c4e1e252-28f7-4cb9-a91b-a8f3c87597bf",
        "colab": {
          "base_uri": "https://localhost:8080/"
        }
      },
      "source": [
        "print(df.groupby(['Rating','Day'])['Visitors'].sum())"
      ],
      "execution_count": 29,
      "outputs": [
        {
          "output_type": "stream",
          "text": [
            "Rating  Day\n",
            "3       4      1000\n",
            "4       2       700\n",
            "        3      6000\n",
            "        6       350\n",
            "5       1      1000\n",
            "        5       400\n",
            "Name: Visitors, dtype: int64\n"
          ],
          "name": "stdout"
        }
      ]
    },
    {
      "cell_type": "markdown",
      "metadata": {
        "id": "fr_na-Xcx9Bt"
      },
      "source": [
        "**Change the Index**\n",
        "\n",
        "[pandas.DataFrame.set_index()](https://pandas.pydata.org/docs/reference/api/pandas.DataFrame.set_index.html?highlight=set_index#pandas.DataFrame.set_index) using one or more existing columns or arrays(of the correct length). The index can replace the existing index or expand on it.\n",
        "\n"
      ]
    },
    {
      "cell_type": "code",
      "metadata": {
        "id": "MoBW670uxjdp",
        "colab": {
          "base_uri": "https://localhost:8080/"
        },
        "outputId": "5ab01215-e8e1-4247-ca5d-4ac73a5fda8d"
      },
      "source": [
        "df= pd.DataFrame({\"Day\":[1,2,3,4], \"Visitors\":[200, 100,230,300], \"Bounce_Rate\":[20,45,60,10]})  \n",
        "df.set_index(\"Day\", inplace= True) \n",
        "print(df)"
      ],
      "execution_count": null,
      "outputs": [
        {
          "output_type": "stream",
          "text": [
            "     Visitors  Bounce_Rate\n",
            "Day                       \n",
            "1         200           20\n",
            "2         100           45\n",
            "3         230           60\n",
            "4         300           10\n"
          ],
          "name": "stdout"
        }
      ]
    },
    {
      "cell_type": "markdown",
      "metadata": {
        "id": "ZkJmycjDywM6"
      },
      "source": [
        "**Change the Column Headers**\n",
        "\n",
        "[pandas.DataFrame.rename()](https://pandas.pydata.org/docs/reference/api/pandas.DataFrame.rename.html?highlight=rename#pandas.DataFrame.rename) methos is used to change the headers of columns."
      ]
    },
    {
      "cell_type": "code",
      "metadata": {
        "id": "LeuWVpk9ypGw",
        "colab": {
          "base_uri": "https://localhost:8080/"
        },
        "outputId": "92e3c2bc-c384-450e-9f78-2e2e8a795236"
      },
      "source": [
        "df = df.rename(columns={\"Visitors\":\"Users\"})\n",
        "print(df)"
      ],
      "execution_count": null,
      "outputs": [
        {
          "output_type": "stream",
          "text": [
            "     Uers  Bounce_Rate\n",
            "Day                   \n",
            "1     200           20\n",
            "2     100           45\n",
            "3     230           60\n",
            "4     300           10\n"
          ],
          "name": "stdout"
        }
      ]
    },
    {
      "cell_type": "markdown",
      "metadata": {
        "id": "ay0yia8GzdJX"
      },
      "source": [
        "You can see column header \"Visitors\" is changed to \"Users\"."
      ]
    },
    {
      "cell_type": "markdown",
      "metadata": {
        "id": "r80KS5tbzmJH"
      },
      "source": [
        "**Data Munging**\n",
        "\n",
        "In Data munging, you can convert a particular data into different format. For example, if you habe a .csv file, you can convert it to .html or ant other data format as well."
      ]
    },
    {
      "cell_type": "code",
      "metadata": {
        "id": "OKB5K_W8zK9b"
      },
      "source": [
        "country=pd.read_csv(\"File_path/file_name.csv\")\n",
        "country.to_html('file_name.html')"
      ],
      "execution_count": null,
      "outputs": []
    },
    {
      "cell_type": "markdown",
      "metadata": {
        "id": "HBSKNa_30aqI"
      },
      "source": [
        "These are some basic python pandas operations and methods used in data analysis. You an check the pandas doxcumentation [here](https://pandas.pydata.org/docs/reference/index.html#api)"
      ]
    },
    {
      "cell_type": "code",
      "metadata": {
        "id": "Hhj1mXlh0Z5-"
      },
      "source": [
        ""
      ],
      "execution_count": null,
      "outputs": []
    }
  ]
}