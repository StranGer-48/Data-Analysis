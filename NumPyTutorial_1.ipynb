{
  "nbformat": 4,
  "nbformat_minor": 0,
  "metadata": {
    "colab": {
      "name": "NumPyTutorial_1.ipynb",
      "provenance": [],
      "collapsed_sections": [],
      "authorship_tag": "ABX9TyPT/w3auGghZ97NiMcsRBev",
      "include_colab_link": true
    },
    "kernelspec": {
      "name": "python3",
      "display_name": "Python 3"
    }
  },
  "cells": [
    {
      "cell_type": "markdown",
      "metadata": {
        "id": "view-in-github",
        "colab_type": "text"
      },
      "source": [
        "<a href=\"https://colab.research.google.com/github/StranGer-48/Data-Analysis/blob/main/NumPyTutorial_1.ipynb\" target=\"_parent\"><img src=\"https://colab.research.google.com/assets/colab-badge.svg\" alt=\"Open In Colab\"/></a>"
      ]
    },
    {
      "cell_type": "code",
      "metadata": {
        "id": "ZPqqLOMprLZR"
      },
      "source": [
        "import numpy as np"
      ],
      "execution_count": 2,
      "outputs": []
    },
    {
      "cell_type": "markdown",
      "metadata": {
        "id": "ZuLMeyP1uT_V"
      },
      "source": [
        "# **Creating a NumPy Array**"
      ]
    },
    {
      "cell_type": "markdown",
      "metadata": {
        "id": "la5d3p7xujBK"
      },
      "source": [
        "NumPy arrays are very easy to create given the complex problems they solve. To create a very basic array ndarray, you use the [np.array()](https://numpy.org/doc/stable/reference/generated/numpy.array.html) method. All you have to pass are the values of the array as a list:"
      ]
    },
    {
      "cell_type": "code",
      "metadata": {
        "id": "AHNKUVs1vAYh",
        "outputId": "975866f3-4000-4d9e-86c2-1377e4407280",
        "colab": {
          "base_uri": "https://localhost:8080/"
        }
      },
      "source": [
        "np.array([1,2,3,4])"
      ],
      "execution_count": 3,
      "outputs": [
        {
          "output_type": "execute_result",
          "data": {
            "text/plain": [
              "array([1, 2, 3, 4])"
            ]
          },
          "metadata": {
            "tags": []
          },
          "execution_count": 3
        }
      ]
    },
    {
      "cell_type": "markdown",
      "metadata": {
        "id": "khhAXF_zvFV1"
      },
      "source": [
        "This array contains integer values. You can specify the type of data in the dtype argument:"
      ]
    },
    {
      "cell_type": "code",
      "metadata": {
        "id": "AInxg35UvEDH",
        "outputId": "382e5164-294f-42b8-bab9-e73fb2120e69",
        "colab": {
          "base_uri": "https://localhost:8080/"
        }
      },
      "source": [
        "np.array([1,2,3,4],dtype=np.float32)"
      ],
      "execution_count": 4,
      "outputs": [
        {
          "output_type": "execute_result",
          "data": {
            "text/plain": [
              "array([1., 2., 3., 4.], dtype=float32)"
            ]
          },
          "metadata": {
            "tags": []
          },
          "execution_count": 4
        }
      ]
    },
    {
      "cell_type": "markdown",
      "metadata": {
        "id": "CeEqUiqBvxJE"
      },
      "source": [
        "Since NumPy arrays can contain only homogeneous datatypes, values will be upcast if the types do not match:"
      ]
    },
    {
      "cell_type": "code",
      "metadata": {
        "id": "pVIQfNIvvwMY",
        "outputId": "89caad46-5705-469e-d788-e62493c9503f",
        "colab": {
          "base_uri": "https://localhost:8080/"
        }
      },
      "source": [
        "np.array([1,2.0,3,4])"
      ],
      "execution_count": 5,
      "outputs": [
        {
          "output_type": "execute_result",
          "data": {
            "text/plain": [
              "array([1., 2., 3., 4.])"
            ]
          },
          "metadata": {
            "tags": []
          },
          "execution_count": 5
        }
      ]
    },
    {
      "cell_type": "markdown",
      "metadata": {
        "id": "PJPIQQmkwM7w"
      },
      "source": [
        "NumPy arrays can be multi-dimentional values too."
      ]
    },
    {
      "cell_type": "code",
      "metadata": {
        "id": "GtDVzROhwFGy",
        "outputId": "b350c44a-7f24-4dc8-d78e-b3311aedf6bb",
        "colab": {
          "base_uri": "https://localhost:8080/"
        }
      },
      "source": [
        "np.array([[1,2,3,4],[5,6,7,8]])"
      ],
      "execution_count": 6,
      "outputs": [
        {
          "output_type": "execute_result",
          "data": {
            "text/plain": [
              "array([[1, 2, 3, 4],\n",
              "       [5, 6, 7, 8]])"
            ]
          },
          "metadata": {
            "tags": []
          },
          "execution_count": 6
        }
      ]
    },
    {
      "cell_type": "markdown",
      "metadata": {
        "id": "22hkMr7awdQ0"
      },
      "source": [
        "Her we created a 2-dimensional array of values.\n",
        "\n",
        "*Note: A matrix is just a rectangular array of numbers with shape N x M where N is the number od rows and M is the number of columns in the matrix. The one you just saw above is a 2 x 4 matrix.*"
      ]
    },
    {
      "cell_type": "markdown",
      "metadata": {
        "id": "QaVAc8Gmw9Dz"
      },
      "source": [
        "**Array of zeros**\n",
        "\n",
        "NumPy lets you create an array of all zeros using the [np.zeros()](https://numpy.org/doc/stable/reference/generated/numpy.zeros.html#numpy.zeros) method. All you have to do is pass the shape of the desired array:"
      ]
    },
    {
      "cell_type": "code",
      "metadata": {
        "id": "2pKg1ITWwbbs",
        "outputId": "c32f5d22-4938-4c2b-d380-b5bd9ab40f27",
        "colab": {
          "base_uri": "https://localhost:8080/"
        }
      },
      "source": [
        "np.zeros(5)"
      ],
      "execution_count": 7,
      "outputs": [
        {
          "output_type": "execute_result",
          "data": {
            "text/plain": [
              "array([0., 0., 0., 0., 0.])"
            ]
          },
          "metadata": {
            "tags": []
          },
          "execution_count": 7
        }
      ]
    },
    {
      "cell_type": "markdown",
      "metadata": {
        "id": "JvhzT2msy3Vj"
      },
      "source": [
        "The one above is a 1-D array while the one below is a 2-d array:"
      ]
    },
    {
      "cell_type": "code",
      "metadata": {
        "id": "w9TilRWry0VN",
        "outputId": "e6c78a11-637f-48a8-ab84-dc44c954b751",
        "colab": {
          "base_uri": "https://localhost:8080/"
        }
      },
      "source": [
        "np.zeros((2,3))"
      ],
      "execution_count": 8,
      "outputs": [
        {
          "output_type": "execute_result",
          "data": {
            "text/plain": [
              "array([[0., 0., 0.],\n",
              "       [0., 0., 0.]])"
            ]
          },
          "metadata": {
            "tags": []
          },
          "execution_count": 8
        }
      ]
    },
    {
      "cell_type": "markdown",
      "metadata": {
        "id": "gpnhKIlpzGbW"
      },
      "source": [
        "**Array of ones**\n",
        "\n",
        "You could also create an array of all 1s using the [np.ones()](https://numpy.org/doc/stable/reference/generated/numpy.ones.html#numpy.ones) method:"
      ]
    },
    {
      "cell_type": "code",
      "metadata": {
        "id": "v30EhgQrzCve",
        "outputId": "30126abe-da29-49b5-f125-bd8321c3c0f5",
        "colab": {
          "base_uri": "https://localhost:8080/"
        }
      },
      "source": [
        "np.ones(5,dtype=np.int32)"
      ],
      "execution_count": 9,
      "outputs": [
        {
          "output_type": "execute_result",
          "data": {
            "text/plain": [
              "array([1, 1, 1, 1, 1], dtype=int32)"
            ]
          },
          "metadata": {
            "tags": []
          },
          "execution_count": 9
        }
      ]
    },
    {
      "cell_type": "code",
      "metadata": {
        "id": "COygEYnWzZvJ",
        "outputId": "eef9701a-09fa-4577-8439-39635053d6aa",
        "colab": {
          "base_uri": "https://localhost:8080/"
        }
      },
      "source": [
        "np.ones((2,3), dtype=np.float32)"
      ],
      "execution_count": 10,
      "outputs": [
        {
          "output_type": "execute_result",
          "data": {
            "text/plain": [
              "array([[1., 1., 1.],\n",
              "       [1., 1., 1.]], dtype=float32)"
            ]
          },
          "metadata": {
            "tags": []
          },
          "execution_count": 10
        }
      ]
    },
    {
      "cell_type": "markdown",
      "metadata": {
        "id": "nC05qHpAzlF3"
      },
      "source": [
        "**Random numbers in ndarrays**\n",
        "\n",
        "Another very commonly used method to create ndarays is [np.random.rand()](https://docs.scipy.org/doc/numpy-1.14.1/reference/generated/numpy.random.rand.html) method. It creates an array of a given shape with random values from [0,1):"
      ]
    },
    {
      "cell_type": "code",
      "metadata": {
        "id": "YNpFjJiBziik",
        "outputId": "0ebcec8e-5ba3-4978-df3e-2ed1d2bc9fd1",
        "colab": {
          "base_uri": "https://localhost:8080/"
        }
      },
      "source": [
        "np.random.rand(2,3)"
      ],
      "execution_count": 11,
      "outputs": [
        {
          "output_type": "execute_result",
          "data": {
            "text/plain": [
              "array([[0.75815368, 0.30156185, 0.31021497],\n",
              "       [0.73651711, 0.41747322, 0.17371312]])"
            ]
          },
          "metadata": {
            "tags": []
          },
          "execution_count": 11
        }
      ]
    },
    {
      "cell_type": "markdown",
      "metadata": {
        "id": "ogaUcmDk0FH9"
      },
      "source": [
        "**An array of your choice**\n",
        "\n",
        "Or, in fact, you can create an array filled with any given value using the [np.fill()](https://numpy.org/doc/stable/reference/generated/numpy.full.html) method. Just pass in the shape of the desired array and the value you want:"
      ]
    },
    {
      "cell_type": "code",
      "metadata": {
        "id": "ggR8rHrA0C13",
        "outputId": "9cde5b75-ab65-4619-f3f8-b7e73ce19f0e",
        "colab": {
          "base_uri": "https://localhost:8080/"
        }
      },
      "source": [
        "np.full((2,2),7)"
      ],
      "execution_count": 12,
      "outputs": [
        {
          "output_type": "execute_result",
          "data": {
            "text/plain": [
              "array([[7, 7],\n",
              "       [7, 7]])"
            ]
          },
          "metadata": {
            "tags": []
          },
          "execution_count": 12
        }
      ]
    },
    {
      "cell_type": "markdown",
      "metadata": {
        "id": "d4Kf1gc6a03_"
      },
      "source": [
        "**Imatrix in NumPy**\n",
        "\n",
        "Another great method is [np.eye()](https://numpy.org/doc/stable/reference/generated/numpy.eye.html) that returns an array with 1s along its diagonal and 0s everywhere else. Below is an idendtity matrix of shape 3x3.\n",
        "\n",
        "*Note: A square matirix has an NxN shape. This means it has the same number of rows and columns.*"
      ]
    },
    {
      "cell_type": "code",
      "metadata": {
        "id": "sLqoZlXF0fD8",
        "outputId": "08b198f1-23ba-44cb-c4d1-bd6082c9fd5b",
        "colab": {
          "base_uri": "https://localhost:8080/"
        }
      },
      "source": [
        "np.eye(3)"
      ],
      "execution_count": 13,
      "outputs": [
        {
          "output_type": "execute_result",
          "data": {
            "text/plain": [
              "array([[1., 0., 0.],\n",
              "       [0., 1., 0.],\n",
              "       [0., 0., 1.]])"
            ]
          },
          "metadata": {
            "tags": []
          },
          "execution_count": 13
        }
      ]
    },
    {
      "cell_type": "markdown",
      "metadata": {
        "id": "qv9lykAXbzRD"
      },
      "source": [
        "However, NumPy gives you the flexibility to change the diagonal along which the values have to be 1s. You can either move it above the main  diagonal:\n"
      ]
    },
    {
      "cell_type": "code",
      "metadata": {
        "id": "xqwO32u6btQ2",
        "outputId": "e2c8663a-6c92-4e1c-cb85-1d62e3fcb188",
        "colab": {
          "base_uri": "https://localhost:8080/"
        }
      },
      "source": [
        "np.eye(3,k=1)"
      ],
      "execution_count": 17,
      "outputs": [
        {
          "output_type": "execute_result",
          "data": {
            "text/plain": [
              "array([[0., 1., 0.],\n",
              "       [0., 0., 1.],\n",
              "       [0., 0., 0.]])"
            ]
          },
          "metadata": {
            "tags": []
          },
          "execution_count": 17
        }
      ]
    },
    {
      "cell_type": "markdown",
      "metadata": {
        "id": "AWEWF4dtcUXX"
      },
      "source": [
        "Or move it below the main diagonal:\n"
      ]
    },
    {
      "cell_type": "code",
      "metadata": {
        "id": "BJgxkc3ScJI4",
        "outputId": "66da3707-40b2-4730-d159-7dc18982d74a",
        "colab": {
          "base_uri": "https://localhost:8080/"
        }
      },
      "source": [
        "np.eye(3,k=-2)"
      ],
      "execution_count": 18,
      "outputs": [
        {
          "output_type": "execute_result",
          "data": {
            "text/plain": [
              "array([[0., 0., 0.],\n",
              "       [0., 0., 0.],\n",
              "       [1., 0., 0.]])"
            ]
          },
          "metadata": {
            "tags": []
          },
          "execution_count": 18
        }
      ]
    },
    {
      "cell_type": "markdown",
      "metadata": {
        "id": "8X1qTjxQce0c"
      },
      "source": [
        "**Evenly spaced ndarray**\n",
        "\n",
        "You can quickly get an evenly spaced array of numbers using the [np.arange()](https://numpy.org/doc/stable/reference/generated/numpy.arange.html)  method:"
      ]
    },
    {
      "cell_type": "code",
      "metadata": {
        "id": "AweDULLEcaZn",
        "outputId": "1df4281e-1871-4dee-a75c-c35c9c12c76e",
        "colab": {
          "base_uri": "https://localhost:8080/"
        }
      },
      "source": [
        "np.arange(5)"
      ],
      "execution_count": 19,
      "outputs": [
        {
          "output_type": "execute_result",
          "data": {
            "text/plain": [
              "array([0, 1, 2, 3, 4])"
            ]
          },
          "metadata": {
            "tags": []
          },
          "execution_count": 19
        }
      ]
    },
    {
      "cell_type": "markdown",
      "metadata": {
        "id": "EmFGcInVcygS"
      },
      "source": [
        "The start, end and step size of the interval of values can be explicitly defined by passing in three numbers as arguments for these values respectively. A point to be here is that the interval is defined as [start,end) where the last number will not be included in the array:\n"
      ]
    },
    {
      "cell_type": "code",
      "metadata": {
        "id": "CFCKmf-scwiZ",
        "outputId": "fc7cfeb6-b72f-42e5-c44f-2d7af0e3770f",
        "colab": {
          "base_uri": "https://localhost:8080/"
        }
      },
      "source": [
        "np.arange(2,10,2)"
      ],
      "execution_count": 20,
      "outputs": [
        {
          "output_type": "execute_result",
          "data": {
            "text/plain": [
              "array([2, 4, 6, 8])"
            ]
          },
          "metadata": {
            "tags": []
          },
          "execution_count": 20
        }
      ]
    },
    {
      "cell_type": "markdown",
      "metadata": {
        "id": "19ykvMNwdYgF"
      },
      "source": [
        "Another similar funtion is [np.linspace()](https://numpy.org/doc/stable/reference/generated/numpy.linspace.html), but instead od step size, it takes in the number of samples that need to be retrieved from the interval. A point note here is that the last number is included in the values returned unlike in the case of np.arange().\n"
      ]
    },
    {
      "cell_type": "code",
      "metadata": {
        "id": "ZECiw8LidTbf",
        "outputId": "c0288776-5b85-4236-979b-9d22bf35e93c",
        "colab": {
          "base_uri": "https://localhost:8080/"
        }
      },
      "source": [
        "np.linspace(0,1,5)"
      ],
      "execution_count": 21,
      "outputs": [
        {
          "output_type": "execute_result",
          "data": {
            "text/plain": [
              "array([0.  , 0.25, 0.5 , 0.75, 1.  ])"
            ]
          },
          "metadata": {
            "tags": []
          },
          "execution_count": 21
        }
      ]
    },
    {
      "cell_type": "markdown",
      "metadata": {
        "id": "z0ZHjAHLet0X"
      },
      "source": [
        "**The Shape and Reshaping of NumPy Arrays**\n",
        "\n",
        "Once you have created your ndarray, the next thigng you would want to do is check the number of axes, shape and the size of the ndarray.\n",
        "\n",
        "\n",
        "**Dimentions of NumPy arrays**\n",
        "\n",
        "You can easily determine the number of dimentions or axes of a NumPy array using the ndims attribute:\n",
        " "
      ]
    },
    {
      "cell_type": "code",
      "metadata": {
        "id": "wzTDWrsRd5pr",
        "outputId": "bb837838-331e-42f4-98ec-03390f61e5ec",
        "colab": {
          "base_uri": "https://localhost:8080/"
        }
      },
      "source": [
        "a = np.array([[5,10,15],[20,25,20]])\n",
        "print('Array :','\\n', a)\n",
        "print('Dimentions :','\\n',a.ndim)"
      ],
      "execution_count": 22,
      "outputs": [
        {
          "output_type": "stream",
          "text": [
            "Array : \n",
            " [[ 5 10 15]\n",
            " [20 25 20]]\n",
            "Dimentions : \n",
            " 2\n"
          ],
          "name": "stdout"
        }
      ]
    },
    {
      "cell_type": "markdown",
      "metadata": {
        "id": "NH323gjUflzE"
      },
      "source": [
        "This array has two dimentions: 2 rows and 3 columns."
      ]
    },
    {
      "cell_type": "markdown",
      "metadata": {
        "id": "7rD3Hmk6frRg"
      },
      "source": [
        "**Shape of NumPy array**\n",
        "\n",
        "The shape is an attrrie of the NumPy array that shows how many rows of elements are there along each dimention. You can further index the shape so returned by the ndarray to get value along each dimension:"
      ]
    },
    {
      "cell_type": "code",
      "metadata": {
        "id": "wUnS35kOfjRn",
        "outputId": "188964f5-9eed-422c-fe8b-8a250d9a73dd",
        "colab": {
          "base_uri": "https://localhost:8080/"
        }
      },
      "source": [
        "a = np.array([[1,2,3],[4,5,6]])\n",
        "print('Array :','\\n',a)\n",
        "print('Shape :','\\n', a.shape)\n",
        "print('Rows :','\\n',a.shape[0])\n",
        "print('Columns :', '\\n', a.shape[1])"
      ],
      "execution_count": 25,
      "outputs": [
        {
          "output_type": "stream",
          "text": [
            "Array : \n",
            " [[1 2 3]\n",
            " [4 5 6]]\n",
            "Shape : \n",
            " (2, 3)\n",
            "Rows : \n",
            " 2\n",
            "Columns : \n",
            " 3\n"
          ],
          "name": "stdout"
        }
      ]
    },
    {
      "cell_type": "markdown",
      "metadata": {
        "id": "2rAvknKWgpv-"
      },
      "source": [
        "**Size of NumPy array**\n",
        "\n",
        "You can determine how many values there are in the array using the size attribute. It just multiplies the number of rows by the number of columns in the ndarray:\n"
      ]
    },
    {
      "cell_type": "code",
      "metadata": {
        "id": "c0MXW_Gpgi1r",
        "outputId": "9b296dd7-1407-417b-f3a3-6200f02778cf",
        "colab": {
          "base_uri": "https://localhost:8080/"
        }
      },
      "source": [
        "a = np.array([[5,10,15],[20,25,20]])\n",
        "print('Size of array :',a.size)\n",
        "print('Manual determination of size of array :', a.shape[0]*a.shape[1])"
      ],
      "execution_count": 27,
      "outputs": [
        {
          "output_type": "stream",
          "text": [
            "Size of array : 6\n",
            "Manual determination of size of array : 6\n"
          ],
          "name": "stdout"
        }
      ]
    },
    {
      "cell_type": "markdown",
      "metadata": {
        "id": "n1oOTia6hTFi"
      },
      "source": [
        "**Reshaping a NumPy array**\n",
        "\n",
        "Reshaping a ndarray can be done using the [np.reshape()](https://numpy.org/doc/stable/reference/generated/numpy.reshape.html#numpy.reshape) method. It changes the shape of the ndarray without changing the data within the ndarray:"
      ]
    },
    {
      "cell_type": "code",
      "metadata": {
        "id": "ZaNJwAmvhOB4",
        "outputId": "fdc6df55-adee-43aa-c0fa-9bb8b85a55c8",
        "colab": {
          "base_uri": "https://localhost:8080/"
        }
      },
      "source": [
        "a = np.array([3,6,9,12])\n",
        "np.reshape(a,(2,2))"
      ],
      "execution_count": 28,
      "outputs": [
        {
          "output_type": "execute_result",
          "data": {
            "text/plain": [
              "array([[ 3,  6],\n",
              "       [ 9, 12]])"
            ]
          },
          "metadata": {
            "tags": []
          },
          "execution_count": 28
        }
      ]
    },
    {
      "cell_type": "markdown",
      "metadata": {
        "id": "M7bFzYujh-F5"
      },
      "source": [
        "Here, I reshaped the ndarray from a 1-D to a 2-D ndarray.\n",
        "\n",
        "While reshaping, if ypu are unsure about the shape of any of the axis, just input -1. NumPy automatically calculates the shape when it sees a -1:\n"
      ]
    },
    {
      "cell_type": "code",
      "metadata": {
        "id": "6a8ss6hvh71-",
        "outputId": "ee603cd1-4fb9-487c-e26c-e2444bc8dbaf",
        "colab": {
          "base_uri": "https://localhost:8080/"
        }
      },
      "source": [
        "a = np.array([3,6,9,12,18,24])\n",
        "print('Three rows :', '\\n',np.reshape(a,(3,-1)))\n",
        "print('Three columns: ','\\n',np.reshape(a,(-1,3)))"
      ],
      "execution_count": 32,
      "outputs": [
        {
          "output_type": "stream",
          "text": [
            "Three rows : \n",
            " [[ 3  6]\n",
            " [ 9 12]\n",
            " [18 24]]\n",
            "Three columns:  \n",
            " [[ 3  6  9]\n",
            " [12 18 24]]\n"
          ],
          "name": "stdout"
        }
      ]
    },
    {
      "cell_type": "markdown",
      "metadata": {
        "id": "ho8FOuaIi5oX"
      },
      "source": [
        "**Flattening a NumPy array**\n",
        "\n",
        "Sometimes when you have a multidimentional array and want to collapse it to a single-dimentional array, you can either use the [flatten()](https://numpy.org/doc/stable/reference/generated/numpy.ndarray.flatten.html#numpy.ndarray.flatten) methos or [np.ravel()](https://numpy.org/doc/stable/reference/generated/numpy.ravel.html#numpy.ravel) method:"
      ]
    },
    {
      "cell_type": "code",
      "metadata": {
        "id": "djg7yDVIiob9",
        "outputId": "5fdf6143-26bb-4c57-c026-9c2738b305c2",
        "colab": {
          "base_uri": "https://localhost:8080/"
        }
      },
      "source": [
        "a = np.ones((2,2))\n",
        "b = a.flatten()\n",
        "c = np.ravel(a)\n",
        "\n",
        "print('Original shape :', a.shape)\n",
        "print('Array :','\\n', a)\n",
        "print('Shape after flatten :', b.shape)\n",
        "print('Array :','\\n',b)\n",
        "print('Shape after ravel :', c.shape)\n",
        "print('Array :' ,'\\n',c)"
      ],
      "execution_count": 33,
      "outputs": [
        {
          "output_type": "stream",
          "text": [
            "Original shape : (2, 2)\n",
            "Array : \n",
            " [[1. 1.]\n",
            " [1. 1.]]\n",
            "Shape after flatten : (4,)\n",
            "Array : \n",
            " [1. 1. 1. 1.]\n",
            "Shape after ravel : (4,)\n",
            "Array : \n",
            " [1. 1. 1. 1.]\n"
          ],
          "name": "stdout"
        }
      ]
    },
    {
      "cell_type": "markdown",
      "metadata": {
        "id": "dmP--mbJljXw"
      },
      "source": [
        "But an important difference between flatten() and ravel() is that the former returns a copy of the original array. This means any changes made to the array returned from ravel() will also be reflected in the original array whilw this will not be the case with flatten()."
      ]
    },
    {
      "cell_type": "code",
      "metadata": {
        "id": "xcZxWlqBldPq",
        "outputId": "71323c43-da73-4eb5-9682-b05c877961c4",
        "colab": {
          "base_uri": "https://localhost:8080/"
        }
      },
      "source": [
        "b[0] = 0\n",
        "print(a)"
      ],
      "execution_count": 34,
      "outputs": [
        {
          "output_type": "stream",
          "text": [
            "[[1. 1.]\n",
            " [1. 1.]]\n"
          ],
          "name": "stdout"
        }
      ]
    },
    {
      "cell_type": "code",
      "metadata": {
        "id": "J6iMmql8l_ai",
        "outputId": "171d3979-9704-42db-977e-373c8b02faea",
        "colab": {
          "base_uri": "https://localhost:8080/"
        }
      },
      "source": [
        "c[0] = 0\n",
        "print(a)"
      ],
      "execution_count": 35,
      "outputs": [
        {
          "output_type": "stream",
          "text": [
            "[[0. 1.]\n",
            " [1. 1.]]\n"
          ],
          "name": "stdout"
        }
      ]
    },
    {
      "cell_type": "markdown",
      "metadata": {
        "id": "sykaGvDzmKOB"
      },
      "source": [
        "But here, the changed value is also reflected in the original ndarray.\n",
        "\n",
        "What is happening here is that flatten() creates a **Deep copy** of the ndarry while ravel() creates a **Shallow copy** of the ndarray.\n",
        "\n",
        "Deep copy means that a completely new ndarray is created in memory and the ndarray object returned by flatten() is now pointing ti this memory location. Therefore, any changes made here will not be reflected in the original ndarray.\n",
        "\n",
        "A Shallow copy, on the other hand, returns a reference to the original memory location. Meaning the object returned by revel() in pointing to the same memory location as the original ndarray object. So, definitely, any changes made to this ndarry will also be reflected in the original ndarray too."
      ]
    },
    {
      "cell_type": "markdown",
      "metadata": {
        "id": "T0O1FTr6nVyz"
      },
      "source": [
        "**Transpose of a NumPy array**\n",
        "\n",
        "Another very interesting reshaping method of NumPy is the [transpose()](https://numpy.org/doc/stable/reference/generated/numpy.transpose.html#numpy.transpose) method. It takes the input array and swaps the rows with the columns values, and the columns values with the values of the rows:"
      ]
    },
    {
      "cell_type": "markdown",
      "metadata": {
        "id": "YjLXEnS0peoL"
      },
      "source": [
        "**Expanding and Squeezing a NumPy array**\n",
        "\n",
        "**Expanding a Numpy Array**\n",
        "You can add a new axis to an array using the [np.expand_dims()](https://numpy.org/doc/stable/reference/generated/numpy.expand_dims.html#numpy.expand_dims) method by providing the array and the axis along which to expand:"
      ]
    },
    {
      "cell_type": "code",
      "metadata": {
        "id": "POBNOWUJmE9C",
        "outputId": "90b4a9e4-f3ba-4238-cffd-92251c39c03a",
        "colab": {
          "base_uri": "https://localhost:8080/"
        }
      },
      "source": [
        "a = np.array([1,2,3,4])\n",
        "b = np.expand_dims(a,axis=0)\n",
        "c = np.expand_dims(a,axis=1)\n",
        "print('Original:','\\n','Shape',a.shape,'\\n',a)\n",
        "print('Expand along columns:','\\n','Shape',b.shape,'\\n',b)\n",
        "print('Expand along rows:','\\n','Shape',c.shape,'\\n',c)"
      ],
      "execution_count": 37,
      "outputs": [
        {
          "output_type": "stream",
          "text": [
            "Original: \n",
            " Shape (4,) \n",
            " [1 2 3 4]\n",
            "Expand along columns: \n",
            " Shape (1, 4) \n",
            " [[1 2 3 4]]\n",
            "Expand along rows: \n",
            " Shape (4, 1) \n",
            " [[1]\n",
            " [2]\n",
            " [3]\n",
            " [4]]\n"
          ],
          "name": "stdout"
        }
      ]
    },
    {
      "cell_type": "markdown",
      "metadata": {
        "id": "QEMsEltEqz1V"
      },
      "source": [
        "**Squeezing a NumPy array**\n",
        "On the other hand, if you instead want to reduce the axis of the array, use the [np.squeeze()](print('Expand along columns:','\\n','Shape',b.shape,'\\n',b)) method. It removes the axis that has a single entry. This means if you have created a 2 x 2 x 1 matrix, squeeze will remove the third dimension from the matrix:"
      ]
    },
    {
      "cell_type": "code",
      "metadata": {
        "id": "xLB-dJr0qhgz",
        "outputId": "70232a8b-63ef-468e-ddbe-d0b90031f195",
        "colab": {
          "base_uri": "https://localhost:8080/"
        }
      },
      "source": [
        "a = np.array([[[1,2,3],[4,5,6]]])\n",
        "b = np.squeeze(a)\n",
        "print('Original','\\n','Shape',a.shape,'\\n',a)\n",
        "print('Squeeze array:','\\n','Shape',b.shape,'\\n',b)"
      ],
      "execution_count": 40,
      "outputs": [
        {
          "output_type": "stream",
          "text": [
            "Original \n",
            " Shape (1, 2, 3) \n",
            " [[[1 2 3]\n",
            "  [4 5 6]]]\n",
            "Squeeze array: \n",
            " Shape (2, 3) \n",
            " [[1 2 3]\n",
            " [4 5 6]]\n"
          ],
          "name": "stdout"
        }
      ]
    },
    {
      "cell_type": "code",
      "metadata": {
        "id": "NOJ-n0OrryJv"
      },
      "source": [
        ""
      ],
      "execution_count": null,
      "outputs": []
    }
  ]
}
