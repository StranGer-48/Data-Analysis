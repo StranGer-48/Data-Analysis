{
  "nbformat": 4,
  "nbformat_minor": 0,
  "metadata": {
    "colab": {
      "name": "SciPyTutorial1.ipynb",
      "provenance": [],
      "collapsed_sections": [
        "CO01C6efGtna",
        "cCKROk9ZJfv_"
      ],
      "authorship_tag": "ABX9TyPCzs4qrq0GgQbWo/AJlz1h",
      "include_colab_link": true
    },
    "kernelspec": {
      "name": "python3",
      "display_name": "Python 3"
    }
  },
  "cells": [
    {
      "cell_type": "markdown",
      "metadata": {
        "id": "view-in-github",
        "colab_type": "text"
      },
      "source": [
        "<a href=\"https://colab.research.google.com/github/StranGer-48/Data-Analysis/blob/main/SciPyTutorial1.ipynb\" target=\"_parent\"><img src=\"https://colab.research.google.com/assets/colab-badge.svg\" alt=\"Open In Colab\"/></a>"
      ]
    },
    {
      "cell_type": "markdown",
      "metadata": {
        "id": "9cyZ8OaN7rp5"
      },
      "source": [
        "Mathematics deals with a huge number of concepts that are very important but at the same time, complex, and time-consuming. However, Python provides the full-fledged SciPy library that resolves this issue for us. In this SciPy tutorial, you will be learning how to make use of this library along with a few functions and their examples.\n"
      ]
    },
    {
      "cell_type": "markdown",
      "metadata": {
        "id": "Duwih_YG8sAb"
      },
      "source": [
        "**Scipy** is an open-source Python library which is used to solve scientific and mathematical problems. It is built on the NumPy extension and allows the user to manioulate and visualize data with a wide range of high-level commands. As mentioned earlier, Scipy builds on NumPy and therefore if you import Scipy, there is no need to import NumPy."
      ]
    },
    {
      "cell_type": "markdown",
      "metadata": {
        "id": "DP4mISIA8-KS"
      },
      "source": [
        "SciPy is organized into subpackages covering different scientific computing domains. These are summarized in the following table:"
      ]
    },
    {
      "cell_type": "markdown",
      "metadata": {
        "id": "u9BS68ZJ9kRe"
      },
      "source": [
        "Sub - packagess | Domains\n",
        "--- | ---\n",
        "[scipy.cluster](https://docs.scipy.org/doc/scipy/reference/cluster.html#module-scipy.cluster) | Vector quantization / K means\n",
        "[scipy.constants](https://docs.scipy.org/doc/scipy/reference/constants.html) | Physical and mathematical constants\n",
        "[scipy.fftpack](https://docs.scipy.org/doc/scipy/reference/fftpack.html#module-scipy.fftpack) | Fourier transform\n",
        "[scipy.integrate](https://docs.scipy.org/doc/scipy/reference/integrate.html#module-scipy.integrate) | Integration routines\n",
        "[scipy.interpolate](https://docs.scipy.org/doc/scipy/reference/interpolate.html#module-scipy.interpolate) | Interpolation\n",
        "[scipy.io](https://docs.scipy.org/doc/scipy/reference/io.html#module-scipy.io) | Data input and outut\n",
        "[scipy.linalg](https://docs.scipy.org/doc/scipy/reference/linalg.html#module-scipy.linalg) | Linear algebra routines\n",
        "[scipy.ndimage](https://docs.scipy.org/doc/scipy/reference/ndimage.html#module-scipy.ndimage) | n-dimensonal image package\n",
        "[scipy.odr](https://docs.scipy.org/doc/scipy/reference/odr.html#module-scipy.odr) | Orthogonal distance regression\n",
        "[scipy.optimize](https://docs.scipy.org/doc/scipy/reference/optimize.html#module-scipy.optimize) | Optimization\n",
        "[scipy.signal](https://docs.scipy.org/doc/scipy/reference/signal.html#module-scipy.signal) | Signal processing\n",
        "[scipy.sparse](https://docs.scipy.org/doc/scipy/reference/sparse.html#module-scipy.sparse) | Sparse matrices\n",
        "[scipy.spatial](https://docs.scipy.org/doc/scipy/reference/spatial.html#module-scipy.spatial) | Spatial data structures and algorithms\n",
        "[scipy.special](https://docs.scipy.org/doc/scipy/reference/special.html#module-scipy.special) | Sny special matematical functions\n",
        "[scipy.stats](https://docs.scipy.org/doc/scipy/reference/stats.html#module-scipy.stats) | Statistics\n"
      ]
    },
    {
      "cell_type": "markdown",
      "metadata": {
        "id": "vUfLmaGdJdc-"
      },
      "source": [
        "#SciPy - Cluster"
      ]
    },
    {
      "cell_type": "markdown",
      "metadata": {
        "id": "CO01C6efGtna"
      },
      "source": [
        "\n",
        "**K-Means Implementation in SciPy**\n",
        "\n",
        "K-mean clustering is a method for finding clusters and cluster centers in a set of unlabelled data. We will see the implementation and usage of each imported function."
      ]
    },
    {
      "cell_type": "code",
      "metadata": {
        "id": "9j84LOh1_Udy"
      },
      "source": [
        "from scipy.cluster.vq import kmeans,vq,whiten"
      ],
      "execution_count": 10,
      "outputs": []
    },
    {
      "cell_type": "markdown",
      "metadata": {
        "id": "vI-8E-BqHZP2"
      },
      "source": [
        "We have to simulate some data to explore the clustering."
      ]
    },
    {
      "cell_type": "code",
      "metadata": {
        "id": "QhQz6CU4HOdA"
      },
      "source": [
        "from numpy import vstack, array\n",
        "from numpy.random import rand\n",
        "\n",
        "data = vstack((rand(100,3) + array([.5,.5,.5]),rand(100,3)))"
      ],
      "execution_count": 11,
      "outputs": []
    },
    {
      "cell_type": "code",
      "metadata": {
        "colab": {
          "base_uri": "https://localhost:8080/"
        },
        "id": "RTe_rgU2m2M7",
        "outputId": "f69a5c28-9d3f-431f-c043-b27a9cf2d9b2"
      },
      "source": [
        "data.shape"
      ],
      "execution_count": 58,
      "outputs": [
        {
          "output_type": "execute_result",
          "data": {
            "text/plain": [
              "(200, 3)"
            ]
          },
          "metadata": {
            "tags": []
          },
          "execution_count": 58
        }
      ]
    },
    {
      "cell_type": "markdown",
      "metadata": {
        "id": "Pt8EcomPH3N-"
      },
      "source": [
        "Normalize a group of observations on a per feature basis. Before running K-Means, it is beneficial to rescale each feature dimension of the ibservation set with whitening. Each feature is divided by its standard deviation across all observations to give it unit variance."
      ]
    },
    {
      "cell_type": "code",
      "metadata": {
        "id": "2vwBW-ZhHy0-"
      },
      "source": [
        "# whitening of data\n",
        "data = whiten(data)"
      ],
      "execution_count": 13,
      "outputs": []
    },
    {
      "cell_type": "markdown",
      "metadata": {
        "id": "tNohiSJrIfNH"
      },
      "source": [
        "Let us now compute K-Means with three clusters:"
      ]
    },
    {
      "cell_type": "code",
      "metadata": {
        "colab": {
          "base_uri": "https://localhost:8080/"
        },
        "id": "ukn3TCAVIcWG",
        "outputId": "905fdce3-8937-45ce-9fed-14cf005d3138"
      },
      "source": [
        "# computing K-mean with K = 3(2 clusters)\n",
        "centroids,_ = kmeans(data,3)\n",
        "print(centroids)"
      ],
      "execution_count": 14,
      "outputs": [
        {
          "output_type": "stream",
          "text": [
            "[[2.49506696 3.09942315 2.93623548]\n",
            " [2.11038631 1.82130053 1.5780605 ]\n",
            " [0.59402853 1.73762183 1.338758  ]]\n"
          ],
          "name": "stdout"
        }
      ]
    },
    {
      "cell_type": "markdown",
      "metadata": {
        "id": "jngP-95fI4bg"
      },
      "source": [
        "Assign each sample to a cluster"
      ]
    },
    {
      "cell_type": "code",
      "metadata": {
        "colab": {
          "base_uri": "https://localhost:8080/"
        },
        "id": "FIqhaK6SIyH4",
        "outputId": "e2cf2c78-f683-4f47-d2ac-3aa911a93253"
      },
      "source": [
        "clx,_ = vq(data, centroids)\n",
        "print(clx)"
      ],
      "execution_count": 16,
      "outputs": [
        {
          "output_type": "stream",
          "text": [
            "[0 0 0 0 0 0 0 0 0 0 0 0 1 0 0 0 1 0 1 1 0 0 1 1 1 0 0 0 1 0 0 1 0 1 0 1 1\n",
            " 0 0 0 1 0 0 0 0 1 1 0 0 1 0 0 0 0 0 0 1 0 1 1 0 0 0 0 1 0 0 0 0 0 1 0 0 0\n",
            " 0 0 0 0 0 0 0 1 0 0 0 1 0 0 1 1 1 0 0 0 0 0 0 0 0 1 2 2 1 2 2 1 2 2 1 1 1\n",
            " 1 1 2 2 2 1 2 1 2 1 2 2 1 2 1 1 2 2 2 1 1 1 2 1 2 2 1 2 1 1 2 2 2 1 1 2 1\n",
            " 2 0 2 1 2 2 1 1 1 2 2 1 1 2 1 2 2 2 2 2 2 1 2 2 2 2 1 2 1 2 1 1 2 1 2 1 2\n",
            " 2 2 1 1 2 1 1 1 2 2 1 2 2 2 2]\n"
          ],
          "name": "stdout"
        }
      ]
    },
    {
      "cell_type": "markdown",
      "metadata": {
        "id": "wxWPMPkOJImX"
      },
      "source": [
        "The distict values 0, 1, 2 of the above array indicate the clusters."
      ]
    },
    {
      "cell_type": "markdown",
      "metadata": {
        "id": "cCKROk9ZJfv_"
      },
      "source": [
        "#SciPy - Constants"
      ]
    },
    {
      "cell_type": "markdown",
      "metadata": {
        "id": "pMxbaQFIJ5SI"
      },
      "source": [
        "Scipy constants package provides a wide range of constants, which are used in the general scientific area. We have to import the required constant and use them as per the requirement. Let us see how these constant variables are imported and used."
      ]
    },
    {
      "cell_type": "code",
      "metadata": {
        "colab": {
          "base_uri": "https://localhost:8080/"
        },
        "id": "iuyCrujrJtjo",
        "outputId": "9540083b-ac30-4f69-d365-6107c826f532"
      },
      "source": [
        "import scipy\n",
        "import math\n",
        "\n",
        "print(\"SciPy - pi = %.16f\" %scipy.constants.pi)\n",
        "print(\"Math - pi = %.16f\" %math.pi)"
      ],
      "execution_count": 19,
      "outputs": [
        {
          "output_type": "stream",
          "text": [
            "SciPy - pi = 3.1415926535897931\n",
            "Math - pi = 3.1415926535897931\n"
          ],
          "name": "stdout"
        }
      ]
    },
    {
      "cell_type": "markdown",
      "metadata": {
        "id": "xoTwzJhwL-VU"
      },
      "source": [
        "The following table lists the most commonly used physical constants."
      ]
    },
    {
      "cell_type": "markdown",
      "metadata": {
        "id": "q2vVMLYwK37Q"
      },
      "source": [
        "Constant | Description\n",
        "---|---\n",
        "c | Speed of light in vacuum\n",
        "speed_of_light | Speed of light in vacuum\n",
        "h | Planck constant\n",
        "Planck | Planck constant h\n",
        "G | Newton's gravitational constant\n",
        "e | Elementary charge\n",
        "R | Molar gas constant\n",
        "Avogadro | Avogadro constant\n",
        "k | Boltzmann constant\n",
        "electron_mass (OR) m_e | Electronic mass\n",
        "proton_mass (OR) m_p | Proton mass\n",
        "neutron_mass (OR) m_n | Neutron mass"
      ]
    },
    {
      "cell_type": "markdown",
      "metadata": {
        "id": "8_jfIffUMGnz"
      },
      "source": [
        "There are other constant in scipy package. Remembering all of these are a bit tough. The easy way to get which key is for which function is with the scipy.constants.find() method."
      ]
    },
    {
      "cell_type": "code",
      "metadata": {
        "id": "Xc-Vf3RjKeZU"
      },
      "source": [
        "import scipy.constants\n",
        "res = scipy.constants.physical_constants.keys()\n",
        "#print(res)"
      ],
      "execution_count": 59,
      "outputs": []
    },
    {
      "cell_type": "markdown",
      "metadata": {
        "id": "ZYN7WSjdNlz_"
      },
      "source": [
        "# SciPy - FFTpack"
      ]
    },
    {
      "cell_type": "markdown",
      "metadata": {
        "id": "yZET60dHNlqW"
      },
      "source": [
        "**One Dimensinal Discrete Fourier Transform**\n",
        "\n",
        "The FFT y[k] of length N of the length-N sequence x[n] is calculated by fft() and the inverse transform is calculated sing ifft(). Let us consider the following example"
      ]
    },
    {
      "cell_type": "code",
      "metadata": {
        "colab": {
          "base_uri": "https://localhost:8080/"
        },
        "id": "hecTwUHtMx7f",
        "outputId": "6b582d92-1bac-4b2a-c900-f4b956a2100f"
      },
      "source": [
        "import numpy as np\n",
        "from scipy.fftpack import fft\n",
        "\n",
        "x = np.array([1.0, 2.0, 1.0, -1.0, 1.5])\n",
        "\n",
        "y = fft(x)\n",
        "print(y)"
      ],
      "execution_count": 32,
      "outputs": [
        {
          "output_type": "stream",
          "text": [
            "[ 4.5       -0.j          2.08155948-1.65109876j -1.83155948+1.60822041j\n",
            " -1.83155948-1.60822041j  2.08155948+1.65109876j]\n"
          ],
          "name": "stdout"
        }
      ]
    },
    {
      "cell_type": "code",
      "metadata": {
        "colab": {
          "base_uri": "https://localhost:8080/"
        },
        "id": "PUPTA3ZLOXVA",
        "outputId": "274b66e3-40c4-498f-c5ce-da9f545d1f55"
      },
      "source": [
        "from scipy.fftpack import ifft\n",
        "\n",
        "yinv = ifft(y)\n",
        "print(yinv)"
      ],
      "execution_count": 34,
      "outputs": [
        {
          "output_type": "stream",
          "text": [
            "[ 1. +0.j  2. +0.j  1. +0.j -1. +0.j  1.5+0.j]\n"
          ],
          "name": "stdout"
        }
      ]
    },
    {
      "cell_type": "markdown",
      "metadata": {
        "id": "EcnfKBM4Owds"
      },
      "source": [
        "The scipy.fftpack module allows computing fast Fourier transforms. As an illustration, a (noisy) input signal may look as follow:"
      ]
    },
    {
      "cell_type": "code",
      "metadata": {
        "colab": {
          "base_uri": "https://localhost:8080/"
        },
        "id": "mmIp-yauOkCq",
        "outputId": "648bd5d9-948f-4c27-fbcc-10eef17c0800"
      },
      "source": [
        "time_step = 0.02\n",
        "period = 5.\n",
        "time_vec = np.arange(0,20,time_step)\n",
        "sig = np.sin(2 * np.pi / period * time_vec) + 0.5 * np.random.randn(time_vec.size)\n",
        "print(sig.size)"
      ],
      "execution_count": 39,
      "outputs": [
        {
          "output_type": "stream",
          "text": [
            "1000\n"
          ],
          "name": "stdout"
        }
      ]
    },
    {
      "cell_type": "markdown",
      "metadata": {
        "id": "sv7hEWClPrtg"
      },
      "source": [
        "We do not know the signal frequency; we only know the sampling time step of the signal sig. The signal is supposed to come from a real functin, so the Fourier trasform will be symmetric. The scipy.fftpack.fftfreq() function will generate the sampling frequencies and scipy.fftpack.fft() wil compute the fast Fourier transform."
      ]
    },
    {
      "cell_type": "code",
      "metadata": {
        "id": "Vhrw_nAGPTfJ"
      },
      "source": [
        "from scipy import fftpack\n",
        "sample_freq = fftpack.fftfreq(sig.size, d = time_step)\n",
        "sig_fft = fftpack.fft(sig)\n",
        "#print(sig_fft)"
      ],
      "execution_count": 60,
      "outputs": []
    },
    {
      "cell_type": "markdown",
      "metadata": {
        "id": "VG-31yqlQmeb"
      },
      "source": [
        "#Scipy - Integrate\n"
      ]
    },
    {
      "cell_type": "markdown",
      "metadata": {
        "id": "Dewn2BQvRpl2"
      },
      "source": [
        "The Quad function is the workhorse of SciPy integration functions. Numerical integration is somtimes calles quadrature, hence the name. It is normally the default choice for performing single integrals of a function *f(x)* over a given fixed range from a to b.\n",
        "\n",
        "$$\\int_{a}^{b} f(x)dx$$\n",
        "\n",
        "The general form of quad is scipy.integrate.quad(f,a,b), where 'f' is the name of the function to be integraed, a and b are the lower and upper limits, respectively."
      ]
    },
    {
      "cell_type": "code",
      "metadata": {
        "colab": {
          "base_uri": "https://localhost:8080/"
        },
        "id": "i3CDp98YQaIp",
        "outputId": "fe467f90-1748-4a52-ee73-db3132d0151d"
      },
      "source": [
        "import scipy.integrate\n",
        "from numpy import exp\n",
        "f = lambda x:exp(-x**2)\n",
        "i = scipy.integrate.quad(f, 0, 1)\n",
        "print(i)"
      ],
      "execution_count": 41,
      "outputs": [
        {
          "output_type": "stream",
          "text": [
            "(0.7468241328124271, 8.291413475940725e-15)\n"
          ],
          "name": "stdout"
        }
      ]
    },
    {
      "cell_type": "markdown",
      "metadata": {
        "id": "7md_8yGBSvUJ"
      },
      "source": [
        "The quad functin returns the two values, in which the first number is the value if integral and the second values is the estimate of the absolute error in the value of integral."
      ]
    },
    {
      "cell_type": "markdown",
      "metadata": {
        "id": "ZPZ3r9axTIKS"
      },
      "source": [
        "**Multiple Integral**\n",
        "\n",
        "The mechanics for double and triple integration have been wrapped up into the functions **dblquad, tplquad** and **nquad**.\n",
        "\n",
        "**Double Integrals**\n",
        "\n",
        "The general form of **dblquad** is scpy.integrate.dblquad(func,a,b,gfun,hfun). Where, func is the name of the function to be integrated, a and b are the lower and upper limits of the x variable, respective, while gfun and hfun are the names of the functions that define the lower and upper limits of the y variable.\n",
        "\n",
        "$$\\int_{0}^{1/2} dy \\int_{0}^{\\sqrt{1-4y^2}} 16xy \\:dx$$\n",
        "\n"
      ]
    },
    {
      "cell_type": "code",
      "metadata": {
        "colab": {
          "base_uri": "https://localhost:8080/"
        },
        "id": "Xle-rjGjSsV_",
        "outputId": "6320448e-e345-484b-977d-10b44fbfbd78"
      },
      "source": [
        "import scipy.integrate\n",
        "from numpy import exp\n",
        "from math import sqrt\n",
        "\n",
        "f = lambda x, y : 16*x*y\n",
        "g = lambda x : 0\n",
        "h = lambda y : sqrt(1-4*y**2)\n",
        "i = scipy.integrate.dblquad(f,0,0.5,g,h)\n",
        "print(i)"
      ],
      "execution_count": 42,
      "outputs": [
        {
          "output_type": "stream",
          "text": [
            "(0.5, 1.7092350012594845e-14)\n"
          ],
          "name": "stdout"
        }
      ]
    },
    {
      "cell_type": "markdown",
      "metadata": {
        "id": "hN_zf5kGUmCk"
      },
      "source": [
        "#SciPy - Interpolate"
      ]
    },
    {
      "cell_type": "markdown",
      "metadata": {
        "id": "BKV9SVFEUl6E"
      },
      "source": [
        "Interpolation is the processof finding a value between two points on a line or a curve."
      ]
    },
    {
      "cell_type": "code",
      "metadata": {
        "colab": {
          "base_uri": "https://localhost:8080/"
        },
        "id": "9AtjbZ0RUhbx",
        "outputId": "fd03c3b6-69eb-4378-bda6-899313eb210a"
      },
      "source": [
        "import numpy\n",
        "from scipy import interpolate\n",
        "import matplotlib.pyplot as plt\n",
        "x = np.linspace(0,4,12)\n",
        "y = np.cos(x**2/3+4)\n",
        "print(x)\n",
        "print(y)"
      ],
      "execution_count": 47,
      "outputs": [
        {
          "output_type": "stream",
          "text": [
            "[0.         0.36363636 0.72727273 1.09090909 1.45454545 1.81818182\n",
            " 2.18181818 2.54545455 2.90909091 3.27272727 3.63636364 4.        ]\n",
            "[-0.65364362 -0.61966189 -0.51077021 -0.31047698 -0.00715476  0.37976236\n",
            "  0.76715099  0.99239518  0.85886263  0.27994201 -0.52586509 -0.99582185]\n"
          ],
          "name": "stdout"
        }
      ]
    },
    {
      "cell_type": "markdown",
      "metadata": {
        "id": "0zUIeSTGh56U"
      },
      "source": [
        "Noq, we have two arrays. Assuming those two arrays as the two dimensions of the points in space, let us plot using the following program and see how they look like."
      ]
    },
    {
      "cell_type": "code",
      "metadata": {
        "colab": {
          "base_uri": "https://localhost:8080/",
          "height": 264
        },
        "id": "cVL80DeEhq0T",
        "outputId": "1228d0b5-13c8-43e2-df39-1f16676ddda1"
      },
      "source": [
        "plt.plot(x,y,'o')\n",
        "plt.show()"
      ],
      "execution_count": 48,
      "outputs": [
        {
          "output_type": "display_data",
          "data": {
            "image/png": "[encoded data removed]",
            "text/plain": [
              "<Figure size 432x288 with 1 Axes>"
            ]
          },
          "metadata": {
            "tags": [],
            "needs_background": "light"
          }
        }
      ]
    },
    {
      "cell_type": "code",
      "metadata": {
        "colab": {
          "base_uri": "https://localhost:8080/",
          "height": 264
        },
        "id": "MceBafhFiJrh",
        "outputId": "006b5279-3d13-4d37-da00-7178c1a406fa"
      },
      "source": [
        "f1 = interpolate.interp1d(x,y,kind='linear')\n",
        "f2 = interpolate.interp1d(x,y,kind='cubic')\n",
        "\n",
        "xnew = np.linspace(0,4,30)\n",
        "\n",
        "plt.plot(x,y,'o',xnew,f1(xnew),'-',xnew,f1(xnew),'--')\n",
        "plt.legend(['data','linear','cubic','nearest'],loc='best')\n",
        "plt.show()"
      ],
      "execution_count": 53,
      "outputs": [
        {
          "output_type": "display_data",
          "data": {
            "image/png": "[encoded data removed]",
            "text/plain": [
              "<Figure size 432x288 with 1 Axes>"
            ]
          },
          "metadata": {
            "tags": [],
            "needs_background": "light"
          }
        }
      ]
    },
    {
      "cell_type": "markdown",
      "metadata": {
        "id": "PXZ06VlDj4Aw"
      },
      "source": [
        "**Splines**\n",
        "\n",
        "To draw smooth curves through data points, drafters once used thin flexible strips of wood, hard rubber, metal or plastic called mechanical splines. **Univarite Spline** is a one-dimension smoothing spline fits a given set of data points. The UnivariateSpline class in scipy.interpolate is a convenient method to create a function, based on fixed data points class."
      ]
    },
    {
      "cell_type": "code",
      "metadata": {
        "colab": {
          "base_uri": "https://localhost:8080/",
          "height": 264
        },
        "id": "ArWYE5L7izrR",
        "outputId": "57a3afb9-8705-48cc-b063-c794ed940fee"
      },
      "source": [
        "import matplotlib.pyplot as plt\n",
        "from scipy.interpolate import UnivariateSpline\n",
        "x = np.linspace(-3,3,50)\n",
        "y = np.exp(-x**2) + 0.1 * np.random.randn(50)\n",
        "plt.plot(x,y,'ro',ms=5)\n",
        "plt.show()"
      ],
      "execution_count": 54,
      "outputs": [
        {
          "output_type": "display_data",
          "data": {
            "image/png": "[encoded data removed]",
            "text/plain": [
              "<Figure size 432x288 with 1 Axes>"
            ]
          },
          "metadata": {
            "tags": [],
            "needs_background": "light"
          }
        }
      ]
    },
    {
      "cell_type": "code",
      "metadata": {
        "colab": {
          "base_uri": "https://localhost:8080/",
          "height": 264
        },
        "id": "NGgOAP2OlAE-",
        "outputId": "7cdaf6c7-1f54-48d1-c226-b2f3879fc8be"
      },
      "source": [
        "spl = UnivariateSpline(x,y)\n",
        "xs = np.linspace(-3,3,1000)\n",
        "plt.plot(xs,spl(xs),'g',lw=3)\n",
        "plt.show()"
      ],
      "execution_count": 55,
      "outputs": [
        {
          "output_type": "display_data",
          "data": {
            "image/png": "[encoded data removed]",
            "text/plain": [
              "<Figure size 432x288 with 1 Axes>"
            ]
          },
          "metadata": {
            "tags": [],
            "needs_background": "light"
          }
        }
      ]
    },
    {
      "cell_type": "code",
      "metadata": {
        "colab": {
          "base_uri": "https://localhost:8080/",
          "height": 264
        },
        "id": "38r_zWuclQqW",
        "outputId": "751979a8-8a92-4384-d34e-136df270a8b5"
      },
      "source": [
        "spl.set_smoothing_factor(0.5)\n",
        "plt.plot(xs,spl(xs),'b',lw=3)\n",
        "plt.show()"
      ],
      "execution_count": 57,
      "outputs": [
        {
          "output_type": "display_data",
          "data": {
            "image/png": "[encoded data removed]",
            "text/plain": [
              "<Figure size 432x288 with 1 Axes>"
            ]
          },
          "metadata": {
            "tags": [],
            "needs_background": "light"
          }
        }
      ]
    },
    {
      "cell_type": "code",
      "metadata": {
        "id": "yCT0oj_alZv1"
      },
      "source": [
        ""
      ],
      "execution_count": null,
      "outputs": []
    }
  ]
}