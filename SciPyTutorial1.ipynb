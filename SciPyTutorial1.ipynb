{
  "nbformat": 4,
  "nbformat_minor": 0,
  "metadata": {
    "colab": {
      "name": "SciPyTutorial1.ipynb",
      "provenance": [],
      "collapsed_sections": [
        "CO01C6efGtna",
        "cCKROk9ZJfv_"
      ],
      "authorship_tag": "ABX9TyPdr2pd4QhaOm0aNePYytLT",
      "include_colab_link": true
    },
    "kernelspec": {
      "name": "python3",
      "display_name": "Python 3"
    }
  },
  "cells": [
    {
      "cell_type": "markdown",
      "metadata": {
        "id": "view-in-github",
        "colab_type": "text"
      },
      "source": [
        "<a href=\"https://colab.research.google.com/github/StranGer-48/Data-Analysis/blob/main/SciPyTutorial1.ipynb\" target=\"_parent\"><img src=\"https://colab.research.google.com/assets/colab-badge.svg\" alt=\"Open In Colab\"/></a>"
      ]
    },
    {
      "cell_type": "markdown",
      "metadata": {
        "id": "9cyZ8OaN7rp5"
      },
      "source": [
        "Mathematics deals with a huge number of concepts that are very important but at the same time, complex, and time-consuming. However, Python provides the full-fledged SciPy library that resolves this issue for us. In this SciPy tutorial, you will be learning how to make use of this library along with a few functions and their examples.\n"
      ]
    },
    {
      "cell_type": "markdown",
      "metadata": {
        "id": "Duwih_YG8sAb"
      },
      "source": [
        "**Scipy** is an open-source Python library which is used to solve scientific and mathematical problems. It is built on the NumPy extension and allows the user to manioulate and visualize data with a wide range of high-level commands. As mentioned earlier, Scipy builds on NumPy and therefore if you import Scipy, there is no need to import NumPy."
      ]
    },
    {
      "cell_type": "markdown",
      "metadata": {
        "id": "DP4mISIA8-KS"
      },
      "source": [
        "SciPy is organized into subpackages covering different scientific computing domains. These are summarized in the following table:"
      ]
    },
    {
      "cell_type": "markdown",
      "metadata": {
        "id": "u9BS68ZJ9kRe"
      },
      "source": [
        "Sub - packagess | Domains\n",
        "--- | ---\n",
        "[scipy.cluster](https://docs.scipy.org/doc/scipy/reference/cluster.html#module-scipy.cluster) | Vector quantization / K means\n",
        "[scipy.constants](https://docs.scipy.org/doc/scipy/reference/constants.html) | Physical and mathematical constants\n",
        "[scipy.fftpack](https://docs.scipy.org/doc/scipy/reference/fftpack.html#module-scipy.fftpack) | Fourier transform\n",
        "[scipy.integrate](https://docs.scipy.org/doc/scipy/reference/integrate.html#module-scipy.integrate) | Integration routines\n",
        "[scipy.interpolate](https://docs.scipy.org/doc/scipy/reference/interpolate.html#module-scipy.interpolate) | Interpolation\n",
        "[scipy.io](https://docs.scipy.org/doc/scipy/reference/io.html#module-scipy.io) | Data input and outut\n",
        "[scipy.linalg](https://docs.scipy.org/doc/scipy/reference/linalg.html#module-scipy.linalg) | Linear algebra routines\n",
        "[scipy.ndimage](https://docs.scipy.org/doc/scipy/reference/ndimage.html#module-scipy.ndimage) | n-dimensonal image package\n",
        "[scipy.odr](https://docs.scipy.org/doc/scipy/reference/odr.html#module-scipy.odr) | Orthogonal distance regression\n",
        "[scipy.optimize](https://docs.scipy.org/doc/scipy/reference/optimize.html#module-scipy.optimize) | Optimization\n",
        "[scipy.signal](https://docs.scipy.org/doc/scipy/reference/signal.html#module-scipy.signal) | Signal processing\n",
        "[scipy.sparse](https://docs.scipy.org/doc/scipy/reference/sparse.html#module-scipy.sparse) | Sparse matrices\n",
        "[scipy.spatial](https://docs.scipy.org/doc/scipy/reference/spatial.html#module-scipy.spatial) | Spatial data structures and algorithms\n",
        "[scipy.special](https://docs.scipy.org/doc/scipy/reference/special.html#module-scipy.special) | Sny special matematical functions\n",
        "[scipy.stats](https://docs.scipy.org/doc/scipy/reference/stats.html#module-scipy.stats) | Statistics\n"
      ]
    },
    {
      "cell_type": "markdown",
      "metadata": {
        "id": "vUfLmaGdJdc-"
      },
      "source": [
        "#SciPy - Cluster"
      ]
    },
    {
      "cell_type": "markdown",
      "metadata": {
        "id": "CO01C6efGtna"
      },
      "source": [
        "\n",
        "**K-Means Implementation in SciPy**\n",
        "\n",
        "K-mean clustering is a method for finding clusters and cluster centers in a set of unlabelled data. We will see the implementation and usage of each imported function."
      ]
    },
    {
      "cell_type": "code",
      "metadata": {
        "id": "9j84LOh1_Udy"
      },
      "source": [
        "from scipy.cluster.vq import kmeans,vq,whiten"
      ],
      "execution_count": 10,
      "outputs": []
    },
    {
      "cell_type": "markdown",
      "metadata": {
        "id": "vI-8E-BqHZP2"
      },
      "source": [
        "We have to simulate some data to explore the clustering."
      ]
    },
    {
      "cell_type": "code",
      "metadata": {
        "id": "QhQz6CU4HOdA"
      },
      "source": [
        "from numpy import vstack, array\n",
        "from numpy.random import rand\n",
        "\n",
        "data = vstack((rand(100,3) + array([.5,.5,.5]),rand(100,3)))"
      ],
      "execution_count": 11,
      "outputs": []
    },
    {
      "cell_type": "code",
      "metadata": {
        "colab": {
          "base_uri": "https://localhost:8080/"
        },
        "id": "F83zjq2sHxSR",
        "outputId": "0ee35887-cd58-43f9-9ef9-4f0a832e6b13"
      },
      "source": [
        "data"
      ],
      "execution_count": 12,
      "outputs": [
        {
          "output_type": "execute_result",
          "data": {
            "text/plain": [
              "array([[1.17078161, 0.76997025, 1.02186628],\n",
              "       [0.97933007, 0.86555789, 1.49704691],\n",
              "       [0.74168513, 0.86917872, 0.95132738],\n",
              "       [1.24753868, 1.45146253, 0.82010793],\n",
              "       [0.53031037, 1.12304965, 1.14713854],\n",
              "       [0.88611624, 0.75638352, 0.9591961 ],\n",
              "       [1.05728245, 1.45965306, 1.09270217],\n",
              "       [1.33172222, 0.81848253, 0.92297568],\n",
              "       [0.96363007, 1.2051472 , 1.35261675],\n",
              "       [1.33443486, 0.94463239, 1.4182831 ],\n",
              "       [1.40492674, 0.71066757, 1.23078077],\n",
              "       [0.59524989, 1.28004513, 1.09440512],\n",
              "       [1.16575741, 0.50680088, 0.69839526],\n",
              "       [0.6739615 , 0.7988214 , 1.16073557],\n",
              "       [1.16789612, 0.78640813, 1.36009209],\n",
              "       [1.49480552, 1.33119006, 1.19451641],\n",
              "       [0.74693145, 1.13882073, 0.5094159 ],\n",
              "       [1.43946646, 0.80901291, 1.36836527],\n",
              "       [1.37444722, 0.58992063, 0.50946388],\n",
              "       [1.23822316, 0.53413047, 0.84957136],\n",
              "       [1.37331904, 1.47431423, 0.88265059],\n",
              "       [0.76322782, 1.09361837, 1.38830995],\n",
              "       [0.60535847, 1.01301217, 0.58583397],\n",
              "       [1.04837323, 0.79599256, 0.8416077 ],\n",
              "       [1.00781034, 0.8227968 , 0.58563712],\n",
              "       [0.62765862, 1.15610959, 1.05214346],\n",
              "       [0.53222425, 0.57312751, 1.34900379],\n",
              "       [0.54519375, 1.49389311, 0.77782247],\n",
              "       [1.23215162, 0.61391834, 0.50803852],\n",
              "       [0.79113849, 1.1777902 , 1.10449664],\n",
              "       [1.32507892, 0.7545433 , 1.02768452],\n",
              "       [0.77255119, 0.74959345, 0.73712225],\n",
              "       [0.61014944, 0.63240691, 1.33453073],\n",
              "       [0.69687681, 0.50169106, 0.85345305],\n",
              "       [0.53560512, 0.97659018, 1.38594647],\n",
              "       [0.60398617, 0.89219616, 0.61852692],\n",
              "       [1.25088142, 0.53548378, 0.70487793],\n",
              "       [1.19656077, 0.83332039, 0.79509742],\n",
              "       [1.00996847, 0.92203127, 0.99732451],\n",
              "       [1.36249659, 0.61062158, 1.45338911],\n",
              "       [0.74275485, 0.59632675, 0.5987608 ],\n",
              "       [1.22472876, 1.08758346, 0.83597401],\n",
              "       [0.73068915, 0.8517268 , 1.41824403],\n",
              "       [0.63196233, 1.48267796, 0.92080118],\n",
              "       [0.94282097, 1.26377761, 1.33821707],\n",
              "       [0.56360188, 0.96549041, 0.6648696 ],\n",
              "       [1.30493847, 0.69321368, 0.78039917],\n",
              "       [0.5591009 , 1.05230263, 0.87668071],\n",
              "       [1.46255633, 0.74730061, 1.21329844],\n",
              "       [0.64615725, 0.63815313, 0.69174154],\n",
              "       [1.29762772, 1.40166771, 1.27701885],\n",
              "       [1.14869349, 1.20056429, 0.54772216],\n",
              "       [0.64362295, 1.38340904, 0.69380778],\n",
              "       [0.5973851 , 1.13751191, 0.69996303],\n",
              "       [1.21323222, 1.41618836, 1.05862819],\n",
              "       [1.46966449, 1.17237758, 1.04061161],\n",
              "       [0.73876471, 0.87374938, 0.77243035],\n",
              "       [0.64428707, 0.99096032, 0.85144615],\n",
              "       [1.0364006 , 0.77158091, 0.62538656],\n",
              "       [1.04438113, 0.62679862, 0.92509882],\n",
              "       [1.14988841, 1.26479255, 1.35218514],\n",
              "       [0.74803904, 0.96963523, 1.19323338],\n",
              "       [1.339724  , 1.10841338, 0.74533545],\n",
              "       [0.55512697, 1.33765014, 0.51465779],\n",
              "       [0.88272964, 0.56195577, 0.64259921],\n",
              "       [0.85468314, 0.81260719, 1.36865185],\n",
              "       [0.67070311, 1.3700093 , 0.7158067 ],\n",
              "       [1.29469471, 1.27373234, 1.01519033],\n",
              "       [0.9937081 , 1.0275932 , 1.40445231],\n",
              "       [1.30711605, 1.42324462, 0.71257392],\n",
              "       [1.06654755, 0.52757752, 1.00240965],\n",
              "       [0.91291597, 1.04300313, 1.03947703],\n",
              "       [0.74127218, 1.31975786, 1.40961146],\n",
              "       [1.41824557, 0.78676029, 0.8859494 ],\n",
              "       [0.5629783 , 0.57265511, 1.47075441],\n",
              "       [0.52803234, 1.275493  , 0.78892464],\n",
              "       [0.8419089 , 0.548812  , 1.36092552],\n",
              "       [0.60541615, 1.30010691, 0.80158665],\n",
              "       [1.38477266, 1.09284181, 1.39588318],\n",
              "       [0.63452493, 1.46676875, 0.8851428 ],\n",
              "       [1.30892925, 1.38654757, 0.54689995],\n",
              "       [0.72930499, 0.71777094, 0.5415948 ],\n",
              "       [1.25882247, 0.59499591, 1.1054143 ],\n",
              "       [0.96010897, 1.36826758, 0.99631929],\n",
              "       [1.34116852, 1.23483644, 0.98258714],\n",
              "       [0.91878849, 0.94399524, 0.62238462],\n",
              "       [0.9446495 , 1.01510214, 1.22395986],\n",
              "       [1.456657  , 1.13995482, 1.38616813],\n",
              "       [0.83270536, 0.8215031 , 0.84106981],\n",
              "       [1.26809915, 0.68541661, 0.87579257],\n",
              "       [0.50473055, 0.61041851, 1.04713017],\n",
              "       [1.25491375, 1.43004466, 1.40765645],\n",
              "       [0.99125423, 0.85832038, 0.88340977],\n",
              "       [0.64896679, 1.01452022, 1.15497841],\n",
              "       [0.76119809, 1.13208593, 1.2995237 ],\n",
              "       [1.47449677, 0.92560674, 1.45282721],\n",
              "       [0.92823399, 0.63013392, 1.49578848],\n",
              "       [0.76829375, 1.15340279, 1.45899799],\n",
              "       [1.18214717, 0.61278562, 1.2959966 ],\n",
              "       [1.39356709, 0.71785365, 0.76180294],\n",
              "       [0.28241443, 0.99673478, 0.81262074],\n",
              "       [0.03922787, 0.84461846, 0.19147694],\n",
              "       [0.95657054, 0.37561429, 0.57383566],\n",
              "       [0.28903577, 0.50273763, 0.51188728],\n",
              "       [0.29711309, 0.03575605, 0.67123351],\n",
              "       [0.68870085, 0.47828192, 0.42038519],\n",
              "       [0.54235668, 0.79417829, 0.29590742],\n",
              "       [0.08817794, 0.5769471 , 0.366789  ],\n",
              "       [0.60532709, 0.319041  , 0.9583438 ],\n",
              "       [0.70378778, 0.48463166, 0.77934248],\n",
              "       [0.76574529, 0.88921674, 0.09855805],\n",
              "       [0.73254901, 0.08445287, 0.30208672],\n",
              "       [0.82128594, 0.96361139, 0.22387619],\n",
              "       [0.36847496, 0.88229393, 0.52445276],\n",
              "       [0.48453903, 0.8094299 , 0.38455144],\n",
              "       [0.08270443, 0.7347105 , 0.24259835],\n",
              "       [0.7290954 , 0.85421366, 0.76506211],\n",
              "       [0.11023763, 0.96013386, 0.86609946],\n",
              "       [0.91208449, 0.90513157, 0.22219009],\n",
              "       [0.42802629, 0.66248943, 0.15618851],\n",
              "       [0.99961064, 0.35903867, 0.38728207],\n",
              "       [0.2437206 , 0.5674037 , 0.70833229],\n",
              "       [0.33927327, 0.78081082, 0.19137647],\n",
              "       [0.74283136, 0.98175215, 0.53352957],\n",
              "       [0.11542407, 0.34858941, 0.99544642],\n",
              "       [0.80225487, 0.925391  , 0.78217027],\n",
              "       [0.94974515, 0.34848307, 0.69657749],\n",
              "       [0.50482858, 0.28320111, 0.16341858],\n",
              "       [0.07088243, 0.7637786 , 0.89861424],\n",
              "       [0.28438952, 0.86242508, 0.0507115 ],\n",
              "       [0.71084126, 0.41234628, 0.22901092],\n",
              "       [0.76090082, 0.76501959, 0.27778729],\n",
              "       [0.97825738, 0.78827011, 0.39628936],\n",
              "       [0.00838471, 0.83323903, 0.44033679],\n",
              "       [0.98753344, 0.29436815, 0.52860718],\n",
              "       [0.41115072, 0.80697941, 0.47165896],\n",
              "       [0.08327388, 0.96442486, 0.7736194 ],\n",
              "       [0.65423774, 0.59826068, 0.30739054],\n",
              "       [0.4941116 , 0.51531214, 0.70395819],\n",
              "       [0.89401759, 0.5696674 , 0.29638025],\n",
              "       [0.94321119, 0.14349038, 0.18749838],\n",
              "       [0.54492901, 0.06035057, 0.29680177],\n",
              "       [0.0658121 , 0.89328156, 0.64655822],\n",
              "       [0.32937091, 0.78902963, 0.92067434],\n",
              "       [0.5093138 , 0.54165871, 0.79528626],\n",
              "       [0.74824998, 0.91153595, 0.19093344],\n",
              "       [0.14712685, 0.67557464, 0.58526472],\n",
              "       [0.76561653, 0.4227674 , 0.1158463 ],\n",
              "       [0.0254832 , 0.56729845, 0.81522395],\n",
              "       [0.94882357, 0.8790555 , 0.97486505],\n",
              "       [0.25219485, 0.97395007, 0.08041501],\n",
              "       [0.71405509, 0.20591035, 0.43072845],\n",
              "       [0.15422492, 0.30600047, 0.19852848],\n",
              "       [0.06062238, 0.09671723, 0.93690067],\n",
              "       [0.80312983, 0.49510327, 0.86287669],\n",
              "       [0.58510361, 0.84719046, 0.52721383],\n",
              "       [0.69441435, 0.21779212, 0.58579515],\n",
              "       [0.55216614, 0.27325374, 0.47970888],\n",
              "       [0.36993223, 0.1287266 , 0.23929617],\n",
              "       [0.74234792, 0.19754882, 0.58909971],\n",
              "       [0.79305774, 0.30621801, 0.90125339],\n",
              "       [0.29102105, 0.76043877, 0.23911326],\n",
              "       [0.78045816, 0.50371888, 0.48746279],\n",
              "       [0.07524448, 0.32355333, 0.8875844 ],\n",
              "       [0.05362733, 0.58722957, 0.06092309],\n",
              "       [0.60261882, 0.71632508, 0.08665595],\n",
              "       [0.24854681, 0.34709503, 0.91784156],\n",
              "       [0.17476257, 0.81618698, 0.11060988],\n",
              "       [0.14365287, 0.57519569, 0.28596056],\n",
              "       [0.83523347, 0.72058362, 0.53277621],\n",
              "       [0.08827382, 0.20824228, 0.90932874],\n",
              "       [0.09337337, 0.44643046, 0.66112581],\n",
              "       [0.18493116, 0.78290689, 0.72515438],\n",
              "       [0.34540132, 0.34004791, 0.70901925],\n",
              "       [0.85579583, 0.96587832, 0.38995506],\n",
              "       [0.00857929, 0.51548083, 0.10928102],\n",
              "       [0.8033877 , 0.73226475, 0.82700971],\n",
              "       [0.03875338, 0.44711418, 0.46774144],\n",
              "       [0.70923514, 0.73427992, 0.20417896],\n",
              "       [0.80075448, 0.29507024, 0.99446268],\n",
              "       [0.16903974, 0.80294358, 0.77999514],\n",
              "       [0.82950577, 0.47956837, 0.37578045],\n",
              "       [0.15229107, 0.90768767, 0.09702342],\n",
              "       [0.6378094 , 0.56204762, 0.93406397],\n",
              "       [0.34197522, 0.78137463, 0.64286503],\n",
              "       [0.44936738, 0.8407564 , 0.76882557],\n",
              "       [0.46256385, 0.21036779, 0.08279651],\n",
              "       [0.67502773, 0.19576261, 0.68037468],\n",
              "       [0.50308551, 0.76627067, 0.72583254],\n",
              "       [0.07136239, 0.1900147 , 0.31767814],\n",
              "       [0.65137   , 0.78144177, 0.33319521],\n",
              "       [0.77461564, 0.82088906, 0.81024827],\n",
              "       [0.83258208, 0.54863035, 0.13383521],\n",
              "       [0.07556971, 0.31978335, 0.31028958],\n",
              "       [0.18320767, 0.72270359, 0.77187675],\n",
              "       [0.6324242 , 0.24963787, 0.71467284],\n",
              "       [0.04196101, 0.59081194, 0.70118406],\n",
              "       [0.35968491, 0.7473761 , 0.72561025],\n",
              "       [0.05827585, 0.89245615, 0.61432801],\n",
              "       [0.3741856 , 0.02923585, 0.56503016]])"
            ]
          },
          "metadata": {
            "tags": []
          },
          "execution_count": 12
        }
      ]
    },
    {
      "cell_type": "markdown",
      "metadata": {
        "id": "Pt8EcomPH3N-"
      },
      "source": [
        "Normalize a group of observations on a per feature basis. Before running K-Means, it is beneficial to rescale each feature dimension of the ibservation set with whitening. Each feature is divided by its standard deviation across all observations to give it unit variance."
      ]
    },
    {
      "cell_type": "code",
      "metadata": {
        "id": "2vwBW-ZhHy0-"
      },
      "source": [
        "# whitening of data\n",
        "data = whiten(data)"
      ],
      "execution_count": 13,
      "outputs": []
    },
    {
      "cell_type": "markdown",
      "metadata": {
        "id": "tNohiSJrIfNH"
      },
      "source": [
        "Let us now compute K-Means with three clusters:"
      ]
    },
    {
      "cell_type": "code",
      "metadata": {
        "colab": {
          "base_uri": "https://localhost:8080/"
        },
        "id": "ukn3TCAVIcWG",
        "outputId": "905fdce3-8937-45ce-9fed-14cf005d3138"
      },
      "source": [
        "# computing K-mean with K = 3(2 clusters)\n",
        "centroids,_ = kmeans(data,3)\n",
        "print(centroids)"
      ],
      "execution_count": 14,
      "outputs": [
        {
          "output_type": "stream",
          "text": [
            "[[2.49506696 3.09942315 2.93623548]\n",
            " [2.11038631 1.82130053 1.5780605 ]\n",
            " [0.59402853 1.73762183 1.338758  ]]\n"
          ],
          "name": "stdout"
        }
      ]
    },
    {
      "cell_type": "markdown",
      "metadata": {
        "id": "jngP-95fI4bg"
      },
      "source": [
        "Assign each sample to a cluster"
      ]
    },
    {
      "cell_type": "code",
      "metadata": {
        "colab": {
          "base_uri": "https://localhost:8080/"
        },
        "id": "FIqhaK6SIyH4",
        "outputId": "e2cf2c78-f683-4f47-d2ac-3aa911a93253"
      },
      "source": [
        "clx,_ = vq(data, centroids)\n",
        "print(clx)"
      ],
      "execution_count": 16,
      "outputs": [
        {
          "output_type": "stream",
          "text": [
            "[0 0 0 0 0 0 0 0 0 0 0 0 1 0 0 0 1 0 1 1 0 0 1 1 1 0 0 0 1 0 0 1 0 1 0 1 1\n",
            " 0 0 0 1 0 0 0 0 1 1 0 0 1 0 0 0 0 0 0 1 0 1 1 0 0 0 0 1 0 0 0 0 0 1 0 0 0\n",
            " 0 0 0 0 0 0 0 1 0 0 0 1 0 0 1 1 1 0 0 0 0 0 0 0 0 1 2 2 1 2 2 1 2 2 1 1 1\n",
            " 1 1 2 2 2 1 2 1 2 1 2 2 1 2 1 1 2 2 2 1 1 1 2 1 2 2 1 2 1 1 2 2 2 1 1 2 1\n",
            " 2 0 2 1 2 2 1 1 1 2 2 1 1 2 1 2 2 2 2 2 2 1 2 2 2 2 1 2 1 2 1 1 2 1 2 1 2\n",
            " 2 2 1 1 2 1 1 1 2 2 1 2 2 2 2]\n"
          ],
          "name": "stdout"
        }
      ]
    },
    {
      "cell_type": "markdown",
      "metadata": {
        "id": "wxWPMPkOJImX"
      },
      "source": [
        "The distict values 0, 1, 2 of the above array indicate the clusters."
      ]
    },
    {
      "cell_type": "markdown",
      "metadata": {
        "id": "cCKROk9ZJfv_"
      },
      "source": [
        "#SciPy - Constants"
      ]
    },
    {
      "cell_type": "markdown",
      "metadata": {
        "id": "pMxbaQFIJ5SI"
      },
      "source": [
        "Scipy constants package provides a wide range of constants, which are used in the general scientific area. We have to import the required constant and use them as per the requirement. Let us see how these constant variables are imported and used."
      ]
    },
    {
      "cell_type": "code",
      "metadata": {
        "colab": {
          "base_uri": "https://localhost:8080/"
        },
        "id": "iuyCrujrJtjo",
        "outputId": "9540083b-ac30-4f69-d365-6107c826f532"
      },
      "source": [
        "import scipy\n",
        "import math\n",
        "\n",
        "print(\"SciPy - pi = %.16f\" %scipy.constants.pi)\n",
        "print(\"Math - pi = %.16f\" %math.pi)"
      ],
      "execution_count": 19,
      "outputs": [
        {
          "output_type": "stream",
          "text": [
            "SciPy - pi = 3.1415926535897931\n",
            "Math - pi = 3.1415926535897931\n"
          ],
          "name": "stdout"
        }
      ]
    },
    {
      "cell_type": "markdown",
      "metadata": {
        "id": "xoTwzJhwL-VU"
      },
      "source": [
        "The following table lists the most commonly used physical constants."
      ]
    },
    {
      "cell_type": "markdown",
      "metadata": {
        "id": "q2vVMLYwK37Q"
      },
      "source": [
        "Constant | Description\n",
        "---|---\n",
        "c | Speed of light in vacuum\n",
        "speed_of_light | Speed of light in vacuum\n",
        "h | Planck constant\n",
        "Planck | Planck constant h\n",
        "G | Newton's gravitational constant\n",
        "e | Elementary charge\n",
        "R | Molar gas constant\n",
        "Avogadro | Avogadro constant\n",
        "k | Boltzmann constant\n",
        "electron_mass (OR) m_e | Electronic mass\n",
        "proton_mass (OR) m_p | Proton mass\n",
        "neutron_mass (OR) m_n | Neutron mass"
      ]
    },
    {
      "cell_type": "markdown",
      "metadata": {
        "id": "8_jfIffUMGnz"
      },
      "source": [
        "There are other constant in scipy package. Remembering all of these are a bit tough. The easy way to get which key is for which function is with the scipy.constants.find() method."
      ]
    },
    {
      "cell_type": "code",
      "metadata": {
        "colab": {
          "base_uri": "https://localhost:8080/"
        },
        "id": "Xc-Vf3RjKeZU",
        "outputId": "cf740332-cd30-45f6-fcc9-87003f34c008"
      },
      "source": [
        "import scipy.constants\n",
        "res = scipy.constants.physical_constants.keys()\n",
        "print(res)"
      ],
      "execution_count": 30,
      "outputs": [
        {
          "output_type": "stream",
          "text": [
            "dict_keys(['Wien displacement law constant', 'atomic unit of 1st hyperpolarizablity', 'atomic unit of 2nd hyperpolarizablity', 'atomic unit of electric dipole moment', 'atomic unit of electric polarizablity', 'atomic unit of electric quadrupole moment', 'atomic unit of magn. dipole moment', 'atomic unit of magn. flux density', 'deuteron magn. moment', 'deuteron magn. moment to Bohr magneton ratio', 'deuteron magn. moment to nuclear magneton ratio', 'deuteron-electron magn. moment ratio', 'deuteron-proton magn. moment ratio', 'deuteron-neutron magn. moment ratio', 'electron gyromagn. ratio', 'electron gyromagn. ratio over 2 pi', 'electron magn. moment', 'electron magn. moment to Bohr magneton ratio', 'electron magn. moment to nuclear magneton ratio', 'electron magn. moment anomaly', 'electron to shielded proton magn. moment ratio', 'electron to shielded helion magn. moment ratio', 'electron-deuteron magn. moment ratio', 'electron-muon magn. moment ratio', 'electron-neutron magn. moment ratio', 'electron-proton magn. moment ratio', 'magn. constant', 'magn. flux quantum', 'muon magn. moment', 'muon magn. moment to Bohr magneton ratio', 'muon magn. moment to nuclear magneton ratio', 'muon-proton magn. moment ratio', 'neutron gyromagn. ratio', 'neutron gyromagn. ratio over 2 pi', 'neutron magn. moment', 'neutron magn. moment to Bohr magneton ratio', 'neutron magn. moment to nuclear magneton ratio', 'neutron to shielded proton magn. moment ratio', 'neutron-electron magn. moment ratio', 'neutron-proton magn. moment ratio', 'proton gyromagn. ratio', 'proton gyromagn. ratio over 2 pi', 'proton magn. moment', 'proton magn. moment to Bohr magneton ratio', 'proton magn. moment to nuclear magneton ratio', 'proton magn. shielding correction', 'proton-neutron magn. moment ratio', 'shielded helion gyromagn. ratio', 'shielded helion gyromagn. ratio over 2 pi', 'shielded helion magn. moment', 'shielded helion magn. moment to Bohr magneton ratio', 'shielded helion magn. moment to nuclear magneton ratio', 'shielded helion to proton magn. moment ratio', 'shielded helion to shielded proton magn. moment ratio', 'shielded proton magn. moment', 'shielded proton magn. moment to Bohr magneton ratio', 'shielded proton magn. moment to nuclear magneton ratio', '{220} lattice spacing of silicon', 'lattice spacing of silicon', 'alpha particle-electron mass ratio', 'alpha particle mass', 'alpha particle mass energy equivalent', 'alpha particle mass energy equivalent in MeV', 'alpha particle mass in u', 'alpha particle molar mass', 'alpha particle-proton mass ratio', 'Angstrom star', 'atomic mass constant', 'atomic mass constant energy equivalent', 'atomic mass constant energy equivalent in MeV', 'atomic mass unit-electron volt relationship', 'atomic mass unit-hartree relationship', 'atomic mass unit-hertz relationship', 'atomic mass unit-inverse meter relationship', 'atomic mass unit-joule relationship', 'atomic mass unit-kelvin relationship', 'atomic mass unit-kilogram relationship', 'atomic unit of 1st hyperpolarizability', 'atomic unit of 2nd hyperpolarizability', 'atomic unit of action', 'atomic unit of charge', 'atomic unit of charge density', 'atomic unit of current', 'atomic unit of electric dipole mom.', 'atomic unit of electric field', 'atomic unit of electric field gradient', 'atomic unit of electric polarizability', 'atomic unit of electric potential', 'atomic unit of electric quadrupole mom.', 'atomic unit of energy', 'atomic unit of force', 'atomic unit of length', 'atomic unit of mag. dipole mom.', 'atomic unit of mag. flux density', 'atomic unit of magnetizability', 'atomic unit of mass', 'atomic unit of momentum', 'atomic unit of permittivity', 'atomic unit of time', 'atomic unit of velocity', 'Avogadro constant', 'Bohr magneton', 'Bohr magneton in eV/T', 'Bohr magneton in Hz/T', 'Bohr magneton in inverse meters per tesla', 'Bohr magneton in K/T', 'Bohr radius', 'Boltzmann constant', 'Boltzmann constant in eV/K', 'Boltzmann constant in Hz/K', 'Boltzmann constant in inverse meters per kelvin', 'characteristic impedance of vacuum', 'classical electron radius', 'Compton wavelength', 'Compton wavelength over 2 pi', 'conductance quantum', 'conventional value of Josephson constant', 'conventional value of von Klitzing constant', 'Cu x unit', 'deuteron-electron mag. mom. ratio', 'deuteron-electron mass ratio', 'deuteron g factor', 'deuteron mag. mom.', 'deuteron mag. mom. to Bohr magneton ratio', 'deuteron mag. mom. to nuclear magneton ratio', 'deuteron mass', 'deuteron mass energy equivalent', 'deuteron mass energy equivalent in MeV', 'deuteron mass in u', 'deuteron molar mass', 'deuteron-neutron mag. mom. ratio', 'deuteron-proton mag. mom. ratio', 'deuteron-proton mass ratio', 'deuteron rms charge radius', 'electric constant', 'electron charge to mass quotient', 'electron-deuteron mag. mom. ratio', 'electron-deuteron mass ratio', 'electron g factor', 'electron gyromag. ratio', 'electron gyromag. ratio over 2 pi', 'electron mag. mom.', 'electron mag. mom. anomaly', 'electron mag. mom. to Bohr magneton ratio', 'electron mag. mom. to nuclear magneton ratio', 'electron mass', 'electron mass energy equivalent', 'electron mass energy equivalent in MeV', 'electron mass in u', 'electron molar mass', 'electron-muon mag. mom. ratio', 'electron-muon mass ratio', 'electron-neutron mag. mom. ratio', 'electron-neutron mass ratio', 'electron-proton mag. mom. ratio', 'electron-proton mass ratio', 'electron-tau mass ratio', 'electron to alpha particle mass ratio', 'electron to shielded helion mag. mom. ratio', 'electron to shielded proton mag. mom. ratio', 'electron volt', 'electron volt-atomic mass unit relationship', 'electron volt-hartree relationship', 'electron volt-hertz relationship', 'electron volt-inverse meter relationship', 'electron volt-joule relationship', 'electron volt-kelvin relationship', 'electron volt-kilogram relationship', 'elementary charge', 'elementary charge over h', 'Faraday constant', 'Faraday constant for conventional electric current', 'Fermi coupling constant', 'fine-structure constant', 'first radiation constant', 'first radiation constant for spectral radiance', 'hartree-atomic mass unit relationship', 'hartree-electron volt relationship', 'Hartree energy', 'Hartree energy in eV', 'hartree-hertz relationship', 'hartree-inverse meter relationship', 'hartree-joule relationship', 'hartree-kelvin relationship', 'hartree-kilogram relationship', 'helion-electron mass ratio', 'helion mass', 'helion mass energy equivalent', 'helion mass energy equivalent in MeV', 'helion mass in u', 'helion molar mass', 'helion-proton mass ratio', 'hertz-atomic mass unit relationship', 'hertz-electron volt relationship', 'hertz-hartree relationship', 'hertz-inverse meter relationship', 'hertz-joule relationship', 'hertz-kelvin relationship', 'hertz-kilogram relationship', 'inverse fine-structure constant', 'inverse meter-atomic mass unit relationship', 'inverse meter-electron volt relationship', 'inverse meter-hartree relationship', 'inverse meter-hertz relationship', 'inverse meter-joule relationship', 'inverse meter-kelvin relationship', 'inverse meter-kilogram relationship', 'inverse of conductance quantum', 'Josephson constant', 'joule-atomic mass unit relationship', 'joule-electron volt relationship', 'joule-hartree relationship', 'joule-hertz relationship', 'joule-inverse meter relationship', 'joule-kelvin relationship', 'joule-kilogram relationship', 'kelvin-atomic mass unit relationship', 'kelvin-electron volt relationship', 'kelvin-hartree relationship', 'kelvin-hertz relationship', 'kelvin-inverse meter relationship', 'kelvin-joule relationship', 'kelvin-kilogram relationship', 'kilogram-atomic mass unit relationship', 'kilogram-electron volt relationship', 'kilogram-hartree relationship', 'kilogram-hertz relationship', 'kilogram-inverse meter relationship', 'kilogram-joule relationship', 'kilogram-kelvin relationship', 'lattice parameter of silicon', 'Loschmidt constant (273.15 K, 101.325 kPa)', 'mag. constant', 'mag. flux quantum', 'molar gas constant', 'molar mass constant', 'molar mass of carbon-12', 'molar Planck constant', 'molar Planck constant times c', 'molar volume of ideal gas (273.15 K, 100 kPa)', 'molar volume of ideal gas (273.15 K, 101.325 kPa)', 'molar volume of silicon', 'Mo x unit', 'muon Compton wavelength', 'muon Compton wavelength over 2 pi', 'muon-electron mass ratio', 'muon g factor', 'muon mag. mom.', 'muon mag. mom. anomaly', 'muon mag. mom. to Bohr magneton ratio', 'muon mag. mom. to nuclear magneton ratio', 'muon mass', 'muon mass energy equivalent', 'muon mass energy equivalent in MeV', 'muon mass in u', 'muon molar mass', 'muon-neutron mass ratio', 'muon-proton mag. mom. ratio', 'muon-proton mass ratio', 'muon-tau mass ratio', 'natural unit of action', 'natural unit of action in eV s', 'natural unit of energy', 'natural unit of energy in MeV', 'natural unit of length', 'natural unit of mass', 'natural unit of momentum', 'natural unit of momentum in MeV/c', 'natural unit of time', 'natural unit of velocity', 'neutron Compton wavelength', 'neutron Compton wavelength over 2 pi', 'neutron-electron mag. mom. ratio', 'neutron-electron mass ratio', 'neutron g factor', 'neutron gyromag. ratio', 'neutron gyromag. ratio over 2 pi', 'neutron mag. mom.', 'neutron mag. mom. to Bohr magneton ratio', 'neutron mag. mom. to nuclear magneton ratio', 'neutron mass', 'neutron mass energy equivalent', 'neutron mass energy equivalent in MeV', 'neutron mass in u', 'neutron molar mass', 'neutron-muon mass ratio', 'neutron-proton mag. mom. ratio', 'neutron-proton mass ratio', 'neutron-tau mass ratio', 'neutron to shielded proton mag. mom. ratio', 'Newtonian constant of gravitation', 'Newtonian constant of gravitation over h-bar c', 'nuclear magneton', 'nuclear magneton in eV/T', 'nuclear magneton in inverse meters per tesla', 'nuclear magneton in K/T', 'nuclear magneton in MHz/T', 'Planck constant', 'Planck constant in eV s', 'Planck constant over 2 pi', 'Planck constant over 2 pi in eV s', 'Planck constant over 2 pi times c in MeV fm', 'Planck length', 'Planck mass', 'Planck mass energy equivalent in GeV', 'Planck temperature', 'Planck time', 'proton charge to mass quotient', 'proton Compton wavelength', 'proton Compton wavelength over 2 pi', 'proton-electron mass ratio', 'proton g factor', 'proton gyromag. ratio', 'proton gyromag. ratio over 2 pi', 'proton mag. mom.', 'proton mag. mom. to Bohr magneton ratio', 'proton mag. mom. to nuclear magneton ratio', 'proton mag. shielding correction', 'proton mass', 'proton mass energy equivalent', 'proton mass energy equivalent in MeV', 'proton mass in u', 'proton molar mass', 'proton-muon mass ratio', 'proton-neutron mag. mom. ratio', 'proton-neutron mass ratio', 'proton rms charge radius', 'proton-tau mass ratio', 'quantum of circulation', 'quantum of circulation times 2', 'Rydberg constant', 'Rydberg constant times c in Hz', 'Rydberg constant times hc in eV', 'Rydberg constant times hc in J', 'Sackur-Tetrode constant (1 K, 100 kPa)', 'Sackur-Tetrode constant (1 K, 101.325 kPa)', 'second radiation constant', 'shielded helion gyromag. ratio', 'shielded helion gyromag. ratio over 2 pi', 'shielded helion mag. mom.', 'shielded helion mag. mom. to Bohr magneton ratio', 'shielded helion mag. mom. to nuclear magneton ratio', 'shielded helion to proton mag. mom. ratio', 'shielded helion to shielded proton mag. mom. ratio', 'shielded proton gyromag. ratio', 'shielded proton gyromag. ratio over 2 pi', 'shielded proton mag. mom.', 'shielded proton mag. mom. to Bohr magneton ratio', 'shielded proton mag. mom. to nuclear magneton ratio', 'speed of light in vacuum', 'standard acceleration of gravity', 'standard atmosphere', 'Stefan-Boltzmann constant', 'tau Compton wavelength', 'tau Compton wavelength over 2 pi', 'tau-electron mass ratio', 'tau mass', 'tau mass energy equivalent', 'tau mass energy equivalent in MeV', 'tau mass in u', 'tau molar mass', 'tau-muon mass ratio', 'tau-neutron mass ratio', 'tau-proton mass ratio', 'Thomson cross section', 'triton-electron mag. mom. ratio', 'triton-electron mass ratio', 'triton g factor', 'triton mag. mom.', 'triton mag. mom. to Bohr magneton ratio', 'triton mag. mom. to nuclear magneton ratio', 'triton mass', 'triton mass energy equivalent', 'triton mass energy equivalent in MeV', 'triton mass in u', 'triton molar mass', 'triton-neutron mag. mom. ratio', 'triton-proton mag. mom. ratio', 'triton-proton mass ratio', 'unified atomic mass unit', 'von Klitzing constant', 'weak mixing angle', 'Wien frequency displacement law constant', 'Wien wavelength displacement law constant', 'atomic unit of mom.um', 'electron-helion mass ratio', 'electron-triton mass ratio', 'helion g factor', 'helion mag. mom.', 'helion mag. mom. to Bohr magneton ratio', 'helion mag. mom. to nuclear magneton ratio', 'Loschmidt constant (273.15 K, 100 kPa)', 'natural unit of mom.um', 'natural unit of mom.um in MeV/c', 'neutron-proton mass difference', 'neutron-proton mass difference energy equivalent', 'neutron-proton mass difference energy equivalent in MeV', 'neutron-proton mass difference in u', 'standard-state pressure', 'alpha particle relative atomic mass', 'Bohr magneton in inverse meter per tesla', 'Boltzmann constant in inverse meter per kelvin', 'conventional value of ampere-90', 'conventional value of coulomb-90', 'conventional value of farad-90', 'conventional value of henry-90', 'conventional value of ohm-90', 'conventional value of volt-90', 'conventional value of watt-90', 'deuteron relative atomic mass', 'electron gyromag. ratio in MHz/T', 'electron relative atomic mass', 'elementary charge over h-bar', 'helion relative atomic mass', 'helion shielding shift', 'hyperfine transition frequency of Cs-133', 'lattice spacing of ideal Si (220)', 'luminous efficacy', 'neutron gyromag. ratio in MHz/T', 'neutron relative atomic mass', 'nuclear magneton in inverse meter per tesla', 'Planck constant in eV/Hz', 'proton gyromag. ratio in MHz/T', 'proton relative atomic mass', 'reduced Compton wavelength', 'reduced muon Compton wavelength', 'reduced neutron Compton wavelength', 'reduced Planck constant', 'reduced Planck constant in eV s', 'reduced Planck constant times c in MeV fm', 'reduced proton Compton wavelength', 'reduced tau Compton wavelength', 'shielded helion gyromag. ratio in MHz/T', 'shielded proton gyromag. ratio in MHz/T', 'shielding difference of d and p in HD', 'shielding difference of t and p in HT', 'tau energy equivalent', 'triton relative atomic mass', 'triton to proton mag. mom. ratio', 'vacuum electric permittivity', 'vacuum mag. permeability', 'W to Z mass ratio'])\n"
          ],
          "name": "stdout"
        }
      ]
    },
    {
      "cell_type": "markdown",
      "metadata": {
        "id": "ZYN7WSjdNlz_"
      },
      "source": [
        "# SciPy - FFTpack"
      ]
    },
    {
      "cell_type": "markdown",
      "metadata": {
        "id": "yZET60dHNlqW"
      },
      "source": [
        "**One Dimensinal Discrete Fourier Transform**\n",
        "\n",
        "The FFT y[k] of length N of the length-N sequence x[n] is calculated by fft() and the inverse transform is calculated sing ifft(). Let us consider the following example"
      ]
    },
    {
      "cell_type": "code",
      "metadata": {
        "colab": {
          "base_uri": "https://localhost:8080/"
        },
        "id": "hecTwUHtMx7f",
        "outputId": "6b582d92-1bac-4b2a-c900-f4b956a2100f"
      },
      "source": [
        "import numpy as np\n",
        "from scipy.fftpack import fft\n",
        "\n",
        "x = np.array([1.0, 2.0, 1.0, -1.0, 1.5])\n",
        "\n",
        "y = fft(x)\n",
        "print(y)"
      ],
      "execution_count": 32,
      "outputs": [
        {
          "output_type": "stream",
          "text": [
            "[ 4.5       -0.j          2.08155948-1.65109876j -1.83155948+1.60822041j\n",
            " -1.83155948-1.60822041j  2.08155948+1.65109876j]\n"
          ],
          "name": "stdout"
        }
      ]
    },
    {
      "cell_type": "code",
      "metadata": {
        "colab": {
          "base_uri": "https://localhost:8080/"
        },
        "id": "PUPTA3ZLOXVA",
        "outputId": "274b66e3-40c4-498f-c5ce-da9f545d1f55"
      },
      "source": [
        "from scipy.fftpack import ifft\n",
        "\n",
        "yinv = ifft(y)\n",
        "print(yinv)"
      ],
      "execution_count": 34,
      "outputs": [
        {
          "output_type": "stream",
          "text": [
            "[ 1. +0.j  2. +0.j  1. +0.j -1. +0.j  1.5+0.j]\n"
          ],
          "name": "stdout"
        }
      ]
    },
    {
      "cell_type": "markdown",
      "metadata": {
        "id": "EcnfKBM4Owds"
      },
      "source": [
        "The scipy.fftpack module allows computing fast Fourier transforms. As an illustration, a (noisy) input signal may look as follow:"
      ]
    },
    {
      "cell_type": "code",
      "metadata": {
        "colab": {
          "base_uri": "https://localhost:8080/"
        },
        "id": "mmIp-yauOkCq",
        "outputId": "648bd5d9-948f-4c27-fbcc-10eef17c0800"
      },
      "source": [
        "time_step = 0.02\n",
        "period = 5.\n",
        "time_vec = np.arange(0,20,time_step)\n",
        "sig = np.sin(2 * np.pi / period * time_vec) + 0.5 * np.random.randn(time_vec.size)\n",
        "print(sig.size)"
      ],
      "execution_count": 39,
      "outputs": [
        {
          "output_type": "stream",
          "text": [
            "1000\n"
          ],
          "name": "stdout"
        }
      ]
    },
    {
      "cell_type": "markdown",
      "metadata": {
        "id": "sv7hEWClPrtg"
      },
      "source": [
        "We do not know the signal frequency; we only know the sampling time step of the signal sig. The signal is supposed to come from a real functin, so the Fourier trasform will be symmetric. The scipy.fftpack.fftfreq() function will generate the sampling frequencies and scipy.fftpack.fft() wil compute the fast Fourier transform."
      ]
    },
    {
      "cell_type": "code",
      "metadata": {
        "colab": {
          "base_uri": "https://localhost:8080/"
        },
        "id": "Vhrw_nAGPTfJ",
        "outputId": "6cb283e2-6d23-4411-a377-8647fd945647"
      },
      "source": [
        "from scipy import fftpack\n",
        "sample_freq = fftpack.fftfreq(sig.size, d = time_step)\n",
        "sig_fft = fftpack.fft(sig)\n",
        "print(sig_fft)"
      ],
      "execution_count": 40,
      "outputs": [
        {
          "output_type": "stream",
          "text": [
            "[-1.41691100e+01-0.00000000e+00j -4.88095005e-01-7.02184377e+00j\n",
            " -1.60523052e+01-1.16003732e+01j -1.76368058e+01+1.71528464e-01j\n",
            " -7.88707380e+00-4.96556281e+02j  3.03265366e+00+1.93959138e+01j\n",
            " -1.08291567e+01-6.85737996e+00j  3.38758158e+00-1.77267982e+01j\n",
            "  3.46706568e+01+1.95988102e+00j -7.31051777e+00+1.17751597e+01j\n",
            " -5.94406725e+00+8.05232214e+00j  6.83572065e+00+8.20885036e+00j\n",
            " -5.96711121e+00+4.30199894e-01j  6.05778476e+00+2.58506547e-01j\n",
            "  4.78761221e+00-1.13641533e+01j  4.27100985e+00-6.31905195e+00j\n",
            "  1.14468867e+01-1.21821941e+01j  5.99372501e+00-2.81343664e-01j\n",
            " -9.15797947e+00+3.66632047e+00j  1.70229232e+01-1.78115681e+00j\n",
            "  4.99604897e+00+2.19556772e+01j -1.11426773e+01+2.67765948e+00j\n",
            " -9.16652759e+00+1.83346842e+01j -5.91767956e+00+1.43780847e+00j\n",
            " -1.18397132e+01+2.60843713e+01j -1.51336814e+01-1.21372315e+01j\n",
            "  2.55711823e+01+8.98311253e+00j -1.61601882e+01+3.98193960e-01j\n",
            "  1.86604610e+01-5.22047404e+00j  1.64054262e+01-5.42409091e+00j\n",
            " -6.34298841e+00+1.38854001e+01j -6.63509956e+00-2.18143931e+00j\n",
            " -1.48466784e+01+5.66135092e-01j -7.22705440e+00-3.44928053e+00j\n",
            " -6.64950408e+00+1.26231692e+01j -6.78320039e+00+1.11673047e+01j\n",
            "  1.22413428e+01+7.10819492e+00j  1.33553891e+01-1.58360050e+01j\n",
            "  1.33797804e+01+7.78090117e+00j  1.06557472e+01+6.30130637e+00j\n",
            " -7.86146382e+00-6.40506928e+00j -6.85955387e+00-2.89352399e+00j\n",
            "  3.32539934e+00-1.45930381e+01j  1.04853568e+01+1.65485227e+01j\n",
            "  4.07931068e+00-3.42847832e+00j -1.95070675e+01-2.22659787e+01j\n",
            "  1.14764629e+01-1.01472713e+00j  1.83727903e+01-1.27908953e+01j\n",
            " -1.27453945e+01+7.17697719e+00j  6.53063922e+00-5.02460821e+00j\n",
            " -1.18799976e+01+6.63445160e+00j -1.03493771e+01+1.03980623e+01j\n",
            "  1.57313660e+01-2.60313506e+00j -5.05812503e+00-1.61261550e+01j\n",
            " -4.15203473e+00-6.31787403e+00j -5.82109099e+00-2.39000988e+01j\n",
            "  2.85361957e+00+5.89540166e+00j  3.38659483e+00-1.63628154e+01j\n",
            "  3.32816311e+00+1.44448563e+01j -8.71970683e+00-1.10314574e+01j\n",
            " -1.52159738e+00+1.42594732e+01j -8.11769940e+00-8.05105242e-01j\n",
            " -8.15399064e+00+9.05143741e+00j -1.45992560e+01+7.40488894e+00j\n",
            "  1.01561908e+00+3.88167434e+00j -4.77306920e+00-1.53016420e+01j\n",
            "  1.15363455e+01-1.05901044e+01j  8.77886559e+00+1.27966417e+01j\n",
            " -9.00174238e+00+2.81771778e+00j -2.90288574e+00+4.75546448e+00j\n",
            " -6.94293450e+00+1.10469152e+01j  5.96630380e+00-3.93138704e+00j\n",
            "  1.15629818e+01+1.28209077e+01j -7.50513427e+00-1.36619090e+00j\n",
            " -1.63705231e+01-3.49264368e+00j  2.52420376e+00+6.59154194e+00j\n",
            "  2.98957558e+00-4.65680470e+00j -2.62934536e+01+7.41800982e+00j\n",
            " -2.04911233e+01+2.15729046e+01j -1.47738776e+01+2.04846412e+01j\n",
            " -4.62545125e+00+3.16976993e+00j -5.93540569e+00+9.91352305e+00j\n",
            "  1.62289910e+01+2.87744759e+00j -1.21121484e+00-2.13582018e+00j\n",
            "  7.04761813e+00+1.45069832e+01j  9.24566486e+00+2.09890740e+01j\n",
            " -4.97023702e+00-2.71591938e-01j -5.63773162e+00-3.72027225e+00j\n",
            " -1.33046297e+01+2.29720251e+01j  7.62227525e+00+5.93897187e+00j\n",
            "  6.85612397e+00+1.07385322e+01j  1.64583119e+01+2.84069326e+00j\n",
            " -1.27747405e+01+1.12554806e+01j -2.22016407e+01-1.45442380e+01j\n",
            " -4.74842243e+00-1.34888880e+01j  3.22202984e+00+6.03682514e+00j\n",
            " -1.49435597e+01+7.30522609e+00j  8.31147391e-01+1.82710604e+00j\n",
            "  7.16126362e+00-2.84324120e+00j -3.14605982e+00+1.24609658e+01j\n",
            "  1.49825005e+00+1.65888101e+01j -1.39662051e+01+1.77984048e+01j\n",
            "  1.02352460e+01-1.36096994e+01j -1.36631019e+01+2.88918695e+00j\n",
            " -5.71428156e+00-8.50962234e+00j  7.17282347e+00+4.85786505e+00j\n",
            "  1.21784927e+01-1.16590309e+01j  1.12639268e+00+1.35709139e+01j\n",
            " -2.12942242e+01-2.16076521e+00j -7.51519957e+00-1.11710013e+01j\n",
            "  1.22860562e+01-1.27597801e+01j -2.48710973e+00-2.12874326e+01j\n",
            " -1.21893261e+01-1.48377439e+01j  2.42081282e+00-1.59843493e+01j\n",
            "  1.16641360e+01-8.68760131e+00j -1.41105985e+01-3.53673638e+00j\n",
            " -2.34555545e+01-1.60761708e+00j -2.55114757e+01+1.05832991e+01j\n",
            "  1.04998544e+01-5.09672205e+00j  7.20824757e+00-1.54337727e+01j\n",
            "  1.72224560e+01-1.34138590e+01j  1.07741330e+01+1.77722822e+01j\n",
            " -6.91831150e+00-4.19683516e+00j -9.77240311e-01-7.14805792e+00j\n",
            "  1.44072195e+01-9.70791841e+00j  1.04073165e+01+1.68787134e+00j\n",
            "  3.64244150e+00+5.11142379e+00j  7.67849664e+00+1.79394183e+01j\n",
            "  8.35163488e+00-1.53231671e+01j -1.72814306e+01-1.01635295e+01j\n",
            " -1.43296000e+01-7.02822902e+00j -4.68223714e-01+1.07964154e+01j\n",
            "  2.69011500e+01-4.38034443e+00j -6.02952084e+00-1.27768418e+01j\n",
            "  1.87297807e+00-2.11479100e+00j -1.06973421e+00+2.77869584e+01j\n",
            "  2.29601062e+01+1.76225920e+01j -8.24547158e+00-9.18103055e+00j\n",
            " -2.23509738e+01+1.37872792e+00j  1.56250403e+01-2.10375435e+01j\n",
            " -6.17409280e+00+3.55964475e+00j -8.47333492e+00-1.02510289e+01j\n",
            " -2.01069891e+01+3.25634975e-01j -2.63177540e+00+9.45705842e-01j\n",
            " -1.27000450e+01-5.58636740e+00j -1.05951818e+01-1.79086294e+01j\n",
            "  1.33159631e+01+3.45576477e+00j -1.71969561e+01+1.02476774e+01j\n",
            " -1.09857442e+01-4.86879745e+00j  4.49755375e+00-6.17107131e+00j\n",
            "  3.16730571e+00+1.53262520e+01j  1.91667101e+01-1.35489445e+01j\n",
            " -3.23609697e+00-3.59952705e+00j -4.07696450e-01+6.13919164e+00j\n",
            " -9.47792778e-01+6.24014401e+00j  1.56662478e-01+7.36084048e+00j\n",
            " -5.46936549e+00+4.64549585e+00j -8.70202165e+00-6.80065788e+00j\n",
            "  7.39160741e+00-4.32834025e-01j  8.57903543e+00-6.23509150e+00j\n",
            "  8.79112855e+00+8.81027358e+00j  1.25535680e+01+1.88972696e+00j\n",
            "  8.57810927e+00-7.86026746e+00j  1.20859012e+01+1.40856925e+01j\n",
            " -2.39895331e+01+4.51932923e+00j -2.31280151e+00+3.29309634e+00j\n",
            " -8.42073706e+00-1.20578844e+01j -3.45325882e+00-6.09607832e+00j\n",
            "  6.25083299e+00-8.92790978e+00j -1.23025147e+00-1.31770533e+01j\n",
            "  2.36596801e+01+7.00550431e+00j -2.47870458e+00+1.55691026e+01j\n",
            "  1.21940089e-01+8.58729520e+00j -9.47386868e+00-2.03600243e+01j\n",
            "  2.70926470e+01-4.45326229e+00j -5.55372540e+00+2.12938261e+01j\n",
            " -1.45070231e+00+7.43781653e+00j  8.86002779e+00-1.40717394e+01j\n",
            "  8.12468403e+00-2.42094474e+00j -1.11872880e+01-2.58102946e+01j\n",
            "  1.77927579e+01+9.74060899e+00j -3.24542071e+00-1.40471202e+01j\n",
            "  2.43720489e+01-2.71893277e+01j -6.28202961e+00-2.01167682e+01j\n",
            " -1.41632778e+01-2.57957710e+01j  3.56011361e+00-5.70290701e+00j\n",
            "  2.04418861e+01-1.10943686e+01j -3.16103586e+00-1.79516619e+01j\n",
            " -4.28980256e-01+1.05409492e+01j  1.58864405e+01+2.55693265e+00j\n",
            "  3.65182699e+00-7.51092843e+00j -1.58599207e+01-1.32460012e+01j\n",
            " -5.50331472e+00-1.05713534e+00j  8.03108478e+00-2.25852341e+00j\n",
            " -6.35667920e+00+3.34905446e+00j  1.40695117e+01-7.90553118e+00j\n",
            " -1.36517934e+01+4.59827777e+00j  1.26696096e+01-1.00774157e+01j\n",
            "  5.14454090e-01+4.72011569e+00j -5.25273522e+00+1.03993103e+01j\n",
            "  9.44088434e+00+9.53260027e-01j  3.66081193e+01-2.97530467e+00j\n",
            " -1.38754304e+01-1.21299141e+00j  5.29482118e+00+1.25608359e+01j\n",
            "  3.46530602e-01-1.16911419e+01j -2.82343488e+00-9.13263549e+00j\n",
            " -1.47722755e+01-1.01171277e+01j  7.22253217e+00-1.16996352e+01j\n",
            " -1.86149221e+01-3.35793366e+00j -2.54135901e+00+4.21767324e+00j\n",
            "  9.29536723e+00+1.15111624e+01j  1.52985761e+01+1.34626913e+01j\n",
            "  2.38436966e+01+1.47398612e+01j -1.12765171e+01-1.12231080e+01j\n",
            " -7.45871545e+00-1.66432062e+01j -8.82813830e+00-3.49381430e-01j\n",
            "  1.32525415e+01-2.41857279e+00j -1.73861497e+01+5.51087812e+00j\n",
            "  7.49854925e+00-4.13432026e+00j -1.90065636e+01-9.87138686e+00j\n",
            " -4.18457204e+00+1.24227509e+01j -9.62312572e-01+2.30296030e+01j\n",
            "  1.13043121e+01-1.68809590e+00j  8.63947757e+00-1.63628944e+00j\n",
            " -5.05720432e-01+4.88931962e+00j -7.64091873e+00+1.44692477e+01j\n",
            "  2.79910625e+01-9.29959985e+00j  7.28501288e+00-5.33491099e-01j\n",
            "  8.65548716e+00-5.35465798e+00j  4.95476174e+00-2.73637094e+01j\n",
            "  1.50530405e+01-2.68371603e+01j -1.05767692e+01-1.29493281e+01j\n",
            "  6.68798389e+00+1.17976500e+01j -6.70917856e-02+1.46494360e+01j\n",
            " -2.02311422e+00+4.01639534e+00j  9.18954470e+00-1.45377417e+01j\n",
            "  1.10061359e+01+6.42373333e+00j  5.97472285e+00+8.21665489e+00j\n",
            " -2.48092045e+01-3.91334127e+00j -8.03949428e+00-2.22923957e+01j\n",
            "  1.40979035e+01+1.08541060e+01j  8.44566626e+00-5.47004910e+00j\n",
            "  6.82958448e+00-6.26036384e+00j  1.54103134e+01-1.03759649e+01j\n",
            " -2.25338963e+01+2.96066651e+00j -7.40154033e+00-4.61136814e+00j\n",
            " -1.41095293e+01+5.38542147e-01j -4.56580710e-03+9.13816835e+00j\n",
            "  1.41538540e+01-6.42244663e+00j  8.79776148e+00-7.27911799e+00j\n",
            " -4.74726032e+00+1.73091403e+00j  1.23479276e+01-2.58624256e+01j\n",
            " -3.44151281e+00-6.91385174e+00j  6.84037810e+00-1.63496913e+01j\n",
            " -1.66079786e+01+3.83820405e+00j -3.57210423e+00+2.00991483e+01j\n",
            "  8.24821164e+00+1.56083134e+01j -2.47139024e+00+4.07695270e+00j\n",
            "  6.41126451e+00+3.68160733e+00j -5.65432670e+00-6.69024024e+00j\n",
            "  1.81472713e+01-6.47597567e+00j  9.48268469e+00-1.73591603e-01j\n",
            " -1.40312315e+01-1.86987535e+01j  6.44214282e+00+1.24882322e+01j\n",
            "  5.80505740e+00+1.22055305e+01j  3.45065464e+00+1.04108228e+01j\n",
            " -1.23930593e+00-3.69844741e+00j -7.72276458e+00+4.84548013e+00j\n",
            "  1.05869376e+01+5.16835651e-01j  9.86560453e+00-1.94246211e+00j\n",
            "  1.16283612e+01+2.01677197e+00j  2.62282061e+01+7.97911475e+00j\n",
            "  1.88305361e+00+1.17565075e+01j  2.12385075e+00-1.03354285e+01j\n",
            "  2.36369804e+01+1.05948687e+01j  9.27591907e+00-3.52298862e+00j\n",
            " -2.00639506e+00-1.76301825e+01j  1.95321960e+01-4.70790432e+00j\n",
            " -2.64330471e+00+3.35386088e+00j  5.26169160e+00+1.83362321e+00j\n",
            "  4.00934690e+00-1.07850099e+01j -8.20901133e-01-1.40831801e+01j\n",
            " -2.65057127e+01+6.35768252e+00j -1.05112588e+01-6.10575836e+00j\n",
            "  1.73303468e+00+2.43416295e+00j -1.94000177e-01-9.62059564e+00j\n",
            "  5.97598368e+00-7.22400933e+00j -2.44620693e+00-2.19961876e+00j\n",
            "  4.97130119e+00-2.51691745e+01j  1.76946508e+01-5.00640874e+00j\n",
            "  1.01128473e+01-3.49809499e+00j -4.62266446e+00+3.50769310e+00j\n",
            " -1.22437671e+01-1.09033719e+01j -1.35699623e+01+7.25995121e+00j\n",
            " -1.27594143e+00+9.79641885e+00j  7.84027521e+00-7.47468326e+00j\n",
            "  4.75206955e-01+6.91701425e+00j -4.60222780e+00+7.31177918e+00j\n",
            "  1.85402310e+01-4.12238162e+00j -1.06247594e+01-1.94696448e+01j\n",
            "  4.77922319e+00+1.32866512e+01j  2.63347124e+00-2.84966590e+00j\n",
            " -9.45165893e+00-2.03254389e+01j -3.79848278e+00+1.67937644e+01j\n",
            "  3.51188662e+00-8.41712569e+00j -1.48569492e+01+8.07112896e+00j\n",
            " -1.38006181e+01+6.80783593e+00j  2.20694008e+00-1.57208827e+01j\n",
            " -1.61410717e+01-2.54540917e+00j -8.48920331e+00-2.94572224e+00j\n",
            "  1.24161207e+01-2.65399911e+00j -1.79454636e+01+4.92392210e+00j\n",
            " -1.80748527e+00-1.98229340e+01j -2.71120356e+00+2.05085213e+00j\n",
            "  1.25761377e+01-5.31965841e+00j  1.35078900e+01+3.97216029e+00j\n",
            "  6.69886682e+00+1.17314659e+01j  9.01985941e+00+6.62427321e+00j\n",
            " -2.62899270e+00+1.29339800e+00j  5.83577832e+00+8.08903969e+00j\n",
            "  5.16443394e+00+1.11213582e+01j -9.41955609e-01-8.67432759e+00j\n",
            "  3.76685200e+00-7.45141555e+00j -1.40610024e+01+5.53792827e+00j\n",
            " -4.00799809e+00-2.17807560e+01j  1.00378299e+01-5.81499083e+00j\n",
            " -1.05322691e+01-4.17837123e+00j -3.55609927e+00-9.60787097e+00j\n",
            "  3.04338006e+00+1.20129586e+01j  2.62483511e+00-2.01112967e+01j\n",
            " -5.01421009e-01-1.17697194e+01j -1.74499146e+01-1.59743630e+01j\n",
            "  2.76007339e+00+2.42159505e+01j  3.05373654e+00-1.39466999e+01j\n",
            " -6.81641453e+00-1.36823101e+01j  1.07363224e+01+6.56150623e+00j\n",
            " -1.03284152e+00+1.44495424e+01j  1.72344388e+01+2.89292694e+01j\n",
            " -1.92545653e+00+3.41170268e+00j -7.85994186e+00+5.46032089e+00j\n",
            "  5.79021606e+00+2.16496230e+01j  5.81469794e+00+5.93157598e+00j\n",
            " -2.10195940e+01+2.27628085e-01j  1.77784310e+00-9.39654571e+00j\n",
            " -1.14382584e+01+3.58269530e+00j  1.50305855e+00+3.75224456e+00j\n",
            "  8.05079677e+00-2.04686465e+01j -1.63659741e+01+3.21342002e+00j\n",
            " -1.67918115e+01-2.44682225e+00j  7.83124773e+00-3.75398291e-01j\n",
            " -6.03862673e+00+1.34317609e+01j  5.52151638e-01-8.63461057e+00j\n",
            " -9.05200992e+00+2.00493500e+00j -4.19154073e+00-6.84713928e+00j\n",
            " -1.27307020e+01-2.35278025e+00j  1.90378388e+00-4.73837674e+00j\n",
            " -4.61047649e+00+5.35105701e+00j  2.33627216e+01+1.32961901e+01j\n",
            "  1.21718845e+00-1.25063431e+01j  1.37819481e+01+1.44087121e+01j\n",
            " -3.47113431e+00-9.80797869e+00j -1.01693216e+01+1.86521237e+00j\n",
            "  1.11191361e+01-1.03941864e+01j -1.11740406e+01-1.59198212e+01j\n",
            " -1.44913940e+01+1.88620342e+01j  5.41891114e+00+3.49910176e+01j\n",
            "  2.78931212e+01-2.14086740e+01j  5.13841668e+00-1.08004282e+01j\n",
            "  1.66835643e+00+1.55735687e+01j  7.84846976e+00+1.28899364e+01j\n",
            " -5.54180749e+00+4.54693499e+00j -6.61552562e+00+4.75878173e+00j\n",
            " -2.48840023e+00-2.40851523e+00j -2.07570563e+01+5.83406383e+00j\n",
            "  8.67743287e+00-1.62558104e+01j -1.79039141e+00+3.73300312e+00j\n",
            "  1.95337218e+00-1.26158387e+01j  9.07906228e+00-4.75552437e+00j\n",
            "  7.89250773e+00-1.44257163e+01j  4.10556997e+00-1.28050319e+00j\n",
            "  5.05194060e+00+2.66169273e+00j  9.61121364e+00+5.46507472e+00j\n",
            " -1.32366675e+00+1.85472634e+01j  7.62536046e+00-9.77441755e+00j\n",
            "  7.67932611e+00+1.16698156e+01j  7.30132435e+00-2.17863904e+00j\n",
            "  3.24132192e+00-5.78888890e+00j -6.70839668e+00+1.04148875e+01j\n",
            " -6.11507294e+00-7.79934325e-01j -8.25786925e+00-4.52816607e+00j\n",
            "  2.16517209e+01+1.37349399e-01j -9.29400649e+00+7.03883816e-01j\n",
            " -1.67768419e+01+1.19245606e+01j  2.34250198e+01-7.25227922e+00j\n",
            "  1.71088711e+01-2.46974596e+01j -2.03089314e+01-4.98871916e+00j\n",
            "  9.70181342e+00-3.39695123e+00j  1.75871497e+01+1.71757685e+00j\n",
            "  7.30454003e+00+4.11438159e+00j -1.10464913e+01+8.83442052e+00j\n",
            "  4.28034025e+00+2.79929199e+01j -1.22438271e+01-9.80560580e+00j\n",
            " -8.54694739e+00-2.32508233e+01j  4.82977121e-01+6.59363817e+00j\n",
            "  2.13347008e+01+9.47751934e+00j  3.02093920e+00-7.48482616e+00j\n",
            "  1.46565153e+01-1.19706036e+01j  1.15114130e+01-2.33641177e+01j\n",
            " -7.76759906e+00-1.58641254e+01j -1.30047537e+01-2.60661781e+00j\n",
            " -7.58222036e+00-4.54955301e+00j -9.64883651e+00+1.25028703e+01j\n",
            "  8.37028332e-01+6.12565543e+00j  5.33094167e+00+2.23255084e+01j\n",
            " -5.36971956e+00-1.23392034e+01j -5.89691658e-01+1.71887199e+00j\n",
            "  2.56360296e-01-1.79599508e+01j -8.15348946e+00-2.90590288e+00j\n",
            " -2.16473475e+00+3.98990519e+00j -8.36705029e+00-1.02278646e+01j\n",
            "  3.62282513e+00+7.58516973e+00j  5.63510295e+00-8.29059045e+00j\n",
            " -5.79811277e+00+8.66644695e+00j  7.00335524e+00+2.42047664e-01j\n",
            "  1.56848771e+01-2.63861406e+00j  9.45278066e+00-8.63379898e+00j\n",
            " -2.98239354e+00-4.10062122e+00j -1.16454843e+01+2.49741957e+01j\n",
            " -1.19415079e+01+1.34030375e+01j -9.78542286e+00-1.06125920e+01j\n",
            "  1.44660330e+01-1.53437946e+01j -9.27734924e+00-8.75055124e+00j\n",
            " -5.35249748e+00-9.45871608e+00j -1.47485241e+01-1.27463426e+01j\n",
            " -3.87436526e+00+2.23547962e+00j -2.86356474e+00+1.04752101e+01j\n",
            "  6.18484348e-01-2.73718949e+00j  9.10259119e+00+5.43154776e+00j\n",
            "  1.53035116e+01-3.63864930e+00j  4.21949317e+00-1.23454707e+01j\n",
            "  4.99583233e+00+5.91014048e+00j -2.09792068e+00+6.06659285e+00j\n",
            " -1.59199090e+01-4.68342417e-01j -4.08804597e+00-7.05766128e-01j\n",
            "  6.30843977e+00-7.05559237e+00j  6.77348494e+00-2.72861825e-01j\n",
            " -1.52264262e+01+5.58846122e+00j -1.25984400e+01+1.85345004e+00j\n",
            " -1.85315935e+01-1.34896825e+00j  1.88995847e+01+8.84338288e+00j\n",
            "  6.77803871e-01+7.97233548e+00j -9.75864246e+00-1.14993557e+01j\n",
            "  4.35593125e+00+5.25557519e+00j  1.80004019e+01-1.33095553e+01j\n",
            "  2.46866222e+00-2.47925106e+00j  1.06796109e+01-8.87747552e+00j\n",
            " -1.50593580e+01-5.00767789e-01j  1.66067571e+01+4.50933298e+00j\n",
            "  8.89524177e+00+3.67267384e+00j -8.72203768e+00+2.35868106e+00j\n",
            " -1.31444189e+01-2.45019921e+01j -8.32503091e-01+2.89239246e+01j\n",
            "  9.55943886e+00+3.58695911e+00j -3.56837695e+00-1.35321802e+01j\n",
            "  1.96969478e+01-1.50627295e+01j  1.21721975e+00+7.80926347e+00j\n",
            " -6.41651141e+00+1.61979671e+01j -1.07474105e+01+2.55549798e+01j\n",
            " -3.99171734e+00+9.04599936e+00j  2.40647253e+00+3.45875950e+00j\n",
            " -1.89010808e+00-9.80628606e+00j  6.19292413e-01-1.91912434e+01j\n",
            "  5.94230875e+00+2.39680795e-01j  1.91981654e+01-2.45252937e-02j\n",
            " -1.11249428e+01-2.93287515e+00j  9.19251870e+00-2.26683057e+01j\n",
            "  1.03060473e+01-1.21123767e+01j  1.16530452e+01-5.08857831e-01j\n",
            " -1.72258934e+00+7.48024791e+00j  3.56843378e+00+1.06475149e+01j\n",
            "  1.50236290e+00+1.44442646e+01j -8.07598230e+00+4.66728686e+00j\n",
            "  1.14852745e+01-8.17359453e+00j -9.65008991e+00-2.48926459e+00j\n",
            " -4.57681356e+00+2.34432488e-01j -4.55621254e+00+2.11168357e+00j\n",
            " -6.76748811e+00+8.21292032e+00j  1.52299232e+01+7.17176135e+00j\n",
            " -8.04660260e+00-1.07902106e+01j  7.53022685e+00-1.74627312e+00j\n",
            " -1.74817864e+01-2.00151262e+01j -1.20341344e+01+4.58616259e+00j\n",
            "  1.08643712e+01-2.61917579e+01j -7.46714190e+00+1.11422192e+01j\n",
            " -6.39225550e+00+8.07959039e+00j -1.01333191e+00-1.25363170e+01j\n",
            " -4.23452248e+00-1.59677125e+01j  5.23956377e+00-1.18322360e+01j\n",
            "  3.93407203e+00+7.18417936e-01j -1.13322701e+01+9.82897310e+00j\n",
            "  2.19813600e+01-0.00000000e+00j -1.13322701e+01-9.82897310e+00j\n",
            "  3.93407203e+00-7.18417936e-01j  5.23956377e+00+1.18322360e+01j\n",
            " -4.23452248e+00+1.59677125e+01j -1.01333191e+00+1.25363170e+01j\n",
            " -6.39225550e+00-8.07959039e+00j -7.46714190e+00-1.11422192e+01j\n",
            "  1.08643712e+01+2.61917579e+01j -1.20341344e+01-4.58616259e+00j\n",
            " -1.74817864e+01+2.00151262e+01j  7.53022685e+00+1.74627312e+00j\n",
            " -8.04660260e+00+1.07902106e+01j  1.52299232e+01-7.17176135e+00j\n",
            " -6.76748811e+00-8.21292032e+00j -4.55621254e+00-2.11168357e+00j\n",
            " -4.57681356e+00-2.34432488e-01j -9.65008991e+00+2.48926459e+00j\n",
            "  1.14852745e+01+8.17359453e+00j -8.07598230e+00-4.66728686e+00j\n",
            "  1.50236290e+00-1.44442646e+01j  3.56843378e+00-1.06475149e+01j\n",
            " -1.72258934e+00-7.48024791e+00j  1.16530452e+01+5.08857831e-01j\n",
            "  1.03060473e+01+1.21123767e+01j  9.19251870e+00+2.26683057e+01j\n",
            " -1.11249428e+01+2.93287515e+00j  1.91981654e+01+2.45252937e-02j\n",
            "  5.94230875e+00-2.39680795e-01j  6.19292413e-01+1.91912434e+01j\n",
            " -1.89010808e+00+9.80628606e+00j  2.40647253e+00-3.45875950e+00j\n",
            " -3.99171734e+00-9.04599936e+00j -1.07474105e+01-2.55549798e+01j\n",
            " -6.41651141e+00-1.61979671e+01j  1.21721975e+00-7.80926347e+00j\n",
            "  1.96969478e+01+1.50627295e+01j -3.56837695e+00+1.35321802e+01j\n",
            "  9.55943886e+00-3.58695911e+00j -8.32503091e-01-2.89239246e+01j\n",
            " -1.31444189e+01+2.45019921e+01j -8.72203768e+00-2.35868106e+00j\n",
            "  8.89524177e+00-3.67267384e+00j  1.66067571e+01-4.50933298e+00j\n",
            " -1.50593580e+01+5.00767789e-01j  1.06796109e+01+8.87747552e+00j\n",
            "  2.46866222e+00+2.47925106e+00j  1.80004019e+01+1.33095553e+01j\n",
            "  4.35593125e+00-5.25557519e+00j -9.75864246e+00+1.14993557e+01j\n",
            "  6.77803871e-01-7.97233548e+00j  1.88995847e+01-8.84338288e+00j\n",
            " -1.85315935e+01+1.34896825e+00j -1.25984400e+01-1.85345004e+00j\n",
            " -1.52264262e+01-5.58846122e+00j  6.77348494e+00+2.72861825e-01j\n",
            "  6.30843977e+00+7.05559237e+00j -4.08804597e+00+7.05766128e-01j\n",
            " -1.59199090e+01+4.68342417e-01j -2.09792068e+00-6.06659285e+00j\n",
            "  4.99583233e+00-5.91014048e+00j  4.21949317e+00+1.23454707e+01j\n",
            "  1.53035116e+01+3.63864930e+00j  9.10259119e+00-5.43154776e+00j\n",
            "  6.18484348e-01+2.73718949e+00j -2.86356474e+00-1.04752101e+01j\n",
            " -3.87436526e+00-2.23547962e+00j -1.47485241e+01+1.27463426e+01j\n",
            " -5.35249748e+00+9.45871608e+00j -9.27734924e+00+8.75055124e+00j\n",
            "  1.44660330e+01+1.53437946e+01j -9.78542286e+00+1.06125920e+01j\n",
            " -1.19415079e+01-1.34030375e+01j -1.16454843e+01-2.49741957e+01j\n",
            " -2.98239354e+00+4.10062122e+00j  9.45278066e+00+8.63379898e+00j\n",
            "  1.56848771e+01+2.63861406e+00j  7.00335524e+00-2.42047664e-01j\n",
            " -5.79811277e+00-8.66644695e+00j  5.63510295e+00+8.29059045e+00j\n",
            "  3.62282513e+00-7.58516973e+00j -8.36705029e+00+1.02278646e+01j\n",
            " -2.16473475e+00-3.98990519e+00j -8.15348946e+00+2.90590288e+00j\n",
            "  2.56360296e-01+1.79599508e+01j -5.89691658e-01-1.71887199e+00j\n",
            " -5.36971956e+00+1.23392034e+01j  5.33094167e+00-2.23255084e+01j\n",
            "  8.37028332e-01-6.12565543e+00j -9.64883651e+00-1.25028703e+01j\n",
            " -7.58222036e+00+4.54955301e+00j -1.30047537e+01+2.60661781e+00j\n",
            " -7.76759906e+00+1.58641254e+01j  1.15114130e+01+2.33641177e+01j\n",
            "  1.46565153e+01+1.19706036e+01j  3.02093920e+00+7.48482616e+00j\n",
            "  2.13347008e+01-9.47751934e+00j  4.82977121e-01-6.59363817e+00j\n",
            " -8.54694739e+00+2.32508233e+01j -1.22438271e+01+9.80560580e+00j\n",
            "  4.28034025e+00-2.79929199e+01j -1.10464913e+01-8.83442052e+00j\n",
            "  7.30454003e+00-4.11438159e+00j  1.75871497e+01-1.71757685e+00j\n",
            "  9.70181342e+00+3.39695123e+00j -2.03089314e+01+4.98871916e+00j\n",
            "  1.71088711e+01+2.46974596e+01j  2.34250198e+01+7.25227922e+00j\n",
            " -1.67768419e+01-1.19245606e+01j -9.29400649e+00-7.03883816e-01j\n",
            "  2.16517209e+01-1.37349399e-01j -8.25786925e+00+4.52816607e+00j\n",
            " -6.11507294e+00+7.79934325e-01j -6.70839668e+00-1.04148875e+01j\n",
            "  3.24132192e+00+5.78888890e+00j  7.30132435e+00+2.17863904e+00j\n",
            "  7.67932611e+00-1.16698156e+01j  7.62536046e+00+9.77441755e+00j\n",
            " -1.32366675e+00-1.85472634e+01j  9.61121364e+00-5.46507472e+00j\n",
            "  5.05194060e+00-2.66169273e+00j  4.10556997e+00+1.28050319e+00j\n",
            "  7.89250773e+00+1.44257163e+01j  9.07906228e+00+4.75552437e+00j\n",
            "  1.95337218e+00+1.26158387e+01j -1.79039141e+00-3.73300312e+00j\n",
            "  8.67743287e+00+1.62558104e+01j -2.07570563e+01-5.83406383e+00j\n",
            " -2.48840023e+00+2.40851523e+00j -6.61552562e+00-4.75878173e+00j\n",
            " -5.54180749e+00-4.54693499e+00j  7.84846976e+00-1.28899364e+01j\n",
            "  1.66835643e+00-1.55735687e+01j  5.13841668e+00+1.08004282e+01j\n",
            "  2.78931212e+01+2.14086740e+01j  5.41891114e+00-3.49910176e+01j\n",
            " -1.44913940e+01-1.88620342e+01j -1.11740406e+01+1.59198212e+01j\n",
            "  1.11191361e+01+1.03941864e+01j -1.01693216e+01-1.86521237e+00j\n",
            " -3.47113431e+00+9.80797869e+00j  1.37819481e+01-1.44087121e+01j\n",
            "  1.21718845e+00+1.25063431e+01j  2.33627216e+01-1.32961901e+01j\n",
            " -4.61047649e+00-5.35105701e+00j  1.90378388e+00+4.73837674e+00j\n",
            " -1.27307020e+01+2.35278025e+00j -4.19154073e+00+6.84713928e+00j\n",
            " -9.05200992e+00-2.00493500e+00j  5.52151638e-01+8.63461057e+00j\n",
            " -6.03862673e+00-1.34317609e+01j  7.83124773e+00+3.75398291e-01j\n",
            " -1.67918115e+01+2.44682225e+00j -1.63659741e+01-3.21342002e+00j\n",
            "  8.05079677e+00+2.04686465e+01j  1.50305855e+00-3.75224456e+00j\n",
            " -1.14382584e+01-3.58269530e+00j  1.77784310e+00+9.39654571e+00j\n",
            " -2.10195940e+01-2.27628085e-01j  5.81469794e+00-5.93157598e+00j\n",
            "  5.79021606e+00-2.16496230e+01j -7.85994186e+00-5.46032089e+00j\n",
            " -1.92545653e+00-3.41170268e+00j  1.72344388e+01-2.89292694e+01j\n",
            " -1.03284152e+00-1.44495424e+01j  1.07363224e+01-6.56150623e+00j\n",
            " -6.81641453e+00+1.36823101e+01j  3.05373654e+00+1.39466999e+01j\n",
            "  2.76007339e+00-2.42159505e+01j -1.74499146e+01+1.59743630e+01j\n",
            " -5.01421009e-01+1.17697194e+01j  2.62483511e+00+2.01112967e+01j\n",
            "  3.04338006e+00-1.20129586e+01j -3.55609927e+00+9.60787097e+00j\n",
            " -1.05322691e+01+4.17837123e+00j  1.00378299e+01+5.81499083e+00j\n",
            " -4.00799809e+00+2.17807560e+01j -1.40610024e+01-5.53792827e+00j\n",
            "  3.76685200e+00+7.45141555e+00j -9.41955609e-01+8.67432759e+00j\n",
            "  5.16443394e+00-1.11213582e+01j  5.83577832e+00-8.08903969e+00j\n",
            " -2.62899270e+00-1.29339800e+00j  9.01985941e+00-6.62427321e+00j\n",
            "  6.69886682e+00-1.17314659e+01j  1.35078900e+01-3.97216029e+00j\n",
            "  1.25761377e+01+5.31965841e+00j -2.71120356e+00-2.05085213e+00j\n",
            " -1.80748527e+00+1.98229340e+01j -1.79454636e+01-4.92392210e+00j\n",
            "  1.24161207e+01+2.65399911e+00j -8.48920331e+00+2.94572224e+00j\n",
            " -1.61410717e+01+2.54540917e+00j  2.20694008e+00+1.57208827e+01j\n",
            " -1.38006181e+01-6.80783593e+00j -1.48569492e+01-8.07112896e+00j\n",
            "  3.51188662e+00+8.41712569e+00j -3.79848278e+00-1.67937644e+01j\n",
            " -9.45165893e+00+2.03254389e+01j  2.63347124e+00+2.84966590e+00j\n",
            "  4.77922319e+00-1.32866512e+01j -1.06247594e+01+1.94696448e+01j\n",
            "  1.85402310e+01+4.12238162e+00j -4.60222780e+00-7.31177918e+00j\n",
            "  4.75206955e-01-6.91701425e+00j  7.84027521e+00+7.47468326e+00j\n",
            " -1.27594143e+00-9.79641885e+00j -1.35699623e+01-7.25995121e+00j\n",
            " -1.22437671e+01+1.09033719e+01j -4.62266446e+00-3.50769310e+00j\n",
            "  1.01128473e+01+3.49809499e+00j  1.76946508e+01+5.00640874e+00j\n",
            "  4.97130119e+00+2.51691745e+01j -2.44620693e+00+2.19961876e+00j\n",
            "  5.97598368e+00+7.22400933e+00j -1.94000177e-01+9.62059564e+00j\n",
            "  1.73303468e+00-2.43416295e+00j -1.05112588e+01+6.10575836e+00j\n",
            " -2.65057127e+01-6.35768252e+00j -8.20901133e-01+1.40831801e+01j\n",
            "  4.00934690e+00+1.07850099e+01j  5.26169160e+00-1.83362321e+00j\n",
            " -2.64330471e+00-3.35386088e+00j  1.95321960e+01+4.70790432e+00j\n",
            " -2.00639506e+00+1.76301825e+01j  9.27591907e+00+3.52298862e+00j\n",
            "  2.36369804e+01-1.05948687e+01j  2.12385075e+00+1.03354285e+01j\n",
            "  1.88305361e+00-1.17565075e+01j  2.62282061e+01-7.97911475e+00j\n",
            "  1.16283612e+01-2.01677197e+00j  9.86560453e+00+1.94246211e+00j\n",
            "  1.05869376e+01-5.16835651e-01j -7.72276458e+00-4.84548013e+00j\n",
            " -1.23930593e+00+3.69844741e+00j  3.45065464e+00-1.04108228e+01j\n",
            "  5.80505740e+00-1.22055305e+01j  6.44214282e+00-1.24882322e+01j\n",
            " -1.40312315e+01+1.86987535e+01j  9.48268469e+00+1.73591603e-01j\n",
            "  1.81472713e+01+6.47597567e+00j -5.65432670e+00+6.69024024e+00j\n",
            "  6.41126451e+00-3.68160733e+00j -2.47139024e+00-4.07695270e+00j\n",
            "  8.24821164e+00-1.56083134e+01j -3.57210423e+00-2.00991483e+01j\n",
            " -1.66079786e+01-3.83820405e+00j  6.84037810e+00+1.63496913e+01j\n",
            " -3.44151281e+00+6.91385174e+00j  1.23479276e+01+2.58624256e+01j\n",
            " -4.74726032e+00-1.73091403e+00j  8.79776148e+00+7.27911799e+00j\n",
            "  1.41538540e+01+6.42244663e+00j -4.56580710e-03-9.13816835e+00j\n",
            " -1.41095293e+01-5.38542147e-01j -7.40154033e+00+4.61136814e+00j\n",
            " -2.25338963e+01-2.96066651e+00j  1.54103134e+01+1.03759649e+01j\n",
            "  6.82958448e+00+6.26036384e+00j  8.44566626e+00+5.47004910e+00j\n",
            "  1.40979035e+01-1.08541060e+01j -8.03949428e+00+2.22923957e+01j\n",
            " -2.48092045e+01+3.91334127e+00j  5.97472285e+00-8.21665489e+00j\n",
            "  1.10061359e+01-6.42373333e+00j  9.18954470e+00+1.45377417e+01j\n",
            " -2.02311422e+00-4.01639534e+00j -6.70917856e-02-1.46494360e+01j\n",
            "  6.68798389e+00-1.17976500e+01j -1.05767692e+01+1.29493281e+01j\n",
            "  1.50530405e+01+2.68371603e+01j  4.95476174e+00+2.73637094e+01j\n",
            "  8.65548716e+00+5.35465798e+00j  7.28501288e+00+5.33491099e-01j\n",
            "  2.79910625e+01+9.29959985e+00j -7.64091873e+00-1.44692477e+01j\n",
            " -5.05720432e-01-4.88931962e+00j  8.63947757e+00+1.63628944e+00j\n",
            "  1.13043121e+01+1.68809590e+00j -9.62312572e-01-2.30296030e+01j\n",
            " -4.18457204e+00-1.24227509e+01j -1.90065636e+01+9.87138686e+00j\n",
            "  7.49854925e+00+4.13432026e+00j -1.73861497e+01-5.51087812e+00j\n",
            "  1.32525415e+01+2.41857279e+00j -8.82813830e+00+3.49381430e-01j\n",
            " -7.45871545e+00+1.66432062e+01j -1.12765171e+01+1.12231080e+01j\n",
            "  2.38436966e+01-1.47398612e+01j  1.52985761e+01-1.34626913e+01j\n",
            "  9.29536723e+00-1.15111624e+01j -2.54135901e+00-4.21767324e+00j\n",
            " -1.86149221e+01+3.35793366e+00j  7.22253217e+00+1.16996352e+01j\n",
            " -1.47722755e+01+1.01171277e+01j -2.82343488e+00+9.13263549e+00j\n",
            "  3.46530602e-01+1.16911419e+01j  5.29482118e+00-1.25608359e+01j\n",
            " -1.38754304e+01+1.21299141e+00j  3.66081193e+01+2.97530467e+00j\n",
            "  9.44088434e+00-9.53260027e-01j -5.25273522e+00-1.03993103e+01j\n",
            "  5.14454090e-01-4.72011569e+00j  1.26696096e+01+1.00774157e+01j\n",
            " -1.36517934e+01-4.59827777e+00j  1.40695117e+01+7.90553118e+00j\n",
            " -6.35667920e+00-3.34905446e+00j  8.03108478e+00+2.25852341e+00j\n",
            " -5.50331472e+00+1.05713534e+00j -1.58599207e+01+1.32460012e+01j\n",
            "  3.65182699e+00+7.51092843e+00j  1.58864405e+01-2.55693265e+00j\n",
            " -4.28980256e-01-1.05409492e+01j -3.16103586e+00+1.79516619e+01j\n",
            "  2.04418861e+01+1.10943686e+01j  3.56011361e+00+5.70290701e+00j\n",
            " -1.41632778e+01+2.57957710e+01j -6.28202961e+00+2.01167682e+01j\n",
            "  2.43720489e+01+2.71893277e+01j -3.24542071e+00+1.40471202e+01j\n",
            "  1.77927579e+01-9.74060899e+00j -1.11872880e+01+2.58102946e+01j\n",
            "  8.12468403e+00+2.42094474e+00j  8.86002779e+00+1.40717394e+01j\n",
            " -1.45070231e+00-7.43781653e+00j -5.55372540e+00-2.12938261e+01j\n",
            "  2.70926470e+01+4.45326229e+00j -9.47386868e+00+2.03600243e+01j\n",
            "  1.21940089e-01-8.58729520e+00j -2.47870458e+00-1.55691026e+01j\n",
            "  2.36596801e+01-7.00550431e+00j -1.23025147e+00+1.31770533e+01j\n",
            "  6.25083299e+00+8.92790978e+00j -3.45325882e+00+6.09607832e+00j\n",
            " -8.42073706e+00+1.20578844e+01j -2.31280151e+00-3.29309634e+00j\n",
            " -2.39895331e+01-4.51932923e+00j  1.20859012e+01-1.40856925e+01j\n",
            "  8.57810927e+00+7.86026746e+00j  1.25535680e+01-1.88972696e+00j\n",
            "  8.79112855e+00-8.81027358e+00j  8.57903543e+00+6.23509150e+00j\n",
            "  7.39160741e+00+4.32834025e-01j -8.70202165e+00+6.80065788e+00j\n",
            " -5.46936549e+00-4.64549585e+00j  1.56662478e-01-7.36084048e+00j\n",
            " -9.47792778e-01-6.24014401e+00j -4.07696450e-01-6.13919164e+00j\n",
            " -3.23609697e+00+3.59952705e+00j  1.91667101e+01+1.35489445e+01j\n",
            "  3.16730571e+00-1.53262520e+01j  4.49755375e+00+6.17107131e+00j\n",
            " -1.09857442e+01+4.86879745e+00j -1.71969561e+01-1.02476774e+01j\n",
            "  1.33159631e+01-3.45576477e+00j -1.05951818e+01+1.79086294e+01j\n",
            " -1.27000450e+01+5.58636740e+00j -2.63177540e+00-9.45705842e-01j\n",
            " -2.01069891e+01-3.25634975e-01j -8.47333492e+00+1.02510289e+01j\n",
            " -6.17409280e+00-3.55964475e+00j  1.56250403e+01+2.10375435e+01j\n",
            " -2.23509738e+01-1.37872792e+00j -8.24547158e+00+9.18103055e+00j\n",
            "  2.29601062e+01-1.76225920e+01j -1.06973421e+00-2.77869584e+01j\n",
            "  1.87297807e+00+2.11479100e+00j -6.02952084e+00+1.27768418e+01j\n",
            "  2.69011500e+01+4.38034443e+00j -4.68223714e-01-1.07964154e+01j\n",
            " -1.43296000e+01+7.02822902e+00j -1.72814306e+01+1.01635295e+01j\n",
            "  8.35163488e+00+1.53231671e+01j  7.67849664e+00-1.79394183e+01j\n",
            "  3.64244150e+00-5.11142379e+00j  1.04073165e+01-1.68787134e+00j\n",
            "  1.44072195e+01+9.70791841e+00j -9.77240311e-01+7.14805792e+00j\n",
            " -6.91831150e+00+4.19683516e+00j  1.07741330e+01-1.77722822e+01j\n",
            "  1.72224560e+01+1.34138590e+01j  7.20824757e+00+1.54337727e+01j\n",
            "  1.04998544e+01+5.09672205e+00j -2.55114757e+01-1.05832991e+01j\n",
            " -2.34555545e+01+1.60761708e+00j -1.41105985e+01+3.53673638e+00j\n",
            "  1.16641360e+01+8.68760131e+00j  2.42081282e+00+1.59843493e+01j\n",
            " -1.21893261e+01+1.48377439e+01j -2.48710973e+00+2.12874326e+01j\n",
            "  1.22860562e+01+1.27597801e+01j -7.51519957e+00+1.11710013e+01j\n",
            " -2.12942242e+01+2.16076521e+00j  1.12639268e+00-1.35709139e+01j\n",
            "  1.21784927e+01+1.16590309e+01j  7.17282347e+00-4.85786505e+00j\n",
            " -5.71428156e+00+8.50962234e+00j -1.36631019e+01-2.88918695e+00j\n",
            "  1.02352460e+01+1.36096994e+01j -1.39662051e+01-1.77984048e+01j\n",
            "  1.49825005e+00-1.65888101e+01j -3.14605982e+00-1.24609658e+01j\n",
            "  7.16126362e+00+2.84324120e+00j  8.31147391e-01-1.82710604e+00j\n",
            " -1.49435597e+01-7.30522609e+00j  3.22202984e+00-6.03682514e+00j\n",
            " -4.74842243e+00+1.34888880e+01j -2.22016407e+01+1.45442380e+01j\n",
            " -1.27747405e+01-1.12554806e+01j  1.64583119e+01-2.84069326e+00j\n",
            "  6.85612397e+00-1.07385322e+01j  7.62227525e+00-5.93897187e+00j\n",
            " -1.33046297e+01-2.29720251e+01j -5.63773162e+00+3.72027225e+00j\n",
            " -4.97023702e+00+2.71591938e-01j  9.24566486e+00-2.09890740e+01j\n",
            "  7.04761813e+00-1.45069832e+01j -1.21121484e+00+2.13582018e+00j\n",
            "  1.62289910e+01-2.87744759e+00j -5.93540569e+00-9.91352305e+00j\n",
            " -4.62545125e+00-3.16976993e+00j -1.47738776e+01-2.04846412e+01j\n",
            " -2.04911233e+01-2.15729046e+01j -2.62934536e+01-7.41800982e+00j\n",
            "  2.98957558e+00+4.65680470e+00j  2.52420376e+00-6.59154194e+00j\n",
            " -1.63705231e+01+3.49264368e+00j -7.50513427e+00+1.36619090e+00j\n",
            "  1.15629818e+01-1.28209077e+01j  5.96630380e+00+3.93138704e+00j\n",
            " -6.94293450e+00-1.10469152e+01j -2.90288574e+00-4.75546448e+00j\n",
            " -9.00174238e+00-2.81771778e+00j  8.77886559e+00-1.27966417e+01j\n",
            "  1.15363455e+01+1.05901044e+01j -4.77306920e+00+1.53016420e+01j\n",
            "  1.01561908e+00-3.88167434e+00j -1.45992560e+01-7.40488894e+00j\n",
            " -8.15399064e+00-9.05143741e+00j -8.11769940e+00+8.05105242e-01j\n",
            " -1.52159738e+00-1.42594732e+01j -8.71970683e+00+1.10314574e+01j\n",
            "  3.32816311e+00-1.44448563e+01j  3.38659483e+00+1.63628154e+01j\n",
            "  2.85361957e+00-5.89540166e+00j -5.82109099e+00+2.39000988e+01j\n",
            " -4.15203473e+00+6.31787403e+00j -5.05812503e+00+1.61261550e+01j\n",
            "  1.57313660e+01+2.60313506e+00j -1.03493771e+01-1.03980623e+01j\n",
            " -1.18799976e+01-6.63445160e+00j  6.53063922e+00+5.02460821e+00j\n",
            " -1.27453945e+01-7.17697719e+00j  1.83727903e+01+1.27908953e+01j\n",
            "  1.14764629e+01+1.01472713e+00j -1.95070675e+01+2.22659787e+01j\n",
            "  4.07931068e+00+3.42847832e+00j  1.04853568e+01-1.65485227e+01j\n",
            "  3.32539934e+00+1.45930381e+01j -6.85955387e+00+2.89352399e+00j\n",
            " -7.86146382e+00+6.40506928e+00j  1.06557472e+01-6.30130637e+00j\n",
            "  1.33797804e+01-7.78090117e+00j  1.33553891e+01+1.58360050e+01j\n",
            "  1.22413428e+01-7.10819492e+00j -6.78320039e+00-1.11673047e+01j\n",
            " -6.64950408e+00-1.26231692e+01j -7.22705440e+00+3.44928053e+00j\n",
            " -1.48466784e+01-5.66135092e-01j -6.63509956e+00+2.18143931e+00j\n",
            " -6.34298841e+00-1.38854001e+01j  1.64054262e+01+5.42409091e+00j\n",
            "  1.86604610e+01+5.22047404e+00j -1.61601882e+01-3.98193960e-01j\n",
            "  2.55711823e+01-8.98311253e+00j -1.51336814e+01+1.21372315e+01j\n",
            " -1.18397132e+01-2.60843713e+01j -5.91767956e+00-1.43780847e+00j\n",
            " -9.16652759e+00-1.83346842e+01j -1.11426773e+01-2.67765948e+00j\n",
            "  4.99604897e+00-2.19556772e+01j  1.70229232e+01+1.78115681e+00j\n",
            " -9.15797947e+00-3.66632047e+00j  5.99372501e+00+2.81343664e-01j\n",
            "  1.14468867e+01+1.21821941e+01j  4.27100985e+00+6.31905195e+00j\n",
            "  4.78761221e+00+1.13641533e+01j  6.05778476e+00-2.58506547e-01j\n",
            " -5.96711121e+00-4.30199894e-01j  6.83572065e+00-8.20885036e+00j\n",
            " -5.94406725e+00-8.05232214e+00j -7.31051777e+00-1.17751597e+01j\n",
            "  3.46706568e+01-1.95988102e+00j  3.38758158e+00+1.77267982e+01j\n",
            " -1.08291567e+01+6.85737996e+00j  3.03265366e+00-1.93959138e+01j\n",
            " -7.88707380e+00+4.96556281e+02j -1.76368058e+01-1.71528464e-01j\n",
            " -1.60523052e+01+1.16003732e+01j -4.88095005e-01+7.02184377e+00j]\n"
          ],
          "name": "stdout"
        }
      ]
    },
    {
      "cell_type": "markdown",
      "metadata": {
        "id": "VG-31yqlQmeb"
      },
      "source": [
        "#Scipy - Integrate\n"
      ]
    },
    {
      "cell_type": "markdown",
      "metadata": {
        "id": "Dewn2BQvRpl2"
      },
      "source": [
        "The Quad function is the workhorse of SciPy integration functions. Numerical integration is somtimes calles quadrature, hence the name. It is normally the default choice for performing single integrals of a function *f(x)* over a given fixed range from a to b.\n",
        "\n",
        "$$\\int_{a}^{b} f(x)dx$$\n",
        "\n",
        "The general form of quad is scipy.integrate.quad(f,a,b), where 'f' is the name of the function to be integraed, a and b are the lower and upper limits, respectively."
      ]
    },
    {
      "cell_type": "code",
      "metadata": {
        "colab": {
          "base_uri": "https://localhost:8080/"
        },
        "id": "i3CDp98YQaIp",
        "outputId": "fe467f90-1748-4a52-ee73-db3132d0151d"
      },
      "source": [
        "import scipy.integrate\n",
        "from numpy import exp\n",
        "f = lambda x:exp(-x**2)\n",
        "i = scipy.integrate.quad(f, 0, 1)\n",
        "print(i)"
      ],
      "execution_count": 41,
      "outputs": [
        {
          "output_type": "stream",
          "text": [
            "(0.7468241328124271, 8.291413475940725e-15)\n"
          ],
          "name": "stdout"
        }
      ]
    },
    {
      "cell_type": "markdown",
      "metadata": {
        "id": "7md_8yGBSvUJ"
      },
      "source": [
        "The quad functin returns the two values, in which the first number is the value if integral and the second values is the estimate of the absolute error in the value of integral."
      ]
    },
    {
      "cell_type": "markdown",
      "metadata": {
        "id": "ZPZ3r9axTIKS"
      },
      "source": [
        "**Multiple Integral**\n",
        "\n",
        "The mechanics for double and triple integration have been wrapped up into the functions **dblquad, tplquad** and **nquad**.\n",
        "\n",
        "**Double Integrals**\n",
        "\n",
        "The general form of **dblquad** is scpy.integrate.dblquad(func,a,b,gfun,hfun). Where, func is the name of the function to be integrated, a and b are the lower and upper limits of the x variable, respective, while gfun and hfun are the names of the functions that define the lower and upper limits of the y variable.\n",
        "\n",
        "$$\\int_{0}^{1/2} dy \\int_{0}^{\\sqrt{1-4y^2}} 16xy \\:dx$$\n",
        "\n"
      ]
    },
    {
      "cell_type": "code",
      "metadata": {
        "colab": {
          "base_uri": "https://localhost:8080/"
        },
        "id": "Xle-rjGjSsV_",
        "outputId": "6320448e-e345-484b-977d-10b44fbfbd78"
      },
      "source": [
        "import scipy.integrate\n",
        "from numpy import exp\n",
        "from math import sqrt\n",
        "\n",
        "f = lambda x, y : 16*x*y\n",
        "g = lambda x : 0\n",
        "h = lambda y : sqrt(1-4*y**2)\n",
        "i = scipy.integrate.dblquad(f,0,0.5,g,h)\n",
        "print(i)"
      ],
      "execution_count": 42,
      "outputs": [
        {
          "output_type": "stream",
          "text": [
            "(0.5, 1.7092350012594845e-14)\n"
          ],
          "name": "stdout"
        }
      ]
    },
    {
      "cell_type": "markdown",
      "metadata": {
        "id": "hN_zf5kGUmCk"
      },
      "source": [
        "#SciPy - Interpolate"
      ]
    },
    {
      "cell_type": "markdown",
      "metadata": {
        "id": "BKV9SVFEUl6E"
      },
      "source": [
        "Interpolation is the processof finding a value between two points on a line or a curve."
      ]
    },
    {
      "cell_type": "code",
      "metadata": {
        "colab": {
          "base_uri": "https://localhost:8080/"
        },
        "id": "9AtjbZ0RUhbx",
        "outputId": "fd03c3b6-69eb-4378-bda6-899313eb210a"
      },
      "source": [
        "import numpy\n",
        "from scipy import interpolate\n",
        "import matplotlib.pyplot as plt\n",
        "x = np.linspace(0,4,12)\n",
        "y = np.cos(x**2/3+4)\n",
        "print(x)\n",
        "print(y)"
      ],
      "execution_count": 47,
      "outputs": [
        {
          "output_type": "stream",
          "text": [
            "[0.         0.36363636 0.72727273 1.09090909 1.45454545 1.81818182\n",
            " 2.18181818 2.54545455 2.90909091 3.27272727 3.63636364 4.        ]\n",
            "[-0.65364362 -0.61966189 -0.51077021 -0.31047698 -0.00715476  0.37976236\n",
            "  0.76715099  0.99239518  0.85886263  0.27994201 -0.52586509 -0.99582185]\n"
          ],
          "name": "stdout"
        }
      ]
    },
    {
      "cell_type": "markdown",
      "metadata": {
        "id": "0zUIeSTGh56U"
      },
      "source": [
        "Noq, we have two arrays. Assuming those two arrays as the two dimensions of the points in space, let us plot using the following program and see how they look like."
      ]
    },
    {
      "cell_type": "code",
      "metadata": {
        "colab": {
          "base_uri": "https://localhost:8080/",
          "height": 264
        },
        "id": "cVL80DeEhq0T",
        "outputId": "1228d0b5-13c8-43e2-df39-1f16676ddda1"
      },
      "source": [
        "plt.plot(x,y,'o')\n",
        "plt.show()"
      ],
      "execution_count": 48,
      "outputs": [
        {
          "output_type": "display_data",
          "data": {
            "image/png": "[encoded data removed]",
            "text/plain": [
              "<Figure size 432x288 with 1 Axes>"
            ]
          },
          "metadata": {
            "tags": [],
            "needs_background": "light"
          }
        }
      ]
    },
    {
      "cell_type": "code",
      "metadata": {
        "colab": {
          "base_uri": "https://localhost:8080/",
          "height": 264
        },
        "id": "MceBafhFiJrh",
        "outputId": "006b5279-3d13-4d37-da00-7178c1a406fa"
      },
      "source": [
        "f1 = interpolate.interp1d(x,y,kind='linear')\n",
        "f2 = interpolate.interp1d(x,y,kind='cubic')\n",
        "\n",
        "xnew = np.linspace(0,4,30)\n",
        "\n",
        "plt.plot(x,y,'o',xnew,f1(xnew),'-',xnew,f1(xnew),'--')\n",
        "plt.legend(['data','linear','cubic','nearest'],loc='best')\n",
        "plt.show()"
      ],
      "execution_count": 53,
      "outputs": [
        {
          "output_type": "display_data",
          "data": {
            "image/png": "[encoded data removed]",
            "text/plain": [
              "<Figure size 432x288 with 1 Axes>"
            ]
          },
          "metadata": {
            "tags": [],
            "needs_background": "light"
          }
        }
      ]
    },
    {
      "cell_type": "markdown",
      "metadata": {
        "id": "PXZ06VlDj4Aw"
      },
      "source": [
        "**Splines**\n",
        "\n",
        "To draw smooth curves through data points, drafters once used thin flexible strips of wood, hard rubber, metal or plastic called mechanical splines. **Univarite Spline** is a one-dimension smoothing spline fits a given set of data points. The UnivariateSpline class in scipy.interpolate is a convenient method to create a function, based on fixed data points class."
      ]
    },
    {
      "cell_type": "code",
      "metadata": {
        "colab": {
          "base_uri": "https://localhost:8080/",
          "height": 264
        },
        "id": "ArWYE5L7izrR",
        "outputId": "57a3afb9-8705-48cc-b063-c794ed940fee"
      },
      "source": [
        "import matplotlib.pyplot as plt\n",
        "from scipy.interpolate import UnivariateSpline\n",
        "x = np.linspace(-3,3,50)\n",
        "y = np.exp(-x**2) + 0.1 * np.random.randn(50)\n",
        "plt.plot(x,y,'ro',ms=5)\n",
        "plt.show()"
      ],
      "execution_count": 54,
      "outputs": [
        {
          "output_type": "display_data",
          "data": {
            "image/png": "[encoded data removed]",
            "text/plain": [
              "<Figure size 432x288 with 1 Axes>"
            ]
          },
          "metadata": {
            "tags": [],
            "needs_background": "light"
          }
        }
      ]
    },
    {
      "cell_type": "code",
      "metadata": {
        "colab": {
          "base_uri": "https://localhost:8080/",
          "height": 264
        },
        "id": "NGgOAP2OlAE-",
        "outputId": "7cdaf6c7-1f54-48d1-c226-b2f3879fc8be"
      },
      "source": [
        "spl = UnivariateSpline(x,y)\n",
        "xs = np.linspace(-3,3,1000)\n",
        "plt.plot(xs,spl(xs),'g',lw=3)\n",
        "plt.show()"
      ],
      "execution_count": 55,
      "outputs": [
        {
          "output_type": "display_data",
          "data": {
            "image/png": "[encoded data removed]",
            "text/plain": [
              "<Figure size 432x288 with 1 Axes>"
            ]
          },
          "metadata": {
            "tags": [],
            "needs_background": "light"
          }
        }
      ]
    },
    {
      "cell_type": "code",
      "metadata": {
        "colab": {
          "base_uri": "https://localhost:8080/",
          "height": 264
        },
        "id": "38r_zWuclQqW",
        "outputId": "751979a8-8a92-4384-d34e-136df270a8b5"
      },
      "source": [
        "spl.set_smoothing_factor(0.5)\n",
        "plt.plot(xs,spl(xs),'b',lw=3)\n",
        "plt.show()"
      ],
      "execution_count": 57,
      "outputs": [
        {
          "output_type": "display_data",
          "data": {
            "image/png": "[encoded data removed]",
            "text/plain": [
              "<Figure size 432x288 with 1 Axes>"
            ]
          },
          "metadata": {
            "tags": [],
            "needs_background": "light"
          }
        }
      ]
    },
    {
      "cell_type": "code",
      "metadata": {
        "id": "yCT0oj_alZv1"
      },
      "source": [
        ""
      ],
      "execution_count": null,
      "outputs": []
    }
  ]
}